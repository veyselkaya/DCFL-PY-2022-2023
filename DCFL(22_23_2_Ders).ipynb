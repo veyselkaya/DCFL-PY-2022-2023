{
  "nbformat": 4,
  "nbformat_minor": 0,
  "metadata": {
    "colab": {
      "provenance": []
    },
    "kernelspec": {
      "name": "python3",
      "display_name": "Python 3"
    },
    "language_info": {
      "name": "python"
    }
  },
  "cells": [
    {
      "cell_type": "code",
      "execution_count": 1,
      "metadata": {
        "colab": {
          "base_uri": "https://localhost:8080/"
        },
        "id": "eAaK6vJw5klA",
        "outputId": "29e47c1c-6d0f-4af8-b59d-86c73b86cd5e"
      },
      "outputs": [
        {
          "output_type": "stream",
          "name": "stdout",
          "text": [
            "Merhaba DCFL\n"
          ]
        }
      ],
      "source": [
        "#Minik Tekrar\n",
        "#print fonksiyonu.... kodları ekrana yazan fonksiyon\n",
        "#print fonksiyonu print() şeklinde ekullanılır. içine yazılan ifade teext ise \"\" kullanılır.\n",
        "print(\"Merhaba DCFL\")"
      ]
    },
    {
      "cell_type": "code",
      "source": [
        "print(2+5)"
      ],
      "metadata": {
        "colab": {
          "base_uri": "https://localhost:8080/"
        },
        "id": "qChPN7Zu6t98",
        "outputId": "b9d190e0-733a-490d-c921-261d7b316c0e"
      },
      "execution_count": 2,
      "outputs": [
        {
          "output_type": "stream",
          "name": "stdout",
          "text": [
            "7\n"
          ]
        }
      ]
    },
    {
      "cell_type": "code",
      "source": [
        "print(6*5+8-6)"
      ],
      "metadata": {
        "colab": {
          "base_uri": "https://localhost:8080/"
        },
        "id": "ALE3tabK60wu",
        "outputId": "c32d0356-6791-4efe-e2ef-983ec039be90"
      },
      "execution_count": 3,
      "outputs": [
        {
          "output_type": "stream",
          "name": "stdout",
          "text": [
            "32\n"
          ]
        }
      ]
    },
    {
      "cell_type": "code",
      "source": [
        "#veri tipleri... string(text)....int(tam sayı) float(ondalık sayı), bool(true, false)"
      ],
      "metadata": {
        "id": "OUIJ59Q_65px"
      },
      "execution_count": null,
      "outputs": []
    },
    {
      "cell_type": "code",
      "source": [
        "5*3"
      ],
      "metadata": {
        "colab": {
          "base_uri": "https://localhost:8080/"
        },
        "id": "2bv2pOG67RGG",
        "outputId": "8de82027-1ebb-42d9-fd5b-b35a8d92da36"
      },
      "execution_count": 4,
      "outputs": [
        {
          "output_type": "execute_result",
          "data": {
            "text/plain": [
              "15"
            ]
          },
          "metadata": {},
          "execution_count": 4
        }
      ]
    },
    {
      "cell_type": "code",
      "source": [
        "559516**35"
      ],
      "metadata": {
        "colab": {
          "base_uri": "https://localhost:8080/"
        },
        "id": "XZKm35Ne7gD7",
        "outputId": "a953f8cb-d94c-44ae-bccb-343b8eee416f"
      },
      "execution_count": 9,
      "outputs": [
        {
          "output_type": "execute_result",
          "data": {
            "text/plain": [
              "1490863411948174228790399495127210528217994030343274594761925751389955058261081836519089267990041690235092569445073000045142214802670819287331459169593452949379397690709985954141515659445365966976843776"
            ]
          },
          "metadata": {},
          "execution_count": 9
        }
      ]
    },
    {
      "cell_type": "code",
      "source": [
        "#değişken.... değişkenler için ing karakterler j-kullanılmalı ve tek kelimeden oluşmalı... değişken atanırken bir tane = kullanılır...\n",
        "\n",
        "ad = \"Veysel\"\n",
        "soyad = \"Kaya\"\n",
        "\n",
        "print(ad, soyad)"
      ],
      "metadata": {
        "colab": {
          "base_uri": "https://localhost:8080/"
        },
        "id": "DLhn5iz8724l",
        "outputId": "64d9ccf0-6834-4170-9178-533e8e01289c"
      },
      "execution_count": 10,
      "outputs": [
        {
          "output_type": "stream",
          "name": "stdout",
          "text": [
            "Veysel Kaya\n"
          ]
        }
      ]
    },
    {
      "cell_type": "code",
      "source": [
        "#iki sayıbın toplamı\n",
        "\n",
        "a = 30\n",
        "b = 40\n",
        "\n",
        "toplam = a+b\n",
        "carpim = a*b\n",
        "bolum = a/b\n",
        "\n",
        "print(toplam, carpim, bolum)"
      ],
      "metadata": {
        "colab": {
          "base_uri": "https://localhost:8080/"
        },
        "id": "24XSLRts8OTo",
        "outputId": "e351267a-15e4-445f-c62d-b0404b315705"
      },
      "execution_count": 12,
      "outputs": [
        {
          "output_type": "stream",
          "name": "stdout",
          "text": [
            "70 1200 0.75\n"
          ]
        }
      ]
    },
    {
      "cell_type": "code",
      "source": [
        "#input() fonksiyonu.... kullanıcıdan veri almak için kullanılır...."
      ],
      "metadata": {
        "id": "OAIN60is8zLn"
      },
      "execution_count": null,
      "outputs": []
    },
    {
      "cell_type": "code",
      "source": [
        "ad = input(\"Lütfen adınızı giriniz: \")\n",
        "okul = input(\"Okulunuzu giriniz: \")\n",
        "print(ad, okul)"
      ],
      "metadata": {
        "colab": {
          "base_uri": "https://localhost:8080/"
        },
        "id": "tdGUY9aR8-o3",
        "outputId": "618e82f9-3616-4215-95b5-0df808622fbf"
      },
      "execution_count": 15,
      "outputs": [
        {
          "output_type": "stream",
          "name": "stdout",
          "text": [
            "Lütfen adınızı giriniz: ahmet\n",
            "Okulunuzu giriniz: iel\n",
            "ahmet iel\n"
          ]
        }
      ]
    },
    {
      "cell_type": "code",
      "source": [
        "#matematiksel operatörler.. +, -, *, /, % ||, **= üs alma için kullanılır...!"
      ],
      "metadata": {
        "id": "pI25NTDu9nSv"
      },
      "execution_count": null,
      "outputs": []
    },
    {
      "cell_type": "code",
      "source": [
        "#kullanıcıdan iki sayı alıp. 4 temel işlemi yapalım\n",
        "\n",
        "sayi1 = int(input(\"Birinci sayıyı gir: \"))\n",
        "sayi2 = int(input(\"İkinci sayıyı gir: \"))\n",
        "\n",
        "toplama = sayi1+sayi2\n",
        "carpma = sayi1*sayi2\n",
        "bolme = sayi1/sayi2\n",
        "cikarma = sayi1-sayi2\n",
        "\n",
        "print(\"Toplama işleminin sonucu: \", toplama)\n",
        "print(\"Çarpma işleminin sonucu: \", carpma)\n",
        "print(\"Bölme işleminin sonucu: \", bolme)\n",
        "print(\"Çıkarma işleminin sonucu: \", cikarma)"
      ],
      "metadata": {
        "colab": {
          "base_uri": "https://localhost:8080/"
        },
        "id": "vTEzEtNr9z4j",
        "outputId": "e92fd052-6776-4b23-a5c0-10128d12d339"
      },
      "execution_count": 20,
      "outputs": [
        {
          "output_type": "stream",
          "name": "stdout",
          "text": [
            "Birinci sayıyı gir: 20\n",
            "İkinci sayıyı gir: 5\n",
            "Toplama işleminin sonucu:  25\n",
            "Çarpma işleminin sonucu:  100\n",
            "Bölme işleminin sonucu:  4.0\n",
            "Çıkarma işleminin sonucu:  15\n"
          ]
        }
      ]
    },
    {
      "cell_type": "code",
      "source": [
        "#karenin alanını ve çevresini hesaplayan mini program\n",
        "\n",
        "kenar = float(input(\"Karenin kenarını gir: \"))\n",
        "\n",
        "cevre = 4*kenar\n",
        "alan = kenar**2\n",
        "\n",
        "print(\"Girdiğin karenin kenarı: \", kenar)\n",
        "print(\"Karenin alanı: \", alan)\n",
        "print(\"Karenin çevresi: \",cevre )"
      ],
      "metadata": {
        "colab": {
          "base_uri": "https://localhost:8080/"
        },
        "id": "-vBo8Ida_OOW",
        "outputId": "0aea7bc8-4731-4aae-f347-9a819e6631bc"
      },
      "execution_count": 24,
      "outputs": [
        {
          "output_type": "stream",
          "name": "stdout",
          "text": [
            "Karenin kenarını gir: 4.6\n",
            "Girdiğin karenin kenarı:  4.6\n",
            "Karenin alanı:  21.159999999999997\n",
            "Karenin çevresi:  18.4\n"
          ]
        }
      ]
    },
    {
      "cell_type": "code",
      "source": [
        "4**2"
      ],
      "metadata": {
        "colab": {
          "base_uri": "https://localhost:8080/"
        },
        "id": "9cHyhwxNAVfq",
        "outputId": "b6d9aef6-34f0-4df5-ce7f-de4628efd05c"
      },
      "execution_count": 25,
      "outputs": [
        {
          "output_type": "execute_result",
          "data": {
            "text/plain": [
              "16"
            ]
          },
          "metadata": {},
          "execution_count": 25
        }
      ]
    },
    {
      "cell_type": "code",
      "source": [
        "4**(0.5)"
      ],
      "metadata": {
        "colab": {
          "base_uri": "https://localhost:8080/"
        },
        "id": "KuA1GW_JAZOU",
        "outputId": "3bb598bc-8c42-4e29-dd7d-44921f023327"
      },
      "execution_count": 26,
      "outputs": [
        {
          "output_type": "execute_result",
          "data": {
            "text/plain": [
              "2.0"
            ]
          },
          "metadata": {},
          "execution_count": 26
        }
      ]
    },
    {
      "cell_type": "code",
      "source": [
        "#pisagor teoremi...a**2+b**2 = c**2\n",
        "a = int(input(\"Birinci dik kenarı giriniz: \"))\n",
        "b = int(input(\"İkinci dik kenarı giriniz: \"))\n",
        "\n",
        "hipo = (a**2+b**2)**(0.5)\n",
        "\n",
        "print(\"Girdiğin dik kenarlar: \", a, b)\n",
        "print(\"Hipotenüs: \", hipo)"
      ],
      "metadata": {
        "colab": {
          "base_uri": "https://localhost:8080/"
        },
        "id": "p2UJxouWAj5i",
        "outputId": "d79520a9-99b1-4d45-9dcc-3a7f0da1e1a9"
      },
      "execution_count": 28,
      "outputs": [
        {
          "output_type": "stream",
          "name": "stdout",
          "text": [
            "Birinci dik kenarı giriniz: 7\n",
            "İkinci dik kenarı giriniz: 24\n",
            "Girdiğin dik kenarlar:  7 24\n",
            "Hipotenüs:  25.0\n"
          ]
        }
      ]
    },
    {
      "cell_type": "code",
      "source": [
        "#print fonksiyonu çiçin formatlama yöntem..."
      ],
      "metadata": {
        "id": "CBcrizvcB_ax"
      },
      "execution_count": null,
      "outputs": []
    },
    {
      "cell_type": "code",
      "source": [
        "#pisagor teoremi...a**2+b**2 = c**2\n",
        "a = int(input(\"Birinci dik kenarı giriniz: \"))\n",
        "b = int(input(\"İkinci dik kenarı giriniz: \"))\n",
        "\n",
        "hipo = (a**2+b**2)**(0.5)\n",
        "print(f\"Giridiğin dik kenarlar: {a}, {b}. Hipotenüs: {hipo} \")"
      ],
      "metadata": {
        "colab": {
          "base_uri": "https://localhost:8080/"
        },
        "id": "gcNQr4U1CDj4",
        "outputId": "8fd056d1-5ab3-4673-b4cb-8071d0fad6e6"
      },
      "execution_count": 29,
      "outputs": [
        {
          "output_type": "stream",
          "name": "stdout",
          "text": [
            "Birinci dik kenarı giriniz: 3\n",
            "İkinci dik kenarı giriniz: 4\n",
            "Giridğin dik kenarlar: 3, 4. Hipotenüs: 5.0 \n"
          ]
        }
      ]
    },
    {
      "cell_type": "code",
      "source": [
        "#print için bazı metotlar\n",
        "\n",
        "\n",
        "ad = input(\"Adınızı giriniz: \")\n",
        "\n",
        "print(\"Hoşgeldin\", ad.upper())\n",
        "print(\"Hoşgeldin\", ad.lower())\n",
        "print(\"Hoşgeldin\", ad.capitalize())\n"
      ],
      "metadata": {
        "colab": {
          "base_uri": "https://localhost:8080/"
        },
        "id": "F3FQY20aCg3R",
        "outputId": "19f09d7a-6236-4431-89e1-6ce34d6f24e7"
      },
      "execution_count": 33,
      "outputs": [
        {
          "output_type": "stream",
          "name": "stdout",
          "text": [
            "Adınızı giriniz: kAğaN\n",
            "Hoşgeldin KAĞAN\n",
            "Hoşgeldin kağan\n",
            "Hoşgeldin Kağan\n"
          ]
        }
      ]
    },
    {
      "cell_type": "code",
      "source": [
        "#help() fonksiyonu"
      ],
      "metadata": {
        "id": "coQIepHXDTej"
      },
      "execution_count": null,
      "outputs": []
    },
    {
      "cell_type": "code",
      "source": [
        "help(print)"
      ],
      "metadata": {
        "colab": {
          "base_uri": "https://localhost:8080/"
        },
        "id": "7I7Gb6LBDpQO",
        "outputId": "b5e7c010-f4ba-4ff7-a76c-370184d2eaa5"
      },
      "execution_count": 39,
      "outputs": [
        {
          "output_type": "stream",
          "name": "stdout",
          "text": [
            "Help on built-in function print in module builtins:\n",
            "\n",
            "print(...)\n",
            "    print(value, ..., sep=' ', end='\\n', file=sys.stdout, flush=False)\n",
            "    \n",
            "    Prints the values to a stream, or to sys.stdout by default.\n",
            "    Optional keyword arguments:\n",
            "    file:  a file-like object (stream); defaults to the current sys.stdout.\n",
            "    sep:   string inserted between values, default a space.\n",
            "    end:   string appended after the last value, default a newline.\n",
            "    flush: whether to forcibly flush the stream.\n",
            "\n"
          ]
        }
      ]
    },
    {
      "cell_type": "code",
      "source": [
        "#type() fonksiyonu"
      ],
      "metadata": {
        "id": "GbemiWiJEBxw"
      },
      "execution_count": null,
      "outputs": []
    },
    {
      "cell_type": "code",
      "source": [
        "a = \"10.5\""
      ],
      "metadata": {
        "id": "baj-AfC-EKmu"
      },
      "execution_count": 44,
      "outputs": []
    },
    {
      "cell_type": "code",
      "source": [
        "type(a)"
      ],
      "metadata": {
        "colab": {
          "base_uri": "https://localhost:8080/"
        },
        "id": "6jzS0O1XERsW",
        "outputId": "9f760990-dcf1-48cd-bed1-b0f8b0dc2a74"
      },
      "execution_count": 45,
      "outputs": [
        {
          "output_type": "execute_result",
          "data": {
            "text/plain": [
              "str"
            ]
          },
          "metadata": {},
          "execution_count": 45
        }
      ]
    },
    {
      "cell_type": "code",
      "source": [
        "#veri tipi değişkliği\n",
        "\n",
        "a = 10\n",
        "type(a)\n",
        "b = str(a)\n",
        "type(b)"
      ],
      "metadata": {
        "colab": {
          "base_uri": "https://localhost:8080/"
        },
        "id": "wUqFxHsfEfA5",
        "outputId": "6531eaf8-baee-4ffa-995b-70b670552cfd"
      },
      "execution_count": 49,
      "outputs": [
        {
          "output_type": "execute_result",
          "data": {
            "text/plain": [
              "str"
            ]
          },
          "metadata": {},
          "execution_count": 49
        }
      ]
    },
    {
      "cell_type": "code",
      "source": [
        "#Vücut kitle endeksi\n",
        "\n",
        "kilo = input(\"Kilonuzu giriniz: \")\n",
        "boy = float(input(\"Boyunuzu m cinsinden giriniz: \"))\n",
        "kitleEndeksi = float(kilo)/boy**2\n",
        "\n",
        "print(\"Vücut Kitle endeksiniz: \", kitleEndeksi)\n"
      ],
      "metadata": {
        "colab": {
          "base_uri": "https://localhost:8080/"
        },
        "id": "oMZSdWhgE8Rg",
        "outputId": "b171154c-49ea-4337-a50e-f30a4c88e1bd"
      },
      "execution_count": 52,
      "outputs": [
        {
          "output_type": "stream",
          "name": "stdout",
          "text": [
            "Kilonuzu giriniz: 78.4\n",
            "Boyunuzu m cinsinden giriniz: 1.89\n",
            "Vücut Kitle endeksiniz:  21.947873799725656\n"
          ]
        }
      ]
    },
    {
      "cell_type": "code",
      "source": [
        "ad = \"kedi\"\n",
        "\n",
        "x = int(ad)"
      ],
      "metadata": {
        "colab": {
          "base_uri": "https://localhost:8080/",
          "height": 204
        },
        "id": "mYpxvRIiGRDC",
        "outputId": "f4c843ee-6300-4339-f7e7-f6ed37638d7e"
      },
      "execution_count": 53,
      "outputs": [
        {
          "output_type": "error",
          "ename": "ValueError",
          "evalue": "ignored",
          "traceback": [
            "\u001b[0;31m---------------------------------------------------------------------------\u001b[0m",
            "\u001b[0;31mValueError\u001b[0m                                Traceback (most recent call last)",
            "\u001b[0;32m<ipython-input-53-5813c9a86330>\u001b[0m in \u001b[0;36m<module>\u001b[0;34m\u001b[0m\n\u001b[1;32m      1\u001b[0m \u001b[0mad\u001b[0m \u001b[0;34m=\u001b[0m \u001b[0;34m\"kedi\"\u001b[0m\u001b[0;34m\u001b[0m\u001b[0;34m\u001b[0m\u001b[0m\n\u001b[1;32m      2\u001b[0m \u001b[0;34m\u001b[0m\u001b[0m\n\u001b[0;32m----> 3\u001b[0;31m \u001b[0mx\u001b[0m \u001b[0;34m=\u001b[0m \u001b[0mint\u001b[0m\u001b[0;34m(\u001b[0m\u001b[0mad\u001b[0m\u001b[0;34m)\u001b[0m\u001b[0;34m\u001b[0m\u001b[0;34m\u001b[0m\u001b[0m\n\u001b[0m",
            "\u001b[0;31mValueError\u001b[0m: invalid literal for int() with base 10: 'kedi'"
          ]
        }
      ]
    },
    {
      "cell_type": "code",
      "source": [
        "\n",
        "ad = \"20\"\n",
        "print(type(ad))\n",
        "x = int(ad)\n",
        "print(type(x))"
      ],
      "metadata": {
        "colab": {
          "base_uri": "https://localhost:8080/"
        },
        "id": "Q_iSt2HtGZPU",
        "outputId": "e70d6d5f-edba-4c7d-8585-7ac102d4fb26"
      },
      "execution_count": 61,
      "outputs": [
        {
          "output_type": "stream",
          "name": "stdout",
          "text": [
            "<class 'str'>\n",
            "<class 'int'>\n"
          ]
        }
      ]
    },
    {
      "cell_type": "code",
      "source": [
        "#karşılaştırma operatörleri...<,>, <=, >=, ==, !="
      ],
      "metadata": {
        "id": "zcfMZ0xeG_zZ"
      },
      "execution_count": null,
      "outputs": []
    },
    {
      "cell_type": "code",
      "source": [
        "4 == 4"
      ],
      "metadata": {
        "colab": {
          "base_uri": "https://localhost:8080/"
        },
        "id": "h943zglwHIg7",
        "outputId": "8422b134-4b93-4731-91e5-b8f6c6e214f2"
      },
      "execution_count": 62,
      "outputs": [
        {
          "output_type": "execute_result",
          "data": {
            "text/plain": [
              "True"
            ]
          },
          "metadata": {},
          "execution_count": 62
        }
      ]
    },
    {
      "cell_type": "code",
      "source": [
        "6>7"
      ],
      "metadata": {
        "colab": {
          "base_uri": "https://localhost:8080/"
        },
        "id": "N54AbubgHPjJ",
        "outputId": "1379a389-7317-430e-bb74-b7fb04565acf"
      },
      "execution_count": 63,
      "outputs": [
        {
          "output_type": "execute_result",
          "data": {
            "text/plain": [
              "False"
            ]
          },
          "metadata": {},
          "execution_count": 63
        }
      ]
    },
    {
      "cell_type": "code",
      "source": [
        "4 != 5"
      ],
      "metadata": {
        "colab": {
          "base_uri": "https://localhost:8080/"
        },
        "id": "H0ixdC9RHR1o",
        "outputId": "e78b9d7d-ba48-4201-8282-aecda994ed71"
      },
      "execution_count": 64,
      "outputs": [
        {
          "output_type": "execute_result",
          "data": {
            "text/plain": [
              "True"
            ]
          },
          "metadata": {},
          "execution_count": 64
        }
      ]
    },
    {
      "cell_type": "code",
      "source": [
        "#listeler....[] parantezin içine yazılır"
      ],
      "metadata": {
        "id": "-JzbXaM2H7NA"
      },
      "execution_count": null,
      "outputs": []
    },
    {
      "cell_type": "code",
      "source": [
        "malzemeler = [\"Kiraz\", \"Ekmek\", \"Limon\", \"Elma\", \"Jelibon\"]\n",
        "print(malzemeler)"
      ],
      "metadata": {
        "colab": {
          "base_uri": "https://localhost:8080/"
        },
        "id": "BeEq4s0UIO5E",
        "outputId": "4ecd0b42-3a73-495a-80b8-bd573562e44e"
      },
      "execution_count": 67,
      "outputs": [
        {
          "output_type": "stream",
          "name": "stdout",
          "text": [
            "['Kiraz', 'Ekmek', 'Limon', 'Elma', 'Jelibon']\n"
          ]
        }
      ]
    },
    {
      "cell_type": "code",
      "source": [
        "type(malzemeler)"
      ],
      "metadata": {
        "colab": {
          "base_uri": "https://localhost:8080/"
        },
        "id": "hv8W1mBoIeiB",
        "outputId": "2f3cd608-54d9-4420-f793-fa865cb95462"
      },
      "execution_count": 68,
      "outputs": [
        {
          "output_type": "execute_result",
          "data": {
            "text/plain": [
              "list"
            ]
          },
          "metadata": {},
          "execution_count": 68
        }
      ]
    },
    {
      "cell_type": "code",
      "source": [
        "#liste metodları.\n",
        "\n",
        "malzemeler.append(\"Detarjan\")"
      ],
      "metadata": {
        "id": "WZY4k-E7IkF0"
      },
      "execution_count": 69,
      "outputs": []
    },
    {
      "cell_type": "code",
      "source": [
        "malzemeler.append(\"Peçete\")"
      ],
      "metadata": {
        "id": "8WgyNDqGI5qU"
      },
      "execution_count": 70,
      "outputs": []
    },
    {
      "cell_type": "code",
      "source": [
        "print(malzemeler)"
      ],
      "metadata": {
        "colab": {
          "base_uri": "https://localhost:8080/"
        },
        "id": "PnhBt9tZI9i8",
        "outputId": "076f41cd-b93b-4990-a0aa-293bba5ceff5"
      },
      "execution_count": 71,
      "outputs": [
        {
          "output_type": "stream",
          "name": "stdout",
          "text": [
            "['Kiraz', 'Ekmek', 'Limon', 'Elma', 'Jelibon', 'Detarjan', 'Peçete']\n"
          ]
        }
      ]
    },
    {
      "cell_type": "code",
      "source": [
        "malzemeler.pop()"
      ],
      "metadata": {
        "colab": {
          "base_uri": "https://localhost:8080/",
          "height": 35
        },
        "id": "74atEimsJOvD",
        "outputId": "f30dd940-9285-402d-94a4-895cdde005dd"
      },
      "execution_count": 73,
      "outputs": [
        {
          "output_type": "execute_result",
          "data": {
            "text/plain": [
              "'Peçete'"
            ],
            "application/vnd.google.colaboratory.intrinsic+json": {
              "type": "string"
            }
          },
          "metadata": {},
          "execution_count": 73
        }
      ]
    },
    {
      "cell_type": "code",
      "source": [
        "print(malzemeler)"
      ],
      "metadata": {
        "colab": {
          "base_uri": "https://localhost:8080/"
        },
        "id": "vOW1P1vKJY85",
        "outputId": "3e8a1df2-c5e7-484e-96d4-8d104db8ed9b"
      },
      "execution_count": 74,
      "outputs": [
        {
          "output_type": "stream",
          "name": "stdout",
          "text": [
            "['Kiraz', 'Ekmek', 'Limon', 'Elma', 'Jelibon', 'Detarjan']\n"
          ]
        }
      ]
    },
    {
      "cell_type": "code",
      "source": [
        "malzemeler[3]"
      ],
      "metadata": {
        "colab": {
          "base_uri": "https://localhost:8080/",
          "height": 35
        },
        "id": "DC7NkE0cJoII",
        "outputId": "2eaad8cc-7cb5-4d5d-f160-e42b6de0f5e4"
      },
      "execution_count": 75,
      "outputs": [
        {
          "output_type": "execute_result",
          "data": {
            "text/plain": [
              "'Elma'"
            ],
            "application/vnd.google.colaboratory.intrinsic+json": {
              "type": "string"
            }
          },
          "metadata": {},
          "execution_count": 75
        }
      ]
    },
    {
      "cell_type": "code",
      "source": [
        "malzemeler[-2]"
      ],
      "metadata": {
        "colab": {
          "base_uri": "https://localhost:8080/",
          "height": 35
        },
        "id": "TmgqOnF5J2ng",
        "outputId": "a11f1b4c-3c5f-4b2f-cbe1-f25991d701c4"
      },
      "execution_count": 77,
      "outputs": [
        {
          "output_type": "execute_result",
          "data": {
            "text/plain": [
              "'Jelibon'"
            ],
            "application/vnd.google.colaboratory.intrinsic+json": {
              "type": "string"
            }
          },
          "metadata": {},
          "execution_count": 77
        }
      ]
    },
    {
      "cell_type": "code",
      "source": [
        "malzemeler[3:5]"
      ],
      "metadata": {
        "colab": {
          "base_uri": "https://localhost:8080/"
        },
        "id": "JING73C4J-0S",
        "outputId": "d0ea6872-951b-4334-8699-0d458766bc6f"
      },
      "execution_count": 78,
      "outputs": [
        {
          "output_type": "execute_result",
          "data": {
            "text/plain": [
              "['Elma', 'Jelibon']"
            ]
          },
          "metadata": {},
          "execution_count": 78
        }
      ]
    },
    {
      "cell_type": "code",
      "source": [
        "malzemeler.remove(\"Elma\")"
      ],
      "metadata": {
        "id": "doxxpmK4KGri"
      },
      "execution_count": 79,
      "outputs": []
    },
    {
      "cell_type": "code",
      "source": [
        "print(malzemeler)"
      ],
      "metadata": {
        "colab": {
          "base_uri": "https://localhost:8080/"
        },
        "id": "KmrnK3jbKUTc",
        "outputId": "bc5aa506-3331-48c0-8b26-6fc3d3bec727"
      },
      "execution_count": 80,
      "outputs": [
        {
          "output_type": "stream",
          "name": "stdout",
          "text": [
            "['Kiraz', 'Ekmek', 'Limon', 'Jelibon', 'Detarjan']\n"
          ]
        }
      ]
    }
  ]
}