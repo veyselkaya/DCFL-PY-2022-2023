{
  "nbformat": 4,
  "nbformat_minor": 0,
  "metadata": {
    "colab": {
      "provenance": []
    },
    "kernelspec": {
      "name": "python3",
      "display_name": "Python 3"
    },
    "language_info": {
      "name": "python"
    }
  },
  "cells": [
    {
      "cell_type": "markdown",
      "source": [
        "#Python'da veri tipleri\n",
        "#String-int-float-double-bool"
      ],
      "metadata": {
        "id": "lUfhEA_-c8jG"
      }
    },
    {
      "cell_type": "code",
      "source": [
        "#string-text, yaazı karakterleri demek\n",
        "\n",
        "print(\"Merhaba DCFL\")"
      ],
      "metadata": {
        "colab": {
          "base_uri": "https://localhost:8080/"
        },
        "id": "eda1_pt0c-54",
        "outputId": "0e7802dd-1114-42ae-c711-28a1a27cc1a5"
      },
      "execution_count": null,
      "outputs": [
        {
          "output_type": "stream",
          "name": "stdout",
          "text": [
            "Merhaba DCFL\n"
          ]
        }
      ]
    },
    {
      "cell_type": "code",
      "source": [
        "print(\"Merhaba, benim adım Ayşe\")"
      ],
      "metadata": {
        "colab": {
          "base_uri": "https://localhost:8080/"
        },
        "id": "l8BzNqisdVFl",
        "outputId": "65245e02-9863-4132-f566-83f37d58ac42"
      },
      "execution_count": null,
      "outputs": [
        {
          "output_type": "stream",
          "name": "stdout",
          "text": [
            "Merhaba, benim adım Ayşe\n"
          ]
        }
      ]
    },
    {
      "cell_type": "code",
      "source": [
        "#\\n yeni satır demek\n",
        "print(\"Merhaba, benim adım\\n Ayşe\")"
      ],
      "metadata": {
        "colab": {
          "base_uri": "https://localhost:8080/"
        },
        "id": "q00qVDwCdbln",
        "outputId": "bd0b1a2c-5ba4-4669-de7a-7662f5d52c84"
      },
      "execution_count": null,
      "outputs": [
        {
          "output_type": "stream",
          "name": "stdout",
          "text": [
            "Merhaba, benim adım\n",
            " Ayşe\n"
          ]
        }
      ]
    },
    {
      "cell_type": "code",
      "source": [
        "print('DCFL')"
      ],
      "metadata": {
        "colab": {
          "base_uri": "https://localhost:8080/"
        },
        "id": "CkUIhKpbdlyt",
        "outputId": "9b958eb5-c189-44eb-bf59-08d6bbe1640f"
      },
      "execution_count": null,
      "outputs": [
        {
          "output_type": "stream",
          "name": "stdout",
          "text": [
            "DCFL\n"
          ]
        }
      ]
    },
    {
      "cell_type": "code",
      "source": [
        "print(\"Ankara'da çok güzel bir okul var\")"
      ],
      "metadata": {
        "colab": {
          "base_uri": "https://localhost:8080/"
        },
        "id": "4Wz5TbKNdsrS",
        "outputId": "d71b0d56-f4a6-4eef-8842-97b4cdf28d48"
      },
      "execution_count": null,
      "outputs": [
        {
          "output_type": "stream",
          "name": "stdout",
          "text": [
            "Ankara'da çok güzel bir okul var\n"
          ]
        }
      ]
    },
    {
      "cell_type": "code",
      "source": [
        "#int-tam sayılar\n",
        "5+4"
      ],
      "metadata": {
        "colab": {
          "base_uri": "https://localhost:8080/"
        },
        "id": "The70g70eASo",
        "outputId": "fe510cd8-65fb-4d39-d6f0-fa6b34d051f2"
      },
      "execution_count": null,
      "outputs": [
        {
          "output_type": "execute_result",
          "data": {
            "text/plain": [
              "9"
            ]
          },
          "metadata": {},
          "execution_count": 7
        }
      ]
    },
    {
      "cell_type": "code",
      "source": [
        "print(4+5)"
      ],
      "metadata": {
        "colab": {
          "base_uri": "https://localhost:8080/"
        },
        "id": "7Rp4UdHRehzI",
        "outputId": "2c03e881-8f41-4594-b970-4bef057abe42"
      },
      "execution_count": null,
      "outputs": [
        {
          "output_type": "stream",
          "name": "stdout",
          "text": [
            "9\n"
          ]
        }
      ]
    },
    {
      "cell_type": "code",
      "source": [
        "print(\"4+5\")"
      ],
      "metadata": {
        "colab": {
          "base_uri": "https://localhost:8080/"
        },
        "id": "dT8QDBLTepUz",
        "outputId": "71db4028-b742-472b-c6e3-ac4af1a313d2"
      },
      "execution_count": null,
      "outputs": [
        {
          "output_type": "stream",
          "name": "stdout",
          "text": [
            "4+5\n"
          ]
        }
      ]
    },
    {
      "cell_type": "code",
      "source": [
        "5*5"
      ],
      "metadata": {
        "colab": {
          "base_uri": "https://localhost:8080/"
        },
        "id": "l7v_NoMwe2zb",
        "outputId": "430ab574-e395-4481-f098-e169ba568603"
      },
      "execution_count": null,
      "outputs": [
        {
          "output_type": "execute_result",
          "data": {
            "text/plain": [
              "25"
            ]
          },
          "metadata": {},
          "execution_count": 10
        }
      ]
    },
    {
      "cell_type": "code",
      "source": [
        "6/4"
      ],
      "metadata": {
        "colab": {
          "base_uri": "https://localhost:8080/"
        },
        "id": "0vo4e3cge59p",
        "outputId": "2683b153-dd6e-4494-f553-1f4cb71f363f"
      },
      "execution_count": null,
      "outputs": [
        {
          "output_type": "execute_result",
          "data": {
            "text/plain": [
              "1.5"
            ]
          },
          "metadata": {},
          "execution_count": 11
        }
      ]
    },
    {
      "cell_type": "code",
      "source": [
        "10/3"
      ],
      "metadata": {
        "colab": {
          "base_uri": "https://localhost:8080/"
        },
        "id": "nkfUnWUTe8JB",
        "outputId": "71cbef9b-0a3e-48d6-9e92-cc3cc5c90b12"
      },
      "execution_count": null,
      "outputs": [
        {
          "output_type": "execute_result",
          "data": {
            "text/plain": [
              "3.3333333333333335"
            ]
          },
          "metadata": {},
          "execution_count": 12
        }
      ]
    },
    {
      "cell_type": "code",
      "source": [
        "14/9"
      ],
      "metadata": {
        "colab": {
          "base_uri": "https://localhost:8080/"
        },
        "id": "_FZ0H3vkfE8u",
        "outputId": "9e6c1c54-b9fb-48c0-f2b8-3ec2a6d3019f"
      },
      "execution_count": null,
      "outputs": [
        {
          "output_type": "execute_result",
          "data": {
            "text/plain": [
              "1.5555555555555556"
            ]
          },
          "metadata": {},
          "execution_count": 13
        }
      ]
    },
    {
      "cell_type": "code",
      "source": [
        "7-8"
      ],
      "metadata": {
        "colab": {
          "base_uri": "https://localhost:8080/"
        },
        "id": "H2ig7Nz4fP-B",
        "outputId": "1ab178cf-b25b-4325-c0ac-6c5662a5b1b5"
      },
      "execution_count": null,
      "outputs": [
        {
          "output_type": "execute_result",
          "data": {
            "text/plain": [
              "-1"
            ]
          },
          "metadata": {},
          "execution_count": 14
        }
      ]
    },
    {
      "cell_type": "code",
      "source": [
        "print(7-8)"
      ],
      "metadata": {
        "colab": {
          "base_uri": "https://localhost:8080/"
        },
        "id": "PdnnvhSufR5T",
        "outputId": "9af1b8e5-d92f-42e7-dd06-f344524f6b2a"
      },
      "execution_count": null,
      "outputs": [
        {
          "output_type": "stream",
          "name": "stdout",
          "text": [
            "-1\n"
          ]
        }
      ]
    },
    {
      "cell_type": "code",
      "source": [
        "#float-ondalıklı sayılar\n",
        "0.5+0.67"
      ],
      "metadata": {
        "colab": {
          "base_uri": "https://localhost:8080/"
        },
        "id": "hXKbwpeXfUZd",
        "outputId": "3558d97c-e9c8-42eb-80c1-2936e134d0b4"
      },
      "execution_count": null,
      "outputs": [
        {
          "output_type": "execute_result",
          "data": {
            "text/plain": [
              "1.17"
            ]
          },
          "metadata": {},
          "execution_count": 16
        }
      ]
    },
    {
      "cell_type": "code",
      "source": [
        "5>4"
      ],
      "metadata": {
        "colab": {
          "base_uri": "https://localhost:8080/"
        },
        "id": "JlfkNZ6hfgyl",
        "outputId": "4797c5fd-d62f-4ce0-e554-da7d72e7ec92"
      },
      "execution_count": null,
      "outputs": [
        {
          "output_type": "execute_result",
          "data": {
            "text/plain": [
              "True"
            ]
          },
          "metadata": {},
          "execution_count": 17
        }
      ]
    },
    {
      "cell_type": "code",
      "source": [
        "(5>4 and 3<6)"
      ],
      "metadata": {
        "colab": {
          "base_uri": "https://localhost:8080/"
        },
        "id": "vEL_vMsTfkT8",
        "outputId": "32eb248c-997c-42f2-f7a6-c6f5841e683b"
      },
      "execution_count": null,
      "outputs": [
        {
          "output_type": "execute_result",
          "data": {
            "text/plain": [
              "True"
            ]
          },
          "metadata": {},
          "execution_count": 18
        }
      ]
    },
    {
      "cell_type": "code",
      "source": [
        "#matematiksel operatörler\n",
        "# +, - ,*, /, //=tam kısım, %= kalanlı bölme"
      ],
      "metadata": {
        "id": "LSYEBTQLf8d0"
      },
      "execution_count": null,
      "outputs": []
    },
    {
      "cell_type": "code",
      "source": [
        "10 // 4"
      ],
      "metadata": {
        "colab": {
          "base_uri": "https://localhost:8080/"
        },
        "id": "td5HybdZgDvI",
        "outputId": "45bf62fc-19c5-4965-e636-9b34b3b03b94"
      },
      "execution_count": null,
      "outputs": [
        {
          "output_type": "execute_result",
          "data": {
            "text/plain": [
              "2"
            ]
          },
          "metadata": {},
          "execution_count": 20
        }
      ]
    },
    {
      "cell_type": "code",
      "source": [
        "10//7"
      ],
      "metadata": {
        "colab": {
          "base_uri": "https://localhost:8080/"
        },
        "id": "-fXieTORgIwb",
        "outputId": "3bd57524-632f-4554-ea47-270283de2c4e"
      },
      "execution_count": null,
      "outputs": [
        {
          "output_type": "execute_result",
          "data": {
            "text/plain": [
              "1"
            ]
          },
          "metadata": {},
          "execution_count": 22
        }
      ]
    },
    {
      "cell_type": "code",
      "source": [
        "27%5"
      ],
      "metadata": {
        "colab": {
          "base_uri": "https://localhost:8080/"
        },
        "id": "U3cvTEmLgQGJ",
        "outputId": "2286aef8-e4a0-4154-b283-cf111fe62278"
      },
      "execution_count": null,
      "outputs": [
        {
          "output_type": "execute_result",
          "data": {
            "text/plain": [
              "2"
            ]
          },
          "metadata": {},
          "execution_count": 23
        }
      ]
    },
    {
      "cell_type": "code",
      "source": [
        "#değişken atama... değişkenler yazılırken \"\" işaretine gerek yoktur. atama için = eşittir kullanılır!\n",
        "\n",
        "a = 10\n",
        "b = 25\n",
        "toplama = a+b\n",
        "carpim = a*b\n",
        "bolum = a/b\n",
        "\n",
        "print(\"a ve b sayılarının toplamı: \", toplama)\n",
        "print(\"a ve b sayılarının bölümü: \", bolum)\n",
        "print(\"a ve b sayılarının çarpımı: \", carpim)\n"
      ],
      "metadata": {
        "colab": {
          "base_uri": "https://localhost:8080/"
        },
        "id": "pAKqPj-RgdLj",
        "outputId": "5e9d4799-6ccd-496e-8bee-d680abdf7ceb"
      },
      "execution_count": null,
      "outputs": [
        {
          "output_type": "stream",
          "name": "stdout",
          "text": [
            "a ve b sayılarının toplamı:  35\n",
            "a ve b sayılarının bölümü:  0.4\n",
            "a ve b sayılarının çarpımı:  250\n"
          ]
        }
      ]
    },
    {
      "cell_type": "code",
      "source": [
        "ad = \"Veysel\"\n",
        "brans = \"Matematik\"\n",
        "dersYili = 2022\n",
        "\n",
        "print(ad, \"hoca\", dersYili, \"da\", brans, \"Dersimize geldi\")"
      ],
      "metadata": {
        "colab": {
          "base_uri": "https://localhost:8080/"
        },
        "id": "PAOZ3d9RhdOL",
        "outputId": "bf47ea6a-320e-4a87-87c7-857d376e40e0"
      },
      "execution_count": null,
      "outputs": [
        {
          "output_type": "stream",
          "name": "stdout",
          "text": [
            "Veysel hoca 2022 da Matematik Dersimize geldi\n"
          ]
        }
      ]
    },
    {
      "cell_type": "code",
      "source": [
        "#Format yöntemi\n",
        "ad = \"Veysel\"\n",
        "brans = \"Matematik\"\n",
        "dersYili = 2022\n",
        "\n",
        "print(f\"{ad}, hoca {dersYili} yılında {brans} dersimize geldi\")\n"
      ],
      "metadata": {
        "colab": {
          "base_uri": "https://localhost:8080/"
        },
        "id": "LHTs_Ez4h2-y",
        "outputId": "f6051653-4da4-43be-d584-326e549cfe96"
      },
      "execution_count": null,
      "outputs": [
        {
          "output_type": "stream",
          "name": "stdout",
          "text": [
            "Veysel, hoca 2022 yılında Matematik dersimize geldi\n"
          ]
        }
      ]
    },
    {
      "cell_type": "code",
      "source": [
        "ad = \"egemen yakın\"\n",
        "print(ad)"
      ],
      "metadata": {
        "colab": {
          "base_uri": "https://localhost:8080/"
        },
        "id": "aHgUL2F5i1FV",
        "outputId": "79a8e403-8f5a-41e5-ec69-2206c418a9e0"
      },
      "execution_count": null,
      "outputs": [
        {
          "output_type": "stream",
          "name": "stdout",
          "text": [
            "egemen yakın\n"
          ]
        }
      ]
    },
    {
      "cell_type": "code",
      "source": [
        "print(ad.capitalize())"
      ],
      "metadata": {
        "colab": {
          "base_uri": "https://localhost:8080/"
        },
        "id": "_7YI5gk8jIGs",
        "outputId": "4253ff4c-cb0a-4dc9-d09c-9ada41dc7cd6"
      },
      "execution_count": null,
      "outputs": [
        {
          "output_type": "stream",
          "name": "stdout",
          "text": [
            "Egemen yakın\n"
          ]
        }
      ]
    },
    {
      "cell_type": "code",
      "source": [
        "print(ad.upper())"
      ],
      "metadata": {
        "colab": {
          "base_uri": "https://localhost:8080/"
        },
        "id": "90PmHsGOjcf6",
        "outputId": "28be4c73-860b-4709-fcc4-b410a901d727"
      },
      "execution_count": null,
      "outputs": [
        {
          "output_type": "stream",
          "name": "stdout",
          "text": [
            "EGEMEN YAKIN\n"
          ]
        }
      ]
    },
    {
      "cell_type": "code",
      "source": [
        "ad = \"MERHABA DCFL\""
      ],
      "metadata": {
        "id": "4Ta_8GWJjlbb"
      },
      "execution_count": null,
      "outputs": []
    },
    {
      "cell_type": "code",
      "source": [
        "print(ad.capitalize())"
      ],
      "metadata": {
        "colab": {
          "base_uri": "https://localhost:8080/"
        },
        "id": "rQRODuuqjo13",
        "outputId": "35670eb6-8c4a-4e78-f752-98affc9d1fc5"
      },
      "execution_count": null,
      "outputs": [
        {
          "output_type": "stream",
          "name": "stdout",
          "text": [
            "Merhaba dcfl\n"
          ]
        }
      ]
    },
    {
      "cell_type": "code",
      "source": [
        "print(*\"TBMM\")"
      ],
      "metadata": {
        "colab": {
          "base_uri": "https://localhost:8080/"
        },
        "id": "z8g_Am-8kOwA",
        "outputId": "acbcf0a3-7b23-41a5-aa81-00b1663747e9"
      },
      "execution_count": null,
      "outputs": [
        {
          "output_type": "stream",
          "name": "stdout",
          "text": [
            "T B M M\n"
          ]
        }
      ]
    },
    {
      "cell_type": "code",
      "source": [
        "print(*\"TBMM\", sep=\".\" )"
      ],
      "metadata": {
        "colab": {
          "base_uri": "https://localhost:8080/"
        },
        "id": "kM-GUmb2kZie",
        "outputId": "91e8de87-3bb4-4fb8-9f14-c074ddf637e8"
      },
      "execution_count": null,
      "outputs": [
        {
          "output_type": "stream",
          "name": "stdout",
          "text": [
            "T.B.M.M\n"
          ]
        }
      ]
    },
    {
      "cell_type": "code",
      "source": [
        "print(\"Doğan\", \"Cüceloğlu\", sep=\"-\")"
      ],
      "metadata": {
        "colab": {
          "base_uri": "https://localhost:8080/"
        },
        "id": "ExN3kymckqfi",
        "outputId": "10e6a434-4dfe-45fa-e3a3-392d46838e6a"
      },
      "execution_count": null,
      "outputs": [
        {
          "output_type": "stream",
          "name": "stdout",
          "text": [
            "Doğan-Cüceloğlu\n"
          ]
        }
      ]
    },
    {
      "cell_type": "code",
      "source": [
        "print(*\"Doğan Cüceloğlu Fen Lisesi\", sep=\"-\")"
      ],
      "metadata": {
        "colab": {
          "base_uri": "https://localhost:8080/"
        },
        "id": "hyOQ1MzDk-JD",
        "outputId": "3c926f1d-d059-494c-c1cb-d12aa2afec24"
      },
      "execution_count": null,
      "outputs": [
        {
          "output_type": "stream",
          "name": "stdout",
          "text": [
            "D-o-ğ-a-n- -C-ü-c-e-l-o-ğ-l-u- -F-e-n- -L-i-s-e-s-i\n"
          ]
        }
      ]
    },
    {
      "cell_type": "code",
      "source": [
        "print(*\"1234567\", sep=\"\\n\")"
      ],
      "metadata": {
        "colab": {
          "base_uri": "https://localhost:8080/"
        },
        "id": "ylKbNd8blIQR",
        "outputId": "bfdd52fb-ed12-408c-b57f-05c37728a216"
      },
      "execution_count": null,
      "outputs": [
        {
          "output_type": "stream",
          "name": "stdout",
          "text": [
            "1\n",
            "2\n",
            "3\n",
            "4\n",
            "5\n",
            "6\n",
            "7\n"
          ]
        }
      ]
    },
    {
      "cell_type": "code",
      "source": [
        "help(print)"
      ],
      "metadata": {
        "colab": {
          "base_uri": "https://localhost:8080/"
        },
        "id": "_Ym2qF00lgVn",
        "outputId": "34039ff0-a519-490d-9d73-df4781b3b1ae"
      },
      "execution_count": null,
      "outputs": [
        {
          "output_type": "stream",
          "name": "stdout",
          "text": [
            "Help on built-in function print in module builtins:\n",
            "\n",
            "print(...)\n",
            "    print(value, ..., sep=' ', end='\\n', file=sys.stdout, flush=False)\n",
            "    \n",
            "    Prints the values to a stream, or to sys.stdout by default.\n",
            "    Optional keyword arguments:\n",
            "    file:  a file-like object (stream); defaults to the current sys.stdout.\n",
            "    sep:   string inserted between values, default a space.\n",
            "    end:   string appended after the last value, default a newline.\n",
            "    flush: whether to forcibly flush the stream.\n",
            "\n"
          ]
        }
      ]
    },
    {
      "cell_type": "code",
      "source": [
        "a = 890\n",
        "b = 10\n",
        "toplam = a+b\n",
        "print(f\"sayılar {a}, {b}. Toplamları: {toplam} \")"
      ],
      "metadata": {
        "colab": {
          "base_uri": "https://localhost:8080/"
        },
        "id": "LNInXlBflxwq",
        "outputId": "9ce1396f-083f-486e-d313-e1634c0c9981"
      },
      "execution_count": null,
      "outputs": [
        {
          "output_type": "stream",
          "name": "stdout",
          "text": [
            "sayılar 890, 10. Toplamları: 900 \n"
          ]
        }
      ]
    },
    {
      "cell_type": "code",
      "source": [
        "#Kullanıcıdan veri alma... input fonksiyonu\n",
        "ad = input(\"Lütfen adınızı yazınız: \")\n",
        "\n",
        "print(\"Hoşgeldin\", ad)\n"
      ],
      "metadata": {
        "colab": {
          "base_uri": "https://localhost:8080/"
        },
        "id": "hCvPs_QwmI2q",
        "outputId": "015540fa-09e5-4ccd-95ae-68bca4c8a692"
      },
      "execution_count": null,
      "outputs": [
        {
          "output_type": "stream",
          "name": "stdout",
          "text": [
            "Lütfen adınızı yazınız: Ali\n",
            "Hoşgeldin Ali\n"
          ]
        }
      ]
    },
    {
      "cell_type": "code",
      "source": [
        "print(\"iki sayının toplamını bulan python programı\")\n",
        "print(50*\"*\")\n",
        "\n",
        "sayi1 = int(input(\"birinci sayıyı giriniz: \"))\n",
        "sayi2 = int(input(\"ikinci sayıyı giriniz: \"))\n",
        "\n",
        "toplam = sayi1+sayi2\n",
        "\n",
        "print(f\"girdiğiniz sayılar: {sayi1} ve  {sayi2} dir. Toplamları: {toplam}\")"
      ],
      "metadata": {
        "colab": {
          "base_uri": "https://localhost:8080/",
          "height": 240
        },
        "id": "n-O8wKsAmmXs",
        "outputId": "a41beb54-5897-4474-c34c-2c53f19ea1bd"
      },
      "execution_count": 69,
      "outputs": [
        {
          "output_type": "error",
          "ename": "TypeError",
          "evalue": "ignored",
          "traceback": [
            "\u001b[0;31m---------------------------------------------------------------------------\u001b[0m",
            "\u001b[0;31mTypeError\u001b[0m                                 Traceback (most recent call last)",
            "\u001b[0;32m<ipython-input-69-80f366f1d1ba>\u001b[0m in \u001b[0;36m<module>\u001b[0;34m\u001b[0m\n\u001b[0;32m----> 1\u001b[0;31m \u001b[0mprint\u001b[0m\u001b[0;34m(\u001b[0m\u001b[0;34m\"iki sayının toplamını bulan python programı\"\u001b[0m\u001b[0;34m)\u001b[0m\u001b[0;34m\u001b[0m\u001b[0;34m\u001b[0m\u001b[0m\n\u001b[0m\u001b[1;32m      2\u001b[0m \u001b[0mprint\u001b[0m\u001b[0;34m(\u001b[0m\u001b[0;36m50\u001b[0m\u001b[0;34m*\u001b[0m\u001b[0;34m\"*\"\u001b[0m\u001b[0;34m)\u001b[0m\u001b[0;34m\u001b[0m\u001b[0;34m\u001b[0m\u001b[0m\n\u001b[1;32m      3\u001b[0m \u001b[0;34m\u001b[0m\u001b[0m\n\u001b[1;32m      4\u001b[0m \u001b[0msayi1\u001b[0m \u001b[0;34m=\u001b[0m \u001b[0mint\u001b[0m\u001b[0;34m(\u001b[0m\u001b[0minput\u001b[0m\u001b[0;34m(\u001b[0m\u001b[0;34m\"birinci sayıyı giriniz: \"\u001b[0m\u001b[0;34m)\u001b[0m\u001b[0;34m)\u001b[0m\u001b[0;34m\u001b[0m\u001b[0;34m\u001b[0m\u001b[0m\n\u001b[1;32m      5\u001b[0m \u001b[0msayi2\u001b[0m \u001b[0;34m=\u001b[0m \u001b[0mint\u001b[0m\u001b[0;34m(\u001b[0m\u001b[0minput\u001b[0m\u001b[0;34m(\u001b[0m\u001b[0;34m\"ikinci sayıyı giriniz: \"\u001b[0m\u001b[0;34m)\u001b[0m\u001b[0;34m)\u001b[0m\u001b[0;34m\u001b[0m\u001b[0;34m\u001b[0m\u001b[0m\n",
            "\u001b[0;31mTypeError\u001b[0m: 'str' object is not callable"
          ]
        }
      ]
    },
    {
      "cell_type": "code",
      "source": [
        "#ödev: pisagor teoremini kullanıcıdan iki dik kenarın uzunluğunu alarak bulunuz?"
      ],
      "metadata": {
        "id": "NHqUIB9yolw2"
      },
      "execution_count": null,
      "outputs": []
    }
  ]
}