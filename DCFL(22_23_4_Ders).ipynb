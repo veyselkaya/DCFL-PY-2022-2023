{
  "nbformat": 4,
  "nbformat_minor": 0,
  "metadata": {
    "colab": {
      "provenance": []
    },
    "kernelspec": {
      "name": "python3",
      "display_name": "Python 3"
    },
    "language_info": {
      "name": "python"
    }
  },
  "cells": [
    {
      "cell_type": "code",
      "execution_count": null,
      "metadata": {
        "id": "9PP1t5EEGJMa"
      },
      "outputs": [],
      "source": [
        "#minik tekrar"
      ]
    },
    {
      "cell_type": "code",
      "source": [
        "rakamlar = [0,1,2,3,4,5,6,7,8,9]"
      ],
      "metadata": {
        "id": "d-KSmp_wGib4"
      },
      "execution_count": 1,
      "outputs": []
    },
    {
      "cell_type": "code",
      "source": [
        "rakamlar"
      ],
      "metadata": {
        "colab": {
          "base_uri": "https://localhost:8080/"
        },
        "id": "1IvSa06MGwBK",
        "outputId": "a8af22ca-4714-45e0-86d7-54df95b5fa69"
      },
      "execution_count": 2,
      "outputs": [
        {
          "output_type": "execute_result",
          "data": {
            "text/plain": [
              "[0, 1, 2, 3, 4, 5, 6, 7, 8, 9]"
            ]
          },
          "metadata": {},
          "execution_count": 2
        }
      ]
    },
    {
      "cell_type": "code",
      "source": [
        "liste = [1,2,3, \"Elma\", 99, 0.6, -100, \"Kedi\", 99, -100, 500]"
      ],
      "metadata": {
        "id": "7hzZTO7tG1L8"
      },
      "execution_count": 5,
      "outputs": []
    },
    {
      "cell_type": "code",
      "source": [
        "liste"
      ],
      "metadata": {
        "colab": {
          "base_uri": "https://localhost:8080/"
        },
        "id": "bm3vTD6UHBi7",
        "outputId": "8b45159b-f912-43a9-9527-d5e5515ce1a5"
      },
      "execution_count": 6,
      "outputs": [
        {
          "output_type": "execute_result",
          "data": {
            "text/plain": [
              "[1, 2, 3, 'Elma', 99, 0.6, -100, 'Kedi', 99, -100, 500]"
            ]
          },
          "metadata": {},
          "execution_count": 6
        }
      ]
    },
    {
      "cell_type": "code",
      "source": [
        "#listenin uzunluğu\n",
        "\n",
        "\n",
        "len(liste)"
      ],
      "metadata": {
        "colab": {
          "base_uri": "https://localhost:8080/"
        },
        "id": "M0wWiYgQHNlj",
        "outputId": "e487e63a-5b19-4645-e93e-93d6e2f06ae0"
      },
      "execution_count": 7,
      "outputs": [
        {
          "output_type": "execute_result",
          "data": {
            "text/plain": [
              "11"
            ]
          },
          "metadata": {},
          "execution_count": 7
        }
      ]
    },
    {
      "cell_type": "code",
      "source": [
        "#listenin indexi\n",
        "\n",
        "liste[5]"
      ],
      "metadata": {
        "colab": {
          "base_uri": "https://localhost:8080/"
        },
        "id": "IPADzAV7HXJ3",
        "outputId": "31cc576d-fbc4-44c4-ddb7-64da96e9fd7b"
      },
      "execution_count": 8,
      "outputs": [
        {
          "output_type": "execute_result",
          "data": {
            "text/plain": [
              "0.6"
            ]
          },
          "metadata": {},
          "execution_count": 8
        }
      ]
    },
    {
      "cell_type": "code",
      "source": [
        "liste[3:7]"
      ],
      "metadata": {
        "colab": {
          "base_uri": "https://localhost:8080/"
        },
        "id": "ZsJCB2nUHf2j",
        "outputId": "c6066ab9-ba5d-49d4-b303-630fc9da72d3"
      },
      "execution_count": 9,
      "outputs": [
        {
          "output_type": "execute_result",
          "data": {
            "text/plain": [
              "['Elma', 99, 0.6, -100]"
            ]
          },
          "metadata": {},
          "execution_count": 9
        }
      ]
    },
    {
      "cell_type": "code",
      "source": [
        "#tek eleman ekleme\n",
        "\n",
        "liste.append(\"Limon\")"
      ],
      "metadata": {
        "id": "jgqK8qqgHnu0"
      },
      "execution_count": 10,
      "outputs": []
    },
    {
      "cell_type": "code",
      "source": [
        "liste"
      ],
      "metadata": {
        "colab": {
          "base_uri": "https://localhost:8080/"
        },
        "id": "n7gXbiv_Hw57",
        "outputId": "f47ffb08-2d72-458c-a318-6ec4c8c8fd87"
      },
      "execution_count": 11,
      "outputs": [
        {
          "output_type": "execute_result",
          "data": {
            "text/plain": [
              "[1, 2, 3, 'Elma', 99, 0.6, -100, 'Kedi', 99, -100, 500, 'Limon']"
            ]
          },
          "metadata": {},
          "execution_count": 11
        }
      ]
    },
    {
      "cell_type": "code",
      "source": [
        "liste.pop(7)"
      ],
      "metadata": {
        "colab": {
          "base_uri": "https://localhost:8080/",
          "height": 35
        },
        "id": "-BaP4AadHzi5",
        "outputId": "b594d88c-b75a-44a5-f650-a9c5f3f5d53f"
      },
      "execution_count": 12,
      "outputs": [
        {
          "output_type": "execute_result",
          "data": {
            "text/plain": [
              "'Kedi'"
            ],
            "application/vnd.google.colaboratory.intrinsic+json": {
              "type": "string"
            }
          },
          "metadata": {},
          "execution_count": 12
        }
      ]
    },
    {
      "cell_type": "code",
      "source": [
        "liste"
      ],
      "metadata": {
        "colab": {
          "base_uri": "https://localhost:8080/"
        },
        "id": "nnKeriFtH_CB",
        "outputId": "84e5d797-8207-4852-91a2-af2280d415c5"
      },
      "execution_count": 13,
      "outputs": [
        {
          "output_type": "execute_result",
          "data": {
            "text/plain": [
              "[1, 2, 3, 'Elma', 99, 0.6, -100, 99, -100, 500, 'Limon']"
            ]
          },
          "metadata": {},
          "execution_count": 13
        }
      ]
    },
    {
      "cell_type": "code",
      "source": [
        "liste1 = [1,2,3,4,5,500,400,678,9876]\n",
        "liste2 = [2,45,67,899,9999]"
      ],
      "metadata": {
        "id": "F_wrHHSeIRGS"
      },
      "execution_count": 15,
      "outputs": []
    },
    {
      "cell_type": "code",
      "source": [
        "liste3 = liste1+liste2"
      ],
      "metadata": {
        "id": "L-9Ey2NKIaSO"
      },
      "execution_count": 16,
      "outputs": []
    },
    {
      "cell_type": "code",
      "source": [
        "liste3"
      ],
      "metadata": {
        "colab": {
          "base_uri": "https://localhost:8080/"
        },
        "id": "FVTW8R_uIiDc",
        "outputId": "2aeab45f-8fa1-4a6d-86a0-ab480c956a45"
      },
      "execution_count": 17,
      "outputs": [
        {
          "output_type": "execute_result",
          "data": {
            "text/plain": [
              "[1, 2, 3, 4, 5, 500, 400, 678, 9876, 2, 45, 67, 899, 9999]"
            ]
          },
          "metadata": {},
          "execution_count": 17
        }
      ]
    },
    {
      "cell_type": "code",
      "source": [
        "liste3.sort()\n",
        "\n",
        "liste3"
      ],
      "metadata": {
        "colab": {
          "base_uri": "https://localhost:8080/"
        },
        "id": "RUt4EDbKInnz",
        "outputId": "6ff12fba-7392-489b-b633-32c2584b3db0"
      },
      "execution_count": 25,
      "outputs": [
        {
          "output_type": "execute_result",
          "data": {
            "text/plain": [
              "[1, 2, 2, 3, 4, 5, 45, 67, 400, 500, 678, 899, 9876, 9999]"
            ]
          },
          "metadata": {},
          "execution_count": 25
        }
      ]
    },
    {
      "cell_type": "code",
      "source": [
        "liste3.reverse()\n",
        "liste3"
      ],
      "metadata": {
        "colab": {
          "base_uri": "https://localhost:8080/"
        },
        "id": "yVNNxaZ3JIgY",
        "outputId": "ab4c38b2-5779-4f8f-c4c6-5ad7def820ee"
      },
      "execution_count": 26,
      "outputs": [
        {
          "output_type": "execute_result",
          "data": {
            "text/plain": [
              "[9999, 9876, 899, 678, 500, 400, 67, 45, 5, 4, 3, 2, 2, 1]"
            ]
          },
          "metadata": {},
          "execution_count": 26
        }
      ]
    },
    {
      "cell_type": "code",
      "source": [
        "ogrenciListesi = []"
      ],
      "metadata": {
        "id": "QVLqBeD-Jfmt"
      },
      "execution_count": 28,
      "outputs": []
    },
    {
      "cell_type": "code",
      "source": [
        "adSoyad = input(\"Adın soyadın: \")\n",
        "yas = input(\"Yaşın: \")\n",
        "geldiginOkul = input(\"geldiğiniz okulun adı: \")\n",
        "\n",
        "ogrenci = [adSoyad, yas, geldiginOkul]\n",
        "ogrenciListesi.append(ogrenci)"
      ],
      "metadata": {
        "colab": {
          "base_uri": "https://localhost:8080/"
        },
        "id": "EUxRYDiIJRMv",
        "outputId": "10c35a5f-2e41-483b-d438-9d5d8055c3ce"
      },
      "execution_count": 30,
      "outputs": [
        {
          "name": "stdout",
          "output_type": "stream",
          "text": [
            "Adın soyadın: Mehmet Eren\n",
            "Yaşın: 15\n",
            "geldiğiniz okulun adı: Atatürk Lisesi\n"
          ]
        }
      ]
    },
    {
      "cell_type": "code",
      "source": [
        "ogrenciListesi"
      ],
      "metadata": {
        "colab": {
          "base_uri": "https://localhost:8080/"
        },
        "id": "OC4UnQAjJ9nT",
        "outputId": "4e6c08de-df95-4131-8e9b-bb916cbacaed"
      },
      "execution_count": 31,
      "outputs": [
        {
          "output_type": "execute_result",
          "data": {
            "text/plain": [
              "[['Veysel Kaya', '14', 'Gazi AL'], ['Mehmet Eren', '15', 'Atatürk Lisesi']]"
            ]
          },
          "metadata": {},
          "execution_count": 31
        }
      ]
    },
    {
      "cell_type": "code",
      "source": [
        "ogrenciListesi[1]"
      ],
      "metadata": {
        "colab": {
          "base_uri": "https://localhost:8080/"
        },
        "id": "_BZlRigJKF6J",
        "outputId": "bc61cc59-0e61-4613-9606-6d7cd89fd58a"
      },
      "execution_count": 33,
      "outputs": [
        {
          "output_type": "execute_result",
          "data": {
            "text/plain": [
              "['Mehmet Eren', '15', 'Atatürk Lisesi']"
            ]
          },
          "metadata": {},
          "execution_count": 33
        }
      ]
    },
    {
      "cell_type": "code",
      "source": [
        "ogrenciListesi[1][2]"
      ],
      "metadata": {
        "colab": {
          "base_uri": "https://localhost:8080/",
          "height": 35
        },
        "id": "2WchgBrlKcVW",
        "outputId": "2803775e-6f3b-497d-9894-c0e770756f00"
      },
      "execution_count": 34,
      "outputs": [
        {
          "output_type": "execute_result",
          "data": {
            "text/plain": [
              "'Atatürk Lisesi'"
            ],
            "application/vnd.google.colaboratory.intrinsic+json": {
              "type": "string"
            }
          },
          "metadata": {},
          "execution_count": 34
        }
      ]
    },
    {
      "cell_type": "code",
      "source": [
        "#Sözlükler...."
      ],
      "metadata": {
        "id": "JvuOU0RrKkN1"
      },
      "execution_count": null,
      "outputs": []
    },
    {
      "cell_type": "code",
      "source": [
        "sozluk = {\"sıfır\": 0, \"bir\": 1, \"iki\":2, \"üç\":3}"
      ],
      "metadata": {
        "id": "6Bui1-03KwXw"
      },
      "execution_count": 35,
      "outputs": []
    },
    {
      "cell_type": "code",
      "source": [
        "type(sozluk)"
      ],
      "metadata": {
        "colab": {
          "base_uri": "https://localhost:8080/"
        },
        "id": "YWYSycaJK7m_",
        "outputId": "fd6d89ec-4b6d-4962-93fb-4d299b831d93"
      },
      "execution_count": 36,
      "outputs": [
        {
          "output_type": "execute_result",
          "data": {
            "text/plain": [
              "dict"
            ]
          },
          "metadata": {},
          "execution_count": 36
        }
      ]
    },
    {
      "cell_type": "code",
      "source": [
        "sozluk[\"üç\"]"
      ],
      "metadata": {
        "colab": {
          "base_uri": "https://localhost:8080/"
        },
        "id": "EdF7NG3RLFsw",
        "outputId": "f6c3dcd0-9013-4656-ff15-206423d3c6ba"
      },
      "execution_count": 37,
      "outputs": [
        {
          "output_type": "execute_result",
          "data": {
            "text/plain": [
              "3"
            ]
          },
          "metadata": {},
          "execution_count": 37
        }
      ]
    },
    {
      "cell_type": "code",
      "source": [
        "karmaSozluk = {\"rakamlar\": [0,1,2,3,4,5,6,7,8,9], \"meyveler\": [\"elma\", \"kiraz\", \"portakal\" ]}"
      ],
      "metadata": {
        "id": "XYrQAbiYLaUf"
      },
      "execution_count": 38,
      "outputs": []
    },
    {
      "cell_type": "code",
      "source": [
        "karmaSozluk[\"meyveler\"][1]"
      ],
      "metadata": {
        "colab": {
          "base_uri": "https://localhost:8080/",
          "height": 35
        },
        "id": "l2cFy5dTLmv4",
        "outputId": "5fcc770f-ce19-4128-b364-d4e921524cbb"
      },
      "execution_count": 40,
      "outputs": [
        {
          "output_type": "execute_result",
          "data": {
            "text/plain": [
              "'kiraz'"
            ],
            "application/vnd.google.colaboratory.intrinsic+json": {
              "type": "string"
            }
          },
          "metadata": {},
          "execution_count": 40
        }
      ]
    },
    {
      "cell_type": "code",
      "source": [
        "icicesozluk = {\"sayilar\": {\"sıfır\": 0, \"bir\": 1, \"iki\":2}, \"harfler\": {\"A\": \"a\", \"B\":\"b\", \"C\":\"c\"}}"
      ],
      "metadata": {
        "id": "KteUrzHULxir"
      },
      "execution_count": 41,
      "outputs": []
    },
    {
      "cell_type": "code",
      "source": [
        "icicesozluk[\"harfler\"][\"B\"]"
      ],
      "metadata": {
        "colab": {
          "base_uri": "https://localhost:8080/",
          "height": 35
        },
        "id": "46kDiKAjMUD2",
        "outputId": "560151e7-897d-48b3-a143-0638ae55d36f"
      },
      "execution_count": 42,
      "outputs": [
        {
          "output_type": "execute_result",
          "data": {
            "text/plain": [
              "'b'"
            ],
            "application/vnd.google.colaboratory.intrinsic+json": {
              "type": "string"
            }
          },
          "metadata": {},
          "execution_count": 42
        }
      ]
    },
    {
      "cell_type": "code",
      "source": [
        "icicesozluk.keys()"
      ],
      "metadata": {
        "colab": {
          "base_uri": "https://localhost:8080/"
        },
        "id": "9Ri90pkYMjj4",
        "outputId": "af40a749-f111-4245-c1b8-f9ae549c98bf"
      },
      "execution_count": 43,
      "outputs": [
        {
          "output_type": "execute_result",
          "data": {
            "text/plain": [
              "dict_keys(['sayilar', 'harfler'])"
            ]
          },
          "metadata": {},
          "execution_count": 43
        }
      ]
    },
    {
      "cell_type": "code",
      "source": [
        "icicesozluk.values()"
      ],
      "metadata": {
        "colab": {
          "base_uri": "https://localhost:8080/"
        },
        "id": "hnCRi6k3Mrak",
        "outputId": "1a6f4257-4baa-474d-99f1-0381ba74308e"
      },
      "execution_count": 44,
      "outputs": [
        {
          "output_type": "execute_result",
          "data": {
            "text/plain": [
              "dict_values([{'sıfır': 0, 'bir': 1, 'iki': 2}, {'A': 'a', 'B': 'b', 'C': 'c'}])"
            ]
          },
          "metadata": {},
          "execution_count": 44
        }
      ]
    },
    {
      "cell_type": "code",
      "source": [
        "icicesozluk.items()"
      ],
      "metadata": {
        "colab": {
          "base_uri": "https://localhost:8080/"
        },
        "id": "tkEhufM4Mwro",
        "outputId": "ed3d4e46-3b91-4f61-817d-8bd0db09e8d8"
      },
      "execution_count": 45,
      "outputs": [
        {
          "output_type": "execute_result",
          "data": {
            "text/plain": [
              "dict_items([('sayilar', {'sıfır': 0, 'bir': 1, 'iki': 2}), ('harfler', {'A': 'a', 'B': 'b', 'C': 'c'})])"
            ]
          },
          "metadata": {},
          "execution_count": 45
        }
      ]
    },
    {
      "cell_type": "code",
      "source": [
        "#Demetler....\n",
        "\n",
        "demet = (1,2,3,4,5,5,6,6,6,7,7)"
      ],
      "metadata": {
        "id": "EnxuentjNBt2"
      },
      "execution_count": 46,
      "outputs": []
    },
    {
      "cell_type": "code",
      "source": [
        "type(demet)"
      ],
      "metadata": {
        "colab": {
          "base_uri": "https://localhost:8080/"
        },
        "id": "rdjTlozRNQO4",
        "outputId": "010fdea7-c44d-4cbb-afca-506940909a0d"
      },
      "execution_count": 47,
      "outputs": [
        {
          "output_type": "execute_result",
          "data": {
            "text/plain": [
              "tuple"
            ]
          },
          "metadata": {},
          "execution_count": 47
        }
      ]
    },
    {
      "cell_type": "code",
      "source": [
        "demet[-1]"
      ],
      "metadata": {
        "colab": {
          "base_uri": "https://localhost:8080/"
        },
        "id": "Lh5MDHdtNfEJ",
        "outputId": "d519c175-6d73-4212-c74b-1986b0979173"
      },
      "execution_count": 49,
      "outputs": [
        {
          "output_type": "execute_result",
          "data": {
            "text/plain": [
              "7"
            ]
          },
          "metadata": {},
          "execution_count": 49
        }
      ]
    },
    {
      "cell_type": "code",
      "source": [
        "demet2 = (\"Kedi\", 1,2,3,4,5,\"Elma\",2,2,3,3,)"
      ],
      "metadata": {
        "id": "KzIw86yFNl4f"
      },
      "execution_count": 50,
      "outputs": []
    },
    {
      "cell_type": "code",
      "source": [
        "demet2.index(\"Elma\")"
      ],
      "metadata": {
        "colab": {
          "base_uri": "https://localhost:8080/"
        },
        "id": "w7xzjvs_NrSL",
        "outputId": "198cc745-4a03-40d1-a2df-4fc92d0283ac"
      },
      "execution_count": 52,
      "outputs": [
        {
          "output_type": "execute_result",
          "data": {
            "text/plain": [
              "6"
            ]
          },
          "metadata": {},
          "execution_count": 52
        }
      ]
    },
    {
      "cell_type": "code",
      "source": [
        "#type ve dır fonksiyonları"
      ],
      "metadata": {
        "id": "i5vIjH86O0Ml"
      },
      "execution_count": null,
      "outputs": []
    },
    {
      "cell_type": "code",
      "source": [
        "type(5)"
      ],
      "metadata": {
        "colab": {
          "base_uri": "https://localhost:8080/"
        },
        "id": "PBecoVBSO37d",
        "outputId": "c951ebdb-afd7-4e7f-facf-c30e82a2c807"
      },
      "execution_count": 53,
      "outputs": [
        {
          "output_type": "execute_result",
          "data": {
            "text/plain": [
              "int"
            ]
          },
          "metadata": {},
          "execution_count": 53
        }
      ]
    },
    {
      "cell_type": "code",
      "source": [
        "type(\"kedi\")"
      ],
      "metadata": {
        "colab": {
          "base_uri": "https://localhost:8080/"
        },
        "id": "xW8eX4GLO6GD",
        "outputId": "17e0cbbe-c7c2-4d7e-ba73-c9753d6776c0"
      },
      "execution_count": 54,
      "outputs": [
        {
          "output_type": "execute_result",
          "data": {
            "text/plain": [
              "str"
            ]
          },
          "metadata": {},
          "execution_count": 54
        }
      ]
    },
    {
      "cell_type": "code",
      "source": [
        "type(5<6)"
      ],
      "metadata": {
        "colab": {
          "base_uri": "https://localhost:8080/"
        },
        "id": "IKLBrMyFO8Wa",
        "outputId": "fe5b5dff-dbd8-4d0f-ec2c-4c26a2db6fb0"
      },
      "execution_count": 55,
      "outputs": [
        {
          "output_type": "execute_result",
          "data": {
            "text/plain": [
              "bool"
            ]
          },
          "metadata": {},
          "execution_count": 55
        }
      ]
    },
    {
      "cell_type": "code",
      "source": [
        "ad = \"Kedi\"\n",
        "type(ad)"
      ],
      "metadata": {
        "colab": {
          "base_uri": "https://localhost:8080/"
        },
        "id": "25Ou67A2PAkf",
        "outputId": "e41b0003-2875-47c4-b1c2-85e8ad27c4be"
      },
      "execution_count": 56,
      "outputs": [
        {
          "output_type": "execute_result",
          "data": {
            "text/plain": [
              "str"
            ]
          },
          "metadata": {},
          "execution_count": 56
        }
      ]
    },
    {
      "cell_type": "code",
      "source": [
        "#basit hesap makinası\n",
        "\n",
        "#iki sayı için 5 işlem yapan hesap makinası\n",
        "\n",
        "print(\"Mini hesap makinası...\")\n",
        "print(70*\"*\")\n",
        "\n",
        "sayi1 = input(\"birinci sayyıyı gir: \")\n",
        "\n",
        "sayi2 = input(\"ikinci sayyıyı gir: \")\n",
        "\n",
        "\n",
        "toplama = int(sayi1)+int(sayi2)\n",
        "carpma = int(sayi1)*int(sayi2)\n",
        "bolme = int(sayi1)/int(sayi2)\n",
        "cikarma = int(sayi1)-int(sayi2)\n",
        "usalma = int(sayi1)**int(sayi2)\n",
        "\n",
        "print(f\"Girdiğin sayılar: {sayi1}, {sayi2} \")\n",
        "print(f\"Toplamları: {toplama} \")\n",
        "print(f\"Çarpımları: {carpma} \")\n",
        "print(f\"Bölümleri: {bolme} \")\n",
        "print(f\"Farkları: {cikarma} \")\n",
        "print(f\"Üslü hali: {usalma} \")\n"
      ],
      "metadata": {
        "colab": {
          "base_uri": "https://localhost:8080/"
        },
        "id": "tdO7zIW5PqUw",
        "outputId": "ec35ad7f-eb3d-4a09-d7de-5d676db95e91"
      },
      "execution_count": 68,
      "outputs": [
        {
          "output_type": "stream",
          "name": "stdout",
          "text": [
            "Mini hesap makinası...\n",
            "**********************************************************************\n",
            "birinci sayyıyı gir: 4\n",
            "ikinci sayyıyı gir: 5\n",
            "Girdiğin sayılar: 4, 5 \n",
            "Toplamları: 9 \n",
            "Çarpımları: 20 \n",
            "Bölümleri: 0.8 \n",
            "Farkları: -1 \n",
            "Üslü hali: 1024 \n"
          ]
        }
      ]
    },
    {
      "cell_type": "code",
      "source": [
        "#Mantıksal değerler... true, false"
      ],
      "metadata": {
        "id": "26P6BAluR7bk"
      },
      "execution_count": null,
      "outputs": []
    },
    {
      "cell_type": "code",
      "source": [
        "bool(4>3)"
      ],
      "metadata": {
        "colab": {
          "base_uri": "https://localhost:8080/"
        },
        "id": "xbK6w5EfSKwQ",
        "outputId": "f3c3063a-f6c6-4bd6-ae99-549dcdd44f40"
      },
      "execution_count": 69,
      "outputs": [
        {
          "output_type": "execute_result",
          "data": {
            "text/plain": [
              "True"
            ]
          },
          "metadata": {},
          "execution_count": 69
        }
      ]
    },
    {
      "cell_type": "code",
      "source": [
        "bool(4)"
      ],
      "metadata": {
        "colab": {
          "base_uri": "https://localhost:8080/"
        },
        "id": "yEEm9lgqSWhm",
        "outputId": "d97baf51-9d0f-4a2f-e375-f0065f850048"
      },
      "execution_count": 71,
      "outputs": [
        {
          "output_type": "execute_result",
          "data": {
            "text/plain": [
              "True"
            ]
          },
          "metadata": {},
          "execution_count": 71
        }
      ]
    },
    {
      "cell_type": "code",
      "source": [
        "bool(0)"
      ],
      "metadata": {
        "colab": {
          "base_uri": "https://localhost:8080/"
        },
        "id": "vOVKD4vBSiS_",
        "outputId": "9d30ec16-cf67-4ba4-d89c-ff87940e7558"
      },
      "execution_count": 72,
      "outputs": [
        {
          "output_type": "execute_result",
          "data": {
            "text/plain": [
              "False"
            ]
          },
          "metadata": {},
          "execution_count": 72
        }
      ]
    },
    {
      "cell_type": "code",
      "source": [
        "bool(-1)"
      ],
      "metadata": {
        "colab": {
          "base_uri": "https://localhost:8080/"
        },
        "id": "qlt-OTXgSnE_",
        "outputId": "5828ccb3-23ef-428c-abdb-80d19be2efef"
      },
      "execution_count": 73,
      "outputs": [
        {
          "output_type": "execute_result",
          "data": {
            "text/plain": [
              "True"
            ]
          },
          "metadata": {},
          "execution_count": 73
        }
      ]
    },
    {
      "cell_type": "code",
      "source": [
        "(1<10) and ( 10>20)"
      ],
      "metadata": {
        "colab": {
          "base_uri": "https://localhost:8080/"
        },
        "id": "vHEAlBYjSwjp",
        "outputId": "b2fd538a-e095-4ff4-fa2a-84cf0f28af67"
      },
      "execution_count": 74,
      "outputs": [
        {
          "output_type": "execute_result",
          "data": {
            "text/plain": [
              "False"
            ]
          },
          "metadata": {},
          "execution_count": 74
        }
      ]
    },
    {
      "cell_type": "code",
      "source": [
        "(20>10.5) and (5 ==5)"
      ],
      "metadata": {
        "colab": {
          "base_uri": "https://localhost:8080/"
        },
        "id": "9HuZ21x0S5uN",
        "outputId": "92e98360-199c-4ec4-bbda-748a7b7bbf17"
      },
      "execution_count": 75,
      "outputs": [
        {
          "output_type": "execute_result",
          "data": {
            "text/plain": [
              "True"
            ]
          },
          "metadata": {},
          "execution_count": 75
        }
      ]
    },
    {
      "cell_type": "code",
      "source": [
        "#karşılaştırma operatörleri... ==,  !=, <, >, <=, >="
      ],
      "metadata": {
        "id": "5GumO9wXTGEX"
      },
      "execution_count": null,
      "outputs": []
    },
    {
      "cell_type": "code",
      "source": [
        "7<=8"
      ],
      "metadata": {
        "colab": {
          "base_uri": "https://localhost:8080/"
        },
        "id": "vndmb_MeTRvw",
        "outputId": "3825af76-fadb-4087-e022-7d2351ef6336"
      },
      "execution_count": 76,
      "outputs": [
        {
          "output_type": "execute_result",
          "data": {
            "text/plain": [
              "True"
            ]
          },
          "metadata": {},
          "execution_count": 76
        }
      ]
    },
    {
      "cell_type": "code",
      "source": [
        "\"Murat\" == \"Murat\""
      ],
      "metadata": {
        "colab": {
          "base_uri": "https://localhost:8080/"
        },
        "id": "d5ECHXUvTWSY",
        "outputId": "21ba7663-21b9-4cf6-c09e-8795eeb18c53"
      },
      "execution_count": 77,
      "outputs": [
        {
          "output_type": "execute_result",
          "data": {
            "text/plain": [
              "True"
            ]
          },
          "metadata": {},
          "execution_count": 77
        }
      ]
    },
    {
      "cell_type": "code",
      "source": [
        "#Mantıksal bağlaçlar... and, or,  not, "
      ],
      "metadata": {
        "id": "UR4Vs9WVTlOO"
      },
      "execution_count": null,
      "outputs": []
    },
    {
      "cell_type": "code",
      "source": [
        "(1<4 and 8==9) or (5.7>7 or 6>2)"
      ],
      "metadata": {
        "colab": {
          "base_uri": "https://localhost:8080/"
        },
        "id": "QfhgEMvJTvQt",
        "outputId": "4f84e9e0-e1d6-479c-b3e8-17096fa9bab3"
      },
      "execution_count": 78,
      "outputs": [
        {
          "output_type": "execute_result",
          "data": {
            "text/plain": [
              "True"
            ]
          },
          "metadata": {},
          "execution_count": 78
        }
      ]
    },
    {
      "cell_type": "code",
      "source": [
        "1<2 or \"Elma\" == \"Armut\""
      ],
      "metadata": {
        "colab": {
          "base_uri": "https://localhost:8080/"
        },
        "id": "y-hy4kRgT_uh",
        "outputId": "016dd3b8-fa2c-4d32-a232-f98440be5039"
      },
      "execution_count": 79,
      "outputs": [
        {
          "output_type": "execute_result",
          "data": {
            "text/plain": [
              "True"
            ]
          },
          "metadata": {},
          "execution_count": 79
        }
      ]
    },
    {
      "cell_type": "code",
      "source": [
        "not 2==2"
      ],
      "metadata": {
        "colab": {
          "base_uri": "https://localhost:8080/"
        },
        "id": "c4CERgCVUIp0",
        "outputId": "8cdad73c-8c90-49d8-a350-e1c817500c7e"
      },
      "execution_count": 80,
      "outputs": [
        {
          "output_type": "execute_result",
          "data": {
            "text/plain": [
              "False"
            ]
          },
          "metadata": {},
          "execution_count": 80
        }
      ]
    },
    {
      "cell_type": "code",
      "source": [
        "not \"Elma\" == \"Kedi\""
      ],
      "metadata": {
        "colab": {
          "base_uri": "https://localhost:8080/"
        },
        "id": "ACj-U9JKUaec",
        "outputId": "3651f9c1-9bbd-48a5-b8f6-b99c7621e8ad"
      },
      "execution_count": 81,
      "outputs": [
        {
          "output_type": "execute_result",
          "data": {
            "text/plain": [
              "True"
            ]
          },
          "metadata": {},
          "execution_count": 81
        }
      ]
    },
    {
      "cell_type": "code",
      "source": [
        "#koşul duurmları.... if,  else"
      ],
      "metadata": {
        "id": "rByiIZXkUo45"
      },
      "execution_count": null,
      "outputs": []
    },
    {
      "cell_type": "code",
      "source": [
        "sifre = \"Kedi\"\n",
        "\n",
        "if sifre==\"Kedi\":\n",
        "  print(\"Şifreniz doğru\")\n",
        "  print(\"Hoşgeldin\")\n",
        "else:\n",
        "  print(\"ŞİFREN YANLIŞ\")"
      ],
      "metadata": {
        "colab": {
          "base_uri": "https://localhost:8080/"
        },
        "id": "6nXi0cXPUxUc",
        "outputId": "aed0c413-9bb6-4c06-f0b7-83b5df292dd7"
      },
      "execution_count": 85,
      "outputs": [
        {
          "output_type": "stream",
          "name": "stdout",
          "text": [
            "Şifreniz doğru\n",
            "Hoşgeldin\n"
          ]
        }
      ]
    },
    {
      "cell_type": "code",
      "source": [
        "#minik logi olma programı\n",
        "\n",
        "kullaniciAdi = \"kedi\"\n",
        "sifre = 12345\n",
        "\n",
        "if kullaniciAdi == \"kedi\" and sifre ==12345:\n",
        "  print(\"Kullanıcı adınız ve şifeniz doğru. Hoşgeldiniz\")\n",
        "\n",
        "else:\n",
        "  print(\"Kullanıcı adınız veya şifeniz hatalı!!!\")\n"
      ],
      "metadata": {
        "colab": {
          "base_uri": "https://localhost:8080/"
        },
        "id": "PnPZr_7YVQU0",
        "outputId": "37480237-2f8d-4b38-fbe0-14935221554d"
      },
      "execution_count": 87,
      "outputs": [
        {
          "output_type": "stream",
          "name": "stdout",
          "text": [
            "Kullanıcı adınız veya şifeniz hatalı!!!\n"
          ]
        }
      ]
    },
    {
      "cell_type": "code",
      "source": [
        "kAdiDb = \"kedi\"\n",
        "sifreDb = \"12345\"\n"
      ],
      "metadata": {
        "id": "kNrKYHrAWnKF"
      },
      "execution_count": 91,
      "outputs": []
    },
    {
      "cell_type": "code",
      "source": [
        "#kullanıcıdan veri alarak mini login sistemi\n",
        "\n",
        "kAdi = input(\"Kullanıcı adınızı giriniz: \")\n",
        "kSifre = input(\"Şifrenizi giriniz: \")\n",
        "\n",
        "\n",
        "if kAdiDb == kAdi and sifreDb == kSifre:\n",
        "  print(\"Kullanıcı adınız ve şifeniz doğru. Hoşgeldiniz\")\n",
        "\n",
        "else:\n",
        "  print(\"Kullanıcı adınız veya şifeniz hatalı!\")"
      ],
      "metadata": {
        "colab": {
          "base_uri": "https://localhost:8080/"
        },
        "id": "XG1JLbW0VwMt",
        "outputId": "7c524aee-ce48-4e96-869a-b917d4f65e98"
      },
      "execution_count": 92,
      "outputs": [
        {
          "output_type": "stream",
          "name": "stdout",
          "text": [
            "Kullanıcı adınızı giriniz: kedi\n",
            "Şifrenizi giriniz: 12345\n",
            "Kullanıcı adınız ve şifeniz doğru. Hoşgeldiniz\n"
          ]
        }
      ]
    },
    {
      "cell_type": "code",
      "source": [
        "#koşul durmlarını kullanarak... mini bi hesap makinası yapınız!"
      ],
      "metadata": {
        "id": "OQ9eYw4MWv94"
      },
      "execution_count": null,
      "outputs": []
    }
  ]
}