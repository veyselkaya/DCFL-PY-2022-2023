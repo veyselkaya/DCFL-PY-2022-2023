{
  "nbformat": 4,
  "nbformat_minor": 0,
  "metadata": {
    "colab": {
      "provenance": []
    },
    "kernelspec": {
      "name": "python3",
      "display_name": "Python 3"
    },
    "language_info": {
      "name": "python"
    }
  },
  "cells": [
    {
      "cell_type": "code",
      "execution_count": null,
      "metadata": {
        "id": "Y0VsVKb-WLue"
      },
      "outputs": [],
      "source": [
        "#tekrar...modüller"
      ]
    },
    {
      "cell_type": "code",
      "source": [
        "import math"
      ],
      "metadata": {
        "id": "tzBB5sTTWTZB"
      },
      "execution_count": 1,
      "outputs": []
    },
    {
      "cell_type": "code",
      "source": [
        "math.factorial(5)"
      ],
      "metadata": {
        "colab": {
          "base_uri": "https://localhost:8080/"
        },
        "id": "yUgMjaqUWbUT",
        "outputId": "cf33d776-8e5a-4a68-df1d-5147194d35b1"
      },
      "execution_count": 2,
      "outputs": [
        {
          "output_type": "execute_result",
          "data": {
            "text/plain": [
              "120"
            ]
          },
          "metadata": {},
          "execution_count": 2
        }
      ]
    },
    {
      "cell_type": "code",
      "source": [
        "math.pow(3,4)"
      ],
      "metadata": {
        "colab": {
          "base_uri": "https://localhost:8080/"
        },
        "id": "fSfUkePgWgek",
        "outputId": "6b70e4fc-ff6d-465d-ae0d-ac580fdd5f20"
      },
      "execution_count": 3,
      "outputs": [
        {
          "output_type": "execute_result",
          "data": {
            "text/plain": [
              "81.0"
            ]
          },
          "metadata": {},
          "execution_count": 3
        }
      ]
    },
    {
      "cell_type": "code",
      "source": [
        "#random kütüphanesi"
      ],
      "metadata": {
        "id": "rzSuBe57WrAW"
      },
      "execution_count": null,
      "outputs": []
    },
    {
      "cell_type": "code",
      "source": [
        "import random"
      ],
      "metadata": {
        "id": "k-B_jextWtwp"
      },
      "execution_count": 4,
      "outputs": []
    },
    {
      "cell_type": "code",
      "source": [
        "random.randint(1,100)"
      ],
      "metadata": {
        "colab": {
          "base_uri": "https://localhost:8080/"
        },
        "id": "LnMxzeNqW63M",
        "outputId": "1d94a472-1aa7-4906-8f57-f483cb69af1a"
      },
      "execution_count": 15,
      "outputs": [
        {
          "output_type": "execute_result",
          "data": {
            "text/plain": [
              "383"
            ]
          },
          "metadata": {},
          "execution_count": 15
        }
      ]
    },
    {
      "cell_type": "code",
      "source": [
        "#kura seçme uygulaması\n",
        "sinif = [\"Ali\", \"Keram\", \"Murat\", \"Veysel\", \"Merve\", \"Ayşe\", \"Sudenaz\", \"Zeynep\"]\n",
        "kura = random.choice(sinif)\n",
        "print(f\"Kura sonucu: {kura} \")"
      ],
      "metadata": {
        "colab": {
          "base_uri": "https://localhost:8080/"
        },
        "id": "BTVRO0Q_XL09",
        "outputId": "5bbc5a2f-430e-4a09-ba75-0179399a9b77"
      },
      "execution_count": 22,
      "outputs": [
        {
          "output_type": "stream",
          "name": "stdout",
          "text": [
            "Kura sonucu: Ayşe \n"
          ]
        }
      ]
    },
    {
      "cell_type": "code",
      "source": [
        "#kura seçme uygulaması\n",
        "sinif = [\"Ali\", \"Keram\", \"Murat\", \"Veysel\", \"Merve\", \"Ayşe\", \"Sudenaz\", \"Zeynep\"]\n",
        "kura = random.choices(sinif, k=3)\n",
        "print(f\"Kura sonucu: {kura} \")"
      ],
      "metadata": {
        "colab": {
          "base_uri": "https://localhost:8080/"
        },
        "id": "t0QMp7VKXvKn",
        "outputId": "815b03a0-c006-4211-a2b6-9ed0a2d1951c"
      },
      "execution_count": 26,
      "outputs": [
        {
          "output_type": "stream",
          "name": "stdout",
          "text": [
            "Kura sonucu: ['Ali', 'Sudenaz', 'Veysel'] \n"
          ]
        }
      ]
    },
    {
      "cell_type": "code",
      "source": [
        "#sayı tahmin oyunu\n",
        "\n",
        "sayi = random.randint(1,100)\n",
        "sayac = 0\n",
        "\n",
        "while True:\n",
        "  sayac +=1\n",
        "  tahmin = int(input(\"1 den 100 e kadar bir sayı tahmin et...çıkmak için ise 0'a bas!:\"))\n",
        "\n",
        "  if tahmin ==0:\n",
        "    print(\"oyun kapatılıyor...\")\n",
        "    break\n",
        "  elif tahmin<sayi:\n",
        "    print(\"Daha büyük bir sayı girmelisin...\")\n",
        "    continue\n",
        "  elif tahmin>sayi:\n",
        "    print(\"Daha küçük bir sayı girmelisin...\")\n",
        "    continue\n",
        "  else:\n",
        "    print(\"Tebrikler🥳🥳🥳\")\n",
        "    print(f\"Bilgisayarın random seçtiği sayı: {sayi}  \")\n",
        "    print(f\" {sayac}. kerede tahmin ettin... \")\n",
        "    break\n"
      ],
      "metadata": {
        "colab": {
          "base_uri": "https://localhost:8080/"
        },
        "id": "uVITP25VYLef",
        "outputId": "0684c55f-7be6-4a31-f6c9-75999c644e0b"
      },
      "execution_count": 32,
      "outputs": [
        {
          "output_type": "stream",
          "name": "stdout",
          "text": [
            "1 den 100 e kadar bir sayı tahmin et...çıkmak için ise 0'a bas!:78\n",
            "Daha küçük bir sayı girmelisin...\n",
            "1 den 100 e kadar bir sayı tahmin et...çıkmak için ise 0'a bas!:28\n",
            "Daha küçük bir sayı girmelisin...\n",
            "1 den 100 e kadar bir sayı tahmin et...çıkmak için ise 0'a bas!:17\n",
            "Daha küçük bir sayı girmelisin...\n",
            "1 den 100 e kadar bir sayı tahmin et...çıkmak için ise 0'a bas!:9\n",
            "Daha küçük bir sayı girmelisin...\n",
            "1 den 100 e kadar bir sayı tahmin et...çıkmak için ise 0'a bas!:3\n",
            "Daha büyük bir sayı girmelisin...\n",
            "1 den 100 e kadar bir sayı tahmin et...çıkmak için ise 0'a bas!:6\n",
            "Daha küçük bir sayı girmelisin...\n",
            "1 den 100 e kadar bir sayı tahmin et...çıkmak için ise 0'a bas!:5\n",
            "Daha küçük bir sayı girmelisin...\n",
            "1 den 100 e kadar bir sayı tahmin et...çıkmak için ise 0'a bas!:4\n",
            "Tebrikler🥳🥳🥳\n",
            "Bilgisayarın random seçtiği sayı: 4  \n",
            " 8. kerede tahmin ettin... \n"
          ]
        }
      ]
    },
    {
      "cell_type": "code",
      "source": [
        "sifrelerim = []"
      ],
      "metadata": {
        "id": "PUMbXo55gnKf"
      },
      "execution_count": 61,
      "outputs": []
    },
    {
      "cell_type": "code",
      "source": [
        "liste = [\"a\",\"b\",\"c\",\"d\",\"e\",\"1\",\"2\",\"3\",\".\",\"-\",\":\", \"]\",\"A\", \"B\", \"C\", \"x\",\"#\", \"*\", \"+\"]\n",
        "sifre = random.choices(liste, k=12 )\n",
        "\n",
        "sifre2 = \"\"\n",
        "for i in sifre:\n",
        "  sifre2 +=\"\"+i\n",
        "print(sifre2)\n",
        "\n",
        "sifrelerim.append(sifre2.upper())"
      ],
      "metadata": {
        "colab": {
          "base_uri": "https://localhost:8080/"
        },
        "id": "3wRKCuD3c7dB",
        "outputId": "e82a5a86-5f0b-4d7c-b05a-961ed8a1ad3b"
      },
      "execution_count": 72,
      "outputs": [
        {
          "output_type": "stream",
          "name": "stdout",
          "text": [
            "]+:1ee-d22C-\n"
          ]
        }
      ]
    },
    {
      "cell_type": "code",
      "source": [
        "sifrelerim"
      ],
      "metadata": {
        "colab": {
          "base_uri": "https://localhost:8080/"
        },
        "id": "4tmWqJrLg2cy",
        "outputId": "0f18629d-de89-4da7-a113-242eb4c07a09"
      },
      "execution_count": 73,
      "outputs": [
        {
          "output_type": "execute_result",
          "data": {
            "text/plain": [
              "['-Aae21b-]-Ab',\n",
              " 'edc1ba.d:1eC',\n",
              " 'B#b:1b**Cb3]',\n",
              " '-x3ex]eec2#e',\n",
              " 'X3]B]+**..E+',\n",
              " ']+:1EE-D22C-']"
            ]
          },
          "metadata": {},
          "execution_count": 73
        }
      ]
    },
    {
      "cell_type": "code",
      "source": [
        "#time modülü"
      ],
      "metadata": {
        "id": "tcCVzKZxhjzI"
      },
      "execution_count": null,
      "outputs": []
    },
    {
      "cell_type": "code",
      "source": [
        "import time"
      ],
      "metadata": {
        "id": "WRYAyy_3iSja"
      },
      "execution_count": 74,
      "outputs": []
    },
    {
      "cell_type": "code",
      "source": [
        "help(time)"
      ],
      "metadata": {
        "colab": {
          "base_uri": "https://localhost:8080/"
        },
        "id": "dbr7XeUtiVGS",
        "outputId": "aa1f25c4-5f25-4b6a-9746-4fad45e2a08c"
      },
      "execution_count": 75,
      "outputs": [
        {
          "output_type": "stream",
          "name": "stdout",
          "text": [
            "Help on built-in module time:\n",
            "\n",
            "NAME\n",
            "    time - This module provides various functions to manipulate time values.\n",
            "\n",
            "DESCRIPTION\n",
            "    There are two standard representations of time.  One is the number\n",
            "    of seconds since the Epoch, in UTC (a.k.a. GMT).  It may be an integer\n",
            "    or a floating point number (to represent fractions of seconds).\n",
            "    The Epoch is system-defined; on Unix, it is generally January 1st, 1970.\n",
            "    The actual value can be retrieved by calling gmtime(0).\n",
            "    \n",
            "    The other representation is a tuple of 9 integers giving local time.\n",
            "    The tuple items are:\n",
            "      year (including century, e.g. 1998)\n",
            "      month (1-12)\n",
            "      day (1-31)\n",
            "      hours (0-23)\n",
            "      minutes (0-59)\n",
            "      seconds (0-59)\n",
            "      weekday (0-6, Monday is 0)\n",
            "      Julian day (day in the year, 1-366)\n",
            "      DST (Daylight Savings Time) flag (-1, 0 or 1)\n",
            "    If the DST flag is 0, the time is given in the regular time zone;\n",
            "    if it is 1, the time is given in the DST time zone;\n",
            "    if it is -1, mktime() should guess based on the date and time.\n",
            "\n",
            "CLASSES\n",
            "    builtins.tuple(builtins.object)\n",
            "        struct_time\n",
            "    \n",
            "    class struct_time(builtins.tuple)\n",
            "     |  struct_time(iterable=(), /)\n",
            "     |  \n",
            "     |  The time value as returned by gmtime(), localtime(), and strptime(), and\n",
            "     |  accepted by asctime(), mktime() and strftime().  May be considered as a\n",
            "     |  sequence of 9 integers.\n",
            "     |  \n",
            "     |  Note that several fields' values are not the same as those defined by\n",
            "     |  the C language standard for struct tm.  For example, the value of the\n",
            "     |  field tm_year is the actual year, not year - 1900.  See individual\n",
            "     |  fields' descriptions for details.\n",
            "     |  \n",
            "     |  Method resolution order:\n",
            "     |      struct_time\n",
            "     |      builtins.tuple\n",
            "     |      builtins.object\n",
            "     |  \n",
            "     |  Methods defined here:\n",
            "     |  \n",
            "     |  __reduce__(...)\n",
            "     |      Helper for pickle.\n",
            "     |  \n",
            "     |  __repr__(self, /)\n",
            "     |      Return repr(self).\n",
            "     |  \n",
            "     |  ----------------------------------------------------------------------\n",
            "     |  Static methods defined here:\n",
            "     |  \n",
            "     |  __new__(*args, **kwargs) from builtins.type\n",
            "     |      Create and return a new object.  See help(type) for accurate signature.\n",
            "     |  \n",
            "     |  ----------------------------------------------------------------------\n",
            "     |  Data descriptors defined here:\n",
            "     |  \n",
            "     |  tm_gmtoff\n",
            "     |      offset from UTC in seconds\n",
            "     |  \n",
            "     |  tm_hour\n",
            "     |      hours, range [0, 23]\n",
            "     |  \n",
            "     |  tm_isdst\n",
            "     |      1 if summer time is in effect, 0 if not, and -1 if unknown\n",
            "     |  \n",
            "     |  tm_mday\n",
            "     |      day of month, range [1, 31]\n",
            "     |  \n",
            "     |  tm_min\n",
            "     |      minutes, range [0, 59]\n",
            "     |  \n",
            "     |  tm_mon\n",
            "     |      month of year, range [1, 12]\n",
            "     |  \n",
            "     |  tm_sec\n",
            "     |      seconds, range [0, 61])\n",
            "     |  \n",
            "     |  tm_wday\n",
            "     |      day of week, range [0, 6], Monday is 0\n",
            "     |  \n",
            "     |  tm_yday\n",
            "     |      day of year, range [1, 366]\n",
            "     |  \n",
            "     |  tm_year\n",
            "     |      year, for example, 1993\n",
            "     |  \n",
            "     |  tm_zone\n",
            "     |      abbreviation of timezone name\n",
            "     |  \n",
            "     |  ----------------------------------------------------------------------\n",
            "     |  Data and other attributes defined here:\n",
            "     |  \n",
            "     |  n_fields = 11\n",
            "     |  \n",
            "     |  n_sequence_fields = 9\n",
            "     |  \n",
            "     |  n_unnamed_fields = 0\n",
            "     |  \n",
            "     |  ----------------------------------------------------------------------\n",
            "     |  Methods inherited from builtins.tuple:\n",
            "     |  \n",
            "     |  __add__(self, value, /)\n",
            "     |      Return self+value.\n",
            "     |  \n",
            "     |  __contains__(self, key, /)\n",
            "     |      Return key in self.\n",
            "     |  \n",
            "     |  __eq__(self, value, /)\n",
            "     |      Return self==value.\n",
            "     |  \n",
            "     |  __ge__(self, value, /)\n",
            "     |      Return self>=value.\n",
            "     |  \n",
            "     |  __getattribute__(self, name, /)\n",
            "     |      Return getattr(self, name).\n",
            "     |  \n",
            "     |  __getitem__(self, key, /)\n",
            "     |      Return self[key].\n",
            "     |  \n",
            "     |  __getnewargs__(self, /)\n",
            "     |  \n",
            "     |  __gt__(self, value, /)\n",
            "     |      Return self>value.\n",
            "     |  \n",
            "     |  __hash__(self, /)\n",
            "     |      Return hash(self).\n",
            "     |  \n",
            "     |  __iter__(self, /)\n",
            "     |      Implement iter(self).\n",
            "     |  \n",
            "     |  __le__(self, value, /)\n",
            "     |      Return self<=value.\n",
            "     |  \n",
            "     |  __len__(self, /)\n",
            "     |      Return len(self).\n",
            "     |  \n",
            "     |  __lt__(self, value, /)\n",
            "     |      Return self<value.\n",
            "     |  \n",
            "     |  __mul__(self, value, /)\n",
            "     |      Return self*value.\n",
            "     |  \n",
            "     |  __ne__(self, value, /)\n",
            "     |      Return self!=value.\n",
            "     |  \n",
            "     |  __rmul__(self, value, /)\n",
            "     |      Return value*self.\n",
            "     |  \n",
            "     |  count(self, value, /)\n",
            "     |      Return number of occurrences of value.\n",
            "     |  \n",
            "     |  index(self, value, start=0, stop=9223372036854775807, /)\n",
            "     |      Return first index of value.\n",
            "     |      \n",
            "     |      Raises ValueError if the value is not present.\n",
            "\n",
            "FUNCTIONS\n",
            "    asctime(...)\n",
            "        asctime([tuple]) -> string\n",
            "        \n",
            "        Convert a time tuple to a string, e.g. 'Sat Jun 06 16:26:11 1998'.\n",
            "        When the time tuple is not present, current time as returned by localtime()\n",
            "        is used.\n",
            "    \n",
            "    clock_getres(...)\n",
            "        clock_getres(clk_id) -> floating point number\n",
            "        \n",
            "        Return the resolution (precision) of the specified clock clk_id.\n",
            "    \n",
            "    clock_gettime(...)\n",
            "        clock_gettime(clk_id) -> float\n",
            "        \n",
            "        Return the time of the specified clock clk_id.\n",
            "    \n",
            "    clock_gettime_ns(...)\n",
            "        clock_gettime_ns(clk_id) -> int\n",
            "        \n",
            "        Return the time of the specified clock clk_id as nanoseconds.\n",
            "    \n",
            "    clock_settime(...)\n",
            "        clock_settime(clk_id, time)\n",
            "        \n",
            "        Set the time of the specified clock clk_id.\n",
            "    \n",
            "    clock_settime_ns(...)\n",
            "        clock_settime_ns(clk_id, time)\n",
            "        \n",
            "        Set the time of the specified clock clk_id with nanoseconds.\n",
            "    \n",
            "    ctime(...)\n",
            "        ctime(seconds) -> string\n",
            "        \n",
            "        Convert a time in seconds since the Epoch to a string in local time.\n",
            "        This is equivalent to asctime(localtime(seconds)). When the time tuple is\n",
            "        not present, current time as returned by localtime() is used.\n",
            "    \n",
            "    get_clock_info(...)\n",
            "        get_clock_info(name: str) -> dict\n",
            "        \n",
            "        Get information of the specified clock.\n",
            "    \n",
            "    gmtime(...)\n",
            "        gmtime([seconds]) -> (tm_year, tm_mon, tm_mday, tm_hour, tm_min,\n",
            "                               tm_sec, tm_wday, tm_yday, tm_isdst)\n",
            "        \n",
            "        Convert seconds since the Epoch to a time tuple expressing UTC (a.k.a.\n",
            "        GMT).  When 'seconds' is not passed in, convert the current time instead.\n",
            "        \n",
            "        If the platform supports the tm_gmtoff and tm_zone, they are available as\n",
            "        attributes only.\n",
            "    \n",
            "    localtime(...)\n",
            "        localtime([seconds]) -> (tm_year,tm_mon,tm_mday,tm_hour,tm_min,\n",
            "                                  tm_sec,tm_wday,tm_yday,tm_isdst)\n",
            "        \n",
            "        Convert seconds since the Epoch to a time tuple expressing local time.\n",
            "        When 'seconds' is not passed in, convert the current time instead.\n",
            "    \n",
            "    mktime(...)\n",
            "        mktime(tuple) -> floating point number\n",
            "        \n",
            "        Convert a time tuple in local time to seconds since the Epoch.\n",
            "        Note that mktime(gmtime(0)) will not generally return zero for most\n",
            "        time zones; instead the returned value will either be equal to that\n",
            "        of the timezone or altzone attributes on the time module.\n",
            "    \n",
            "    monotonic(...)\n",
            "        monotonic() -> float\n",
            "        \n",
            "        Monotonic clock, cannot go backward.\n",
            "    \n",
            "    monotonic_ns(...)\n",
            "        monotonic_ns() -> int\n",
            "        \n",
            "        Monotonic clock, cannot go backward, as nanoseconds.\n",
            "    \n",
            "    perf_counter(...)\n",
            "        perf_counter() -> float\n",
            "        \n",
            "        Performance counter for benchmarking.\n",
            "    \n",
            "    perf_counter_ns(...)\n",
            "        perf_counter_ns() -> int\n",
            "        \n",
            "        Performance counter for benchmarking as nanoseconds.\n",
            "    \n",
            "    process_time(...)\n",
            "        process_time() -> float\n",
            "        \n",
            "        Process time for profiling: sum of the kernel and user-space CPU time.\n",
            "    \n",
            "    process_time_ns(...)\n",
            "        process_time() -> int\n",
            "        \n",
            "        Process time for profiling as nanoseconds:\n",
            "        sum of the kernel and user-space CPU time.\n",
            "    \n",
            "    pthread_getcpuclockid(...)\n",
            "        pthread_getcpuclockid(thread_id) -> int\n",
            "        \n",
            "        Return the clk_id of a thread's CPU time clock.\n",
            "    \n",
            "    sleep(...)\n",
            "        sleep(seconds)\n",
            "        \n",
            "        Delay execution for a given number of seconds.  The argument may be\n",
            "        a floating point number for subsecond precision.\n",
            "    \n",
            "    strftime(...)\n",
            "        strftime(format[, tuple]) -> string\n",
            "        \n",
            "        Convert a time tuple to a string according to a format specification.\n",
            "        See the library reference manual for formatting codes. When the time tuple\n",
            "        is not present, current time as returned by localtime() is used.\n",
            "        \n",
            "        Commonly used format codes:\n",
            "        \n",
            "        %Y  Year with century as a decimal number.\n",
            "        %m  Month as a decimal number [01,12].\n",
            "        %d  Day of the month as a decimal number [01,31].\n",
            "        %H  Hour (24-hour clock) as a decimal number [00,23].\n",
            "        %M  Minute as a decimal number [00,59].\n",
            "        %S  Second as a decimal number [00,61].\n",
            "        %z  Time zone offset from UTC.\n",
            "        %a  Locale's abbreviated weekday name.\n",
            "        %A  Locale's full weekday name.\n",
            "        %b  Locale's abbreviated month name.\n",
            "        %B  Locale's full month name.\n",
            "        %c  Locale's appropriate date and time representation.\n",
            "        %I  Hour (12-hour clock) as a decimal number [01,12].\n",
            "        %p  Locale's equivalent of either AM or PM.\n",
            "        \n",
            "        Other codes may be available on your platform.  See documentation for\n",
            "        the C library strftime function.\n",
            "    \n",
            "    strptime(...)\n",
            "        strptime(string, format) -> struct_time\n",
            "        \n",
            "        Parse a string to a time tuple according to a format specification.\n",
            "        See the library reference manual for formatting codes (same as\n",
            "        strftime()).\n",
            "        \n",
            "        Commonly used format codes:\n",
            "        \n",
            "        %Y  Year with century as a decimal number.\n",
            "        %m  Month as a decimal number [01,12].\n",
            "        %d  Day of the month as a decimal number [01,31].\n",
            "        %H  Hour (24-hour clock) as a decimal number [00,23].\n",
            "        %M  Minute as a decimal number [00,59].\n",
            "        %S  Second as a decimal number [00,61].\n",
            "        %z  Time zone offset from UTC.\n",
            "        %a  Locale's abbreviated weekday name.\n",
            "        %A  Locale's full weekday name.\n",
            "        %b  Locale's abbreviated month name.\n",
            "        %B  Locale's full month name.\n",
            "        %c  Locale's appropriate date and time representation.\n",
            "        %I  Hour (12-hour clock) as a decimal number [01,12].\n",
            "        %p  Locale's equivalent of either AM or PM.\n",
            "        \n",
            "        Other codes may be available on your platform.  See documentation for\n",
            "        the C library strftime function.\n",
            "    \n",
            "    thread_time(...)\n",
            "        thread_time() -> float\n",
            "        \n",
            "        Thread time for profiling: sum of the kernel and user-space CPU time.\n",
            "    \n",
            "    thread_time_ns(...)\n",
            "        thread_time() -> int\n",
            "        \n",
            "        Thread time for profiling as nanoseconds:\n",
            "        sum of the kernel and user-space CPU time.\n",
            "    \n",
            "    time(...)\n",
            "        time() -> floating point number\n",
            "        \n",
            "        Return the current time in seconds since the Epoch.\n",
            "        Fractions of a second may be present if the system clock provides them.\n",
            "    \n",
            "    time_ns(...)\n",
            "        time_ns() -> int\n",
            "        \n",
            "        Return the current time in nanoseconds since the Epoch.\n",
            "    \n",
            "    tzset(...)\n",
            "        tzset()\n",
            "        \n",
            "        Initialize, or reinitialize, the local timezone to the value stored in\n",
            "        os.environ['TZ']. The TZ environment variable should be specified in\n",
            "        standard Unix timezone format as documented in the tzset man page\n",
            "        (eg. 'US/Eastern', 'Europe/Amsterdam'). Unknown timezones will silently\n",
            "        fall back to UTC. If the TZ environment variable is not set, the local\n",
            "        timezone is set to the systems best guess of wallclock time.\n",
            "        Changing the TZ environment variable without calling tzset *may* change\n",
            "        the local timezone used by methods such as localtime, but this behaviour\n",
            "        should not be relied on.\n",
            "\n",
            "DATA\n",
            "    CLOCK_BOOTTIME = 7\n",
            "    CLOCK_MONOTONIC = 1\n",
            "    CLOCK_MONOTONIC_RAW = 4\n",
            "    CLOCK_PROCESS_CPUTIME_ID = 2\n",
            "    CLOCK_REALTIME = 0\n",
            "    CLOCK_THREAD_CPUTIME_ID = 3\n",
            "    altzone = 0\n",
            "    daylight = 0\n",
            "    timezone = 0\n",
            "    tzname = ('UTC', 'UTC')\n",
            "\n",
            "FILE\n",
            "    (built-in)\n",
            "\n",
            "\n"
          ]
        }
      ]
    },
    {
      "cell_type": "code",
      "source": [
        "print(time.time())"
      ],
      "metadata": {
        "colab": {
          "base_uri": "https://localhost:8080/"
        },
        "id": "LjVvDm8ui9w4",
        "outputId": "8129e5fe-e9e4-44fe-ca7d-bf976a55431f"
      },
      "execution_count": 79,
      "outputs": [
        {
          "output_type": "stream",
          "name": "stdout",
          "text": [
            "1677697394.8522487\n"
          ]
        }
      ]
    },
    {
      "cell_type": "code",
      "source": [
        "print(time.asctime())"
      ],
      "metadata": {
        "colab": {
          "base_uri": "https://localhost:8080/"
        },
        "id": "oUeUZICajr_5",
        "outputId": "b43d39ce-0336-475d-85ce-52fe863a3cab"
      },
      "execution_count": 80,
      "outputs": [
        {
          "output_type": "stream",
          "name": "stdout",
          "text": [
            "Wed Mar  1 19:03:40 2023\n"
          ]
        }
      ]
    },
    {
      "cell_type": "code",
      "source": [
        "print(time.strftime(\"%Y-%m-%d.............%H:%M:%S\"))"
      ],
      "metadata": {
        "colab": {
          "base_uri": "https://localhost:8080/"
        },
        "id": "yZXaqtO-j4A5",
        "outputId": "85e5db8e-e865-4e3b-9a1a-1026083357c4"
      },
      "execution_count": 88,
      "outputs": [
        {
          "output_type": "stream",
          "name": "stdout",
          "text": [
            "2023-03-01.............19:06:47\n"
          ]
        }
      ]
    },
    {
      "cell_type": "code",
      "source": [
        "time.sleep(3)\n",
        "print(\"Merhaba\")"
      ],
      "metadata": {
        "colab": {
          "base_uri": "https://localhost:8080/"
        },
        "id": "6XzpEO32kzK8",
        "outputId": "cda592ba-2cfe-4ae9-ec46-b913ff00d3d7"
      },
      "execution_count": 90,
      "outputs": [
        {
          "output_type": "stream",
          "name": "stdout",
          "text": [
            "Merhaba\n"
          ]
        }
      ]
    },
    {
      "cell_type": "code",
      "source": [
        "#Countdown uygulaması"
      ],
      "metadata": {
        "id": "o8_CklvCk-Y-"
      },
      "execution_count": null,
      "outputs": []
    },
    {
      "cell_type": "code",
      "source": [
        "x = 10\n",
        "while x>=0:\n",
        "  print(x)\n",
        "  x = x-1\n",
        "  time.sleep(1)\n",
        "print(\"Anneler günün kutlu olsun anne...💐💐💐❤️❤️\")"
      ],
      "metadata": {
        "colab": {
          "base_uri": "https://localhost:8080/"
        },
        "id": "cwmKFRphlDu1",
        "outputId": "76c8b0fe-faaa-4d5d-bdc9-ad9ac8820ae6"
      },
      "execution_count": 91,
      "outputs": [
        {
          "output_type": "stream",
          "name": "stdout",
          "text": [
            "10\n",
            "9\n",
            "8\n",
            "7\n",
            "6\n",
            "5\n",
            "4\n",
            "3\n",
            "2\n",
            "1\n",
            "0\n",
            "Aanneler günün kutlu olsun anne...💐💐💐❤️❤️\n"
          ]
        }
      ]
    },
    {
      "cell_type": "code",
      "source": [
        "sorular = [\"Başkentimiz neresidir?\",\"Türkiye'nin en uzun nehri?\", \"Türkiye'nin en büyük gölü?\"]\n",
        "soru1 = [\"A)Ankara, B)İstanbul, C)İzmir, D)Bayburt\"]\n",
        "soru2 = [\"A)Kızıl Irmak, B)yeşil Irmak, C)Fırat, D)Dicle\"]\n",
        "soru3 = [\"A)Tuz Gölü, B)Van Gölü, C)Sapanaca Gölü, D)Tekros Gölü\"]\n",
        "\n",
        "cevaplar = [\"a\", \"a\", \"b\"]\n",
        "\n",
        "def bilgiyarismasi():\n",
        "  puan = 0\n",
        "  print(\"Bilgi yarışması başlamak üzere... Lütfen şıkları a,b,c,d şeklinde giriniz:)\")\n",
        "  print(f\"soru1: {sorular[0]} \")\n",
        "\n",
        "  for eleman in soru1:\n",
        "    print(eleman)\n",
        "    cevap_1 = input(\"Cevabını gir: \")\n",
        "    if cevap_1 == cevaplar[0]:\n",
        "      print(\"Tebrikler\")\n",
        "      puan +=10\n",
        "      print(f\"Puanın {puan}\")\n",
        "    else:\n",
        "      print(\"cevabınız yanlış..\")\n",
        "    print(\"**********\")\n",
        "\n",
        "  print(f\"soru2: {sorular[1]} \")\n",
        "\n",
        "  for eleman in soru2:\n",
        "    print(eleman)\n",
        "    cevap_2 = input(\"Cevabını gir: \")\n",
        "    if cevap_2 == cevaplar[1]:\n",
        "      print(\"Tebrikler\")\n",
        "      puan +=10\n",
        "      print(f\"Puanın {puan}\")\n",
        "    else:\n",
        "      print(\"cevabınız yanlış..\")\n",
        "    print(\"**********\")\n",
        "\n",
        "\n",
        "  print(f\"soru2: {sorular[2]} \")\n",
        "\n",
        "  for eleman in soru3:\n",
        "    print(eleman)\n",
        "    cevap_3 = input(\"Cevabını gir: \")\n",
        "    if cevap_3 == cevaplar[2]:\n",
        "      print(\"Tebrikler\")\n",
        "      puan +=10\n",
        "      print(f\"Puanın {puan}\")\n",
        "    else:\n",
        "      print(\"cevabınız yanlış..\")\n",
        "    print(\"**********\")\n",
        "\n",
        "\n",
        "  print(f\"Puanınız: {puan} \")\n",
        "\n",
        "\n"
      ],
      "metadata": {
        "id": "ttlcJzbtlotT"
      },
      "execution_count": 96,
      "outputs": []
    },
    {
      "cell_type": "code",
      "source": [
        "bilgiyarismasi()"
      ],
      "metadata": {
        "colab": {
          "base_uri": "https://localhost:8080/"
        },
        "id": "HvXEAe91olBK",
        "outputId": "4211f07b-8d29-4ac1-d52b-5b448fd35586"
      },
      "execution_count": 97,
      "outputs": [
        {
          "output_type": "stream",
          "name": "stdout",
          "text": [
            "Bilgi yarışması başlamak üzere... Lütfen şıkları a,b,c,d şeklinde giriniz:)\n",
            "soru1: Başkentimiz neresidir? \n",
            "A)Ankara, B)İstanbul, C)İzmir, D)Bayburt\n",
            "Cevabını gir: A\n",
            "cevabınız yanlış..\n",
            "**********\n",
            "soru2: Türkiye'nin en uzun nehri? \n",
            "A)Kızıl Irmak, B)yeşil Irmak, C)Fırat, D)Dicle\n",
            "Cevabını gir: a\n",
            "Tebrikler\n",
            "Puanın 10\n",
            "**********\n",
            "soru2: Türkiye'nin en büyük gölü? \n",
            "A)Tuz Gölü, B)Van Gölü, C)Sapanaca Gölü, D)Tekros Gölü\n",
            "Cevabını gir: b\n",
            "Tebrikler\n",
            "Puanın 20\n",
            "**********\n",
            "Puanınız: 20 \n"
          ]
        }
      ]
    },
    {
      "cell_type": "code",
      "source": [
        "#10 soru olacak\n",
        "#her soru arsında cevap süresi olarak 5 saniye verilecek"
      ],
      "metadata": {
        "id": "zVBtX85BoTHc"
      },
      "execution_count": null,
      "outputs": []
    }
  ]
}