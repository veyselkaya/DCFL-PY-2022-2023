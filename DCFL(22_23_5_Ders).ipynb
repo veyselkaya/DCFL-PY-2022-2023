{
  "nbformat": 4,
  "nbformat_minor": 0,
  "metadata": {
    "colab": {
      "provenance": []
    },
    "kernelspec": {
      "name": "python3",
      "display_name": "Python 3"
    },
    "language_info": {
      "name": "python"
    }
  },
  "cells": [
    {
      "cell_type": "code",
      "execution_count": null,
      "metadata": {
        "id": "vCgKkZoSuEou"
      },
      "outputs": [],
      "source": [
        "#mini tekrar..\n",
        "#ödev: koşul durumları kullanılarak mini hesap makinası...\n",
        "\n"
      ]
    },
    {
      "cell_type": "code",
      "source": [
        "print(\"Mini hesap makinası: toplama işlemi için 1'e çarpma işlemi için 2'ye bölme işlemi için 3'e ve çıkarma işlemi için 4'e basınız. çıkış için herhani bir tuşa bas basınız.\")\n",
        "\n",
        "islemsec = input(\"lütfen işleminizi seçiniz...: \")\n",
        "\n",
        "if islemsec ==\"1\":\n",
        "  print(\"Toplama işlemi seçildi \")\n",
        "  a = int(input(\"birinci sayıyı giriniz: \"))\n",
        "  b = int(input(\"ikinci sayıyı giriniz: \"))\n",
        "  toplama = a+b\n",
        "  print(f\"Girdiğin sayılar: {a}, {b}. Toplamları: {toplama} \")\n",
        "elif islemsec == \"2\":\n",
        "  print(\"Çarpma işlemi seçildi \")\n",
        "  a = int(input(\"birinci sayıyı giriniz: \"))\n",
        "  b = int(input(\"ikinci sayıyı giriniz: \"))\n",
        "  carpma = a*b\n",
        "  print(f\"Girdiğin sayılar: {a}, {b}. Çarpımları: {carpma} \")\n",
        "elif islemsec ==\"3\":\n",
        "  print(\"Bölme işlemi seçildi \")\n",
        "  a = int(input(\"birinci sayıyı giriniz: \"))\n",
        "  b = int(input(\"ikinci sayıyı giriniz: \"))\n",
        "  bolme = a/b\n",
        "  print(f\"Girdiğin sayılar: {a}, {b}. Bölümler: {bolme} \")\n",
        "elif islemsec == \"4\":\n",
        "  print(\"Çıkarma işlemi seçildi \")\n",
        "  a = int(input(\"birinci sayıyı giriniz: \"))\n",
        "  b = int(input(\"ikinci sayıyı giriniz: \"))\n",
        "  cikartma = a-b\n",
        "  print(f\"Girdiğin sayılar: {a}, {b}. Farkları: {cikartma} \")\n",
        "\n",
        "else:\n",
        "  print(\"çıkış yapıldı....\")\n"
      ],
      "metadata": {
        "colab": {
          "base_uri": "https://localhost:8080/"
        },
        "id": "67Jc8H4HuaRC",
        "outputId": "7bdd0475-7aba-4954-a990-c14bc2f1fe99"
      },
      "execution_count": 3,
      "outputs": [
        {
          "output_type": "stream",
          "name": "stdout",
          "text": [
            "Mini hesap makinası: toplama işlemi için 1'e çarpma işlemi için 2'ye bölme işlemi için 3'e ve çıkarma işlemi için 4'e basınız. çıkış için herhani bir tuşa bas basınız.\n",
            "lütfen işleminizi seçiniz...: 2\n",
            "Çarpma işlemi seçildi \n",
            "birinci sayıyı giriniz: 5\n",
            "ikinci sayıyı giriniz: 67\n",
            "girdiğin sayılar: 5, 67. Çarpıları: 335 \n"
          ]
        }
      ]
    },
    {
      "cell_type": "code",
      "source": [
        "print(\"Mini hesap makinası: toplama işlemi için 1'e çarpma işlemi için 2'ye bölme işlemi için 3'e ve çıkarma işlemi için 4'e basınız. çıkış için herhani bir tuşa bas basınız.\")\n",
        "\n",
        "islemsec = input(\"lütfen işleminizi seçiniz...: \")\n",
        "a = int(input(\"birinci sayıyı giriniz: \"))\n",
        "b = int(input(\"ikinci sayıyı giriniz: \"))\n",
        "\n",
        "if islemsec ==\"1\":\n",
        "  print(\"Toplama işlemi seçildi \")\n",
        "  toplama = a+b\n",
        "  print(f\"Girdiğin sayılar: {a}, {b}. Toplamları: {toplama} \")\n",
        "elif islemsec == \"2\":\n",
        "  print(\"Çarpma işlemi seçildi \")\n",
        "  carpma = a*b\n",
        "  print(f\"Girdiğin sayılar: {a}, {b}. Çarpımları: {carpma} \")\n",
        "elif islemsec ==\"3\":\n",
        "  print(\"Bölme işlemi seçildi \")\n",
        "  bolme = a/b\n",
        "  print(f\"Girdiğin sayılar: {a}, {b}. Bölümler: {bolme} \")\n",
        "elif islemsec == \"4\":\n",
        "  print(\"Çıkarma işlemi seçildi \")\n",
        "  cikartma = a-b\n",
        "  print(f\"Girdiğin sayılar: {a}, {b}. Farkları: {cikartma} \")\n",
        "else:\n",
        "  print(\"çıkış yapıldı....\")"
      ],
      "metadata": {
        "colab": {
          "base_uri": "https://localhost:8080/"
        },
        "id": "ylYx2bJqwQR7",
        "outputId": "345d097a-ecbe-43b7-b167-16aae4dc43c9"
      },
      "execution_count": 4,
      "outputs": [
        {
          "output_type": "stream",
          "name": "stdout",
          "text": [
            "Mini hesap makinası: toplama işlemi için 1'e çarpma işlemi için 2'ye bölme işlemi için 3'e ve çıkarma işlemi için 4'e basınız. çıkış için herhani bir tuşa bas basınız.\n",
            "lütfen işleminizi seçiniz...: 2\n",
            "birinci sayıyı giriniz: 4\n",
            "ikinci sayıyı giriniz: 5\n",
            "Çarpma işlemi seçildi \n",
            "Girdiğin sayılar: 4, 5. Çarpımları: 20 \n"
          ]
        }
      ]
    },
    {
      "cell_type": "code",
      "source": [
        "#ödev: bir öğrencinin not aralığını harflerle ifade eden mini programı kodlayınız..."
      ],
      "metadata": {
        "id": "2Id3USJhwkO8"
      },
      "execution_count": null,
      "outputs": []
    },
    {
      "cell_type": "code",
      "source": [
        "#Döngüler.... 1+2+3+4+5+6+7+8\n",
        "\n",
        "liste = [1,2,3,4,5,6,7,8,9,10]\n",
        "for eleman in liste:\n",
        "  print(f\"{eleman}.Sınıf\")"
      ],
      "metadata": {
        "colab": {
          "base_uri": "https://localhost:8080/"
        },
        "id": "g6sQ_r4RxGak",
        "outputId": "ef07104d-f51b-4a67-da06-537dac292e37"
      },
      "execution_count": 7,
      "outputs": [
        {
          "output_type": "stream",
          "name": "stdout",
          "text": [
            "1.Sınıf\n",
            "2.Sınıf\n",
            "3.Sınıf\n",
            "4.Sınıf\n",
            "5.Sınıf\n",
            "6.Sınıf\n",
            "7.Sınıf\n",
            "8.Sınıf\n",
            "9.Sınıf\n",
            "10.Sınıf\n"
          ]
        }
      ]
    },
    {
      "cell_type": "code",
      "source": [
        "#in operatörü..."
      ],
      "metadata": {
        "id": "vsIHEf8cx5Sf"
      },
      "execution_count": null,
      "outputs": []
    },
    {
      "cell_type": "code",
      "source": [
        "\"a\" in \"merhaba\""
      ],
      "metadata": {
        "colab": {
          "base_uri": "https://localhost:8080/"
        },
        "id": "AdrkLXyjx86l",
        "outputId": "fdd547f4-5e3c-4bea-b8cb-b52cf28666f6"
      },
      "execution_count": 8,
      "outputs": [
        {
          "output_type": "execute_result",
          "data": {
            "text/plain": [
              "True"
            ]
          },
          "metadata": {},
          "execution_count": 8
        }
      ]
    },
    {
      "cell_type": "code",
      "source": [
        "\"a\" in \"kedi\""
      ],
      "metadata": {
        "colab": {
          "base_uri": "https://localhost:8080/"
        },
        "id": "dh7DfI97yCsW",
        "outputId": "c20424d9-f440-42d1-aa5e-621638254a35"
      },
      "execution_count": 9,
      "outputs": [
        {
          "output_type": "execute_result",
          "data": {
            "text/plain": [
              "False"
            ]
          },
          "metadata": {},
          "execution_count": 9
        }
      ]
    },
    {
      "cell_type": "code",
      "source": [
        "4  in [1,2,3,4,5,6]"
      ],
      "metadata": {
        "colab": {
          "base_uri": "https://localhost:8080/"
        },
        "id": "uhXAkg0iyJGe",
        "outputId": "e16974b0-2125-4984-b6af-a8b5d9b81848"
      },
      "execution_count": 10,
      "outputs": [
        {
          "output_type": "execute_result",
          "data": {
            "text/plain": [
              "True"
            ]
          },
          "metadata": {},
          "execution_count": 10
        }
      ]
    },
    {
      "cell_type": "code",
      "source": [
        "#1+2+3+4+5+6+7+8+9+10= 10.11/2=55\n",
        "\n",
        "\n",
        "#ardışık sayıların toplamı:\n",
        "\n",
        "liste = [1,2,3,4,5,6,7,8,9,10]\n",
        "\n",
        "toplam = 0\n",
        "\n",
        "for eleman in liste:\n",
        "  toplam = toplam+eleman\n",
        "print(f\"toplam: {toplam}\")\n"
      ],
      "metadata": {
        "colab": {
          "base_uri": "https://localhost:8080/"
        },
        "id": "YIrWD4lCyPME",
        "outputId": "01a29aa2-7e4c-47bc-cf40-896b482e9ee1"
      },
      "execution_count": 12,
      "outputs": [
        {
          "output_type": "stream",
          "name": "stdout",
          "text": [
            "toplam: 55\n"
          ]
        }
      ]
    },
    {
      "cell_type": "code",
      "source": [
        "ad = \"Kedi\"\n",
        "\n",
        "for harf in ad:\n",
        "  print(5*harf)"
      ],
      "metadata": {
        "colab": {
          "base_uri": "https://localhost:8080/"
        },
        "id": "5VEgkNbozHR-",
        "outputId": "e8b07b80-108f-4011-cc53-1d09b5f14d53"
      },
      "execution_count": 22,
      "outputs": [
        {
          "output_type": "stream",
          "name": "stdout",
          "text": [
            "KKKKK\n",
            "eeeee\n",
            "ddddd\n",
            "iiiii\n"
          ]
        }
      ]
    },
    {
      "cell_type": "code",
      "source": [
        "#bir listedeki sayıları tek ve çift olarak ayıran ve onları yeni listelere ekleyen mini program..\n",
        "\n",
        "\n",
        "liste = [1,2,3,4,5,6,7,8,9,10,11,12,35,67,89,88,76,74,70,45,3,3,3,3]\n",
        "\n",
        "tekSayilar= []\n",
        "ciftSayilar = []\n",
        "\n",
        "for eleman in liste:\n",
        "  if eleman %2 ==0:\n",
        "    ciftSayilar.append(eleman)\n",
        "  else:\n",
        "    tekSayilar.append(eleman)\n",
        "\n",
        "print(f\"çift sayılar: {ciftSayilar} \")\n",
        "print(f\"çift sayılar: {len(ciftSayilar)} tanedir\")\n",
        "print(f\"tek sayılar: {tekSayilar} \")\n",
        "print(f\"Tek sayılar: {len(tekSayilar)} tanedir\")\n"
      ],
      "metadata": {
        "colab": {
          "base_uri": "https://localhost:8080/"
        },
        "id": "hiLKEiY9zXZC",
        "outputId": "67ee3003-4130-4480-b44a-4f56f16a3f77"
      },
      "execution_count": 20,
      "outputs": [
        {
          "output_type": "stream",
          "name": "stdout",
          "text": [
            "çift sayılar: [2, 4, 6, 8, 10, 12, 88, 76, 74, 70] \n",
            "çift sayılar: 10 tanedir\n",
            "tek sayılar: [1, 3, 5, 7, 9, 11, 35, 67, 89, 45, 3, 3, 3, 3] \n",
            "Tek sayılar: 14 tanedir\n"
          ]
        }
      ]
    },
    {
      "cell_type": "code",
      "source": [
        "#250 sayfalık bir kitap için 5 rakamı kaç kez kullanılmıştır..."
      ],
      "metadata": {
        "id": "VZcoFCVB1mRN"
      },
      "execution_count": null,
      "outputs": []
    },
    {
      "cell_type": "code",
      "source": [
        "#for döngüsünü sözlükte kullanımı\n",
        "\n",
        "sozluk = {\"sıfır\": 0, \"bir\":1, \"iki\":2, \"üç\":3, \"dört\":4}\n",
        "\n",
        "for eleman in sozluk:\n",
        "  print(eleman)\n"
      ],
      "metadata": {
        "colab": {
          "base_uri": "https://localhost:8080/"
        },
        "id": "zLQr1rgV1yjS",
        "outputId": "be5d77db-c83c-4f49-b94c-5cd4ed195ceb"
      },
      "execution_count": 21,
      "outputs": [
        {
          "output_type": "stream",
          "name": "stdout",
          "text": [
            "sıfır\n",
            "bir\n",
            "iki\n",
            "üç\n",
            "dört\n"
          ]
        }
      ]
    },
    {
      "cell_type": "code",
      "source": [
        "sozluk = {\"sıfır\": 0, \"bir\":1, \"iki\":2, \"üç\":3, \"dört\":4}\n",
        "\n",
        "for (anahtar, deger) in sozluk.items():\n",
        "  print(f\"{anahtar.upper()}: {deger}\")"
      ],
      "metadata": {
        "colab": {
          "base_uri": "https://localhost:8080/"
        },
        "id": "5t5Jg0nH2Ufm",
        "outputId": "6e0afa13-5aa1-406d-d694-d62d073862f7"
      },
      "execution_count": 24,
      "outputs": [
        {
          "output_type": "stream",
          "name": "stdout",
          "text": [
            "SIFIR: 0\n",
            "BIR: 1\n",
            "IKI: 2\n",
            "ÜÇ: 3\n",
            "DÖRT: 4\n"
          ]
        }
      ]
    },
    {
      "cell_type": "code",
      "source": [
        "#range() fonksiyonu : aralık\n",
        "\n",
        "range(0,10)"
      ],
      "metadata": {
        "colab": {
          "base_uri": "https://localhost:8080/"
        },
        "id": "MaVSRxGG4RVv",
        "outputId": "cefc484f-ecad-4a5f-a135-e98f3bbcc56e"
      },
      "execution_count": 25,
      "outputs": [
        {
          "output_type": "execute_result",
          "data": {
            "text/plain": [
              "range(0, 10)"
            ]
          },
          "metadata": {},
          "execution_count": 25
        }
      ]
    },
    {
      "cell_type": "code",
      "source": [
        "print(*range(1,101))"
      ],
      "metadata": {
        "colab": {
          "base_uri": "https://localhost:8080/"
        },
        "id": "4vFilZ9t4fLS",
        "outputId": "707acf17-90e1-4104-a681-5aa4ab6fd087"
      },
      "execution_count": 29,
      "outputs": [
        {
          "output_type": "stream",
          "name": "stdout",
          "text": [
            "1 2 3 4 5 6 7 8 9 10 11 12 13 14 15 16 17 18 19 20 21 22 23 24 25 26 27 28 29 30 31 32 33 34 35 36 37 38 39 40 41 42 43 44 45 46 47 48 49 50 51 52 53 54 55 56 57 58 59 60 61 62 63 64 65 66 67 68 69 70 71 72 73 74 75 76 77 78 79 80 81 82 83 84 85 86 87 88 89 90 91 92 93 94 95 96 97 98 99 100\n"
          ]
        }
      ]
    },
    {
      "cell_type": "code",
      "source": [
        "#1 den 100 e kadar ardışık sayıların toplamını bulunuz? 100.101/2 = 5050\n",
        "\n",
        "\n",
        "toplam =0\n",
        "\n",
        "for eleman in range(1,101):\n",
        "  toplam = toplam+eleman\n",
        "print(f\"1,den 100'e kadar olan ardışık sayıların toplamı: {toplam}\")\n"
      ],
      "metadata": {
        "colab": {
          "base_uri": "https://localhost:8080/"
        },
        "id": "AyNzcvI84uGu",
        "outputId": "ea6786e4-f92a-41fa-e2a0-39af53671e1a"
      },
      "execution_count": 31,
      "outputs": [
        {
          "output_type": "stream",
          "name": "stdout",
          "text": [
            "1,den 100'e kadar olan ardışık sayıların toplamı: 5050\n"
          ]
        }
      ]
    },
    {
      "cell_type": "code",
      "source": [
        "help(range(0,10))"
      ],
      "metadata": {
        "id": "36yqvI7g5hap"
      },
      "execution_count": null,
      "outputs": []
    },
    {
      "cell_type": "code",
      "source": [
        "print(*range(0,101,5))"
      ],
      "metadata": {
        "colab": {
          "base_uri": "https://localhost:8080/"
        },
        "id": "rIAS7gZQ5iSK",
        "outputId": "9218da48-7015-4be2-f3e9-ace16f68bcc6"
      },
      "execution_count": 38,
      "outputs": [
        {
          "output_type": "stream",
          "name": "stdout",
          "text": [
            "0 5 10 15 20 25 30 35 40 45 50 55 60 65 70 75 80 85 90 95 100\n"
          ]
        }
      ]
    },
    {
      "cell_type": "code",
      "source": [
        "#0 dan 1000 e kadar 7'ye bölünen sayıların toplamını bulan program\n",
        "\n",
        "toplam = 0\n",
        "for eleman in range(0,1001, 7):\n",
        "  toplam +=eleman\n",
        "print(f\"0 dan 1000 e kadar 7 ile bölünen sayıların toplamı: {toplam} dır. \")\n"
      ],
      "metadata": {
        "colab": {
          "base_uri": "https://localhost:8080/"
        },
        "id": "zJ2EsIQk5vsj",
        "outputId": "058c2e07-52c4-41f1-f185-ec8b1f3d1e99"
      },
      "execution_count": 39,
      "outputs": [
        {
          "output_type": "stream",
          "name": "stdout",
          "text": [
            "0 dan 1000 e kadar 7 ile bölünen sayıların toplamı: 71071 dır. \n"
          ]
        }
      ]
    },
    {
      "cell_type": "code",
      "source": [
        "#kullanıcıdan veri alark bir arlıktaki sayıların toplamını bulan program..\n",
        "\n",
        "baslangicDegeri = int(input(\"başlangıç değrini gir: \"))\n",
        "bitisDegeri = int(input(\"bitiş değerini gir: \"))\n",
        "artisMiktari = int(input(\"artış miktarını gir: \"))\n",
        "\n",
        "toplam = 0\n",
        "\n",
        "for eleman in range(baslangicDegeri, bitisDegeri+1, artisMiktari):\n",
        "  toplam +=eleman\n",
        "print(f\"başlangıç değeriniz: {baslangicDegeri}. Bitiş değeriniz: {bitisDegeri}. Artış miktarı: {artisMiktari}.\\nToplamları: {toplam}\")"
      ],
      "metadata": {
        "colab": {
          "base_uri": "https://localhost:8080/"
        },
        "id": "AF-giQoP6esP",
        "outputId": "936e01b8-7e71-4f1f-f0b4-0f57b0969eaa"
      },
      "execution_count": 43,
      "outputs": [
        {
          "output_type": "stream",
          "name": "stdout",
          "text": [
            "başlangıç değrini gir: 0\n",
            "bitiş değerini gir: 100\n",
            "artış miktarını gir: 5\n",
            "başlangıç değeriniz: 0. Bitiş değeriniz: 100. Artış miktarı: 5.\n",
            "Toplamları: 1050\n"
          ]
        }
      ]
    },
    {
      "cell_type": "code",
      "source": [
        "for i in range(1,20):\n",
        "  print(i*\"*\")"
      ],
      "metadata": {
        "colab": {
          "base_uri": "https://localhost:8080/"
        },
        "id": "Kkr2bAsm790k",
        "outputId": "17da46b0-2b69-4c5d-c7a2-876c7f3b5791"
      },
      "execution_count": 44,
      "outputs": [
        {
          "output_type": "stream",
          "name": "stdout",
          "text": [
            "*\n",
            "**\n",
            "***\n",
            "****\n",
            "*****\n",
            "******\n",
            "*******\n",
            "********\n",
            "*********\n",
            "**********\n",
            "***********\n",
            "************\n",
            "*************\n",
            "**************\n",
            "***************\n",
            "****************\n",
            "*****************\n",
            "******************\n",
            "*******************\n"
          ]
        }
      ]
    },
    {
      "cell_type": "code",
      "source": [
        "#for döngüsü yardımı ile Alfabedeki harfleri yazdırınız. Adınızı yazdırmaya çalışınız.."
      ],
      "metadata": {
        "id": "QVD2AERf8OcK"
      },
      "execution_count": null,
      "outputs": []
    },
    {
      "cell_type": "code",
      "source": [
        "for i in range(1,20):\n",
        "  print(i*\"*\")\n",
        "for i in range(20,1,-1):\n",
        "    print(i*\"*\")"
      ],
      "metadata": {
        "colab": {
          "base_uri": "https://localhost:8080/"
        },
        "id": "9BNdJOlY8gW_",
        "outputId": "0ce07973-d629-4dad-83ce-7dcc8c183518"
      },
      "execution_count": 53,
      "outputs": [
        {
          "output_type": "stream",
          "name": "stdout",
          "text": [
            "*\n",
            "**\n",
            "***\n",
            "****\n",
            "*****\n",
            "******\n",
            "*******\n",
            "********\n",
            "*********\n",
            "**********\n",
            "***********\n",
            "************\n",
            "*************\n",
            "**************\n",
            "***************\n",
            "****************\n",
            "*****************\n",
            "******************\n",
            "*******************\n",
            "********************\n",
            "*******************\n",
            "******************\n",
            "*****************\n",
            "****************\n",
            "***************\n",
            "**************\n",
            "*************\n",
            "************\n",
            "***********\n",
            "**********\n",
            "*********\n",
            "********\n",
            "*******\n",
            "******\n",
            "*****\n",
            "****\n",
            "***\n",
            "**\n"
          ]
        }
      ]
    }
  ]
}