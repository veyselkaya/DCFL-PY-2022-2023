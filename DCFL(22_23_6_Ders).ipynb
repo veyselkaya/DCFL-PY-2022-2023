{
  "nbformat": 4,
  "nbformat_minor": 0,
  "metadata": {
    "colab": {
      "provenance": []
    },
    "kernelspec": {
      "name": "python3",
      "display_name": "Python 3"
    },
    "language_info": {
      "name": "python"
    }
  },
  "cells": [
    {
      "cell_type": "code",
      "execution_count": 2,
      "metadata": {
        "colab": {
          "base_uri": "https://localhost:8080/"
        },
        "id": "CL5ZuP9sNLxR",
        "outputId": "821a446e-2f09-46c4-ffca-80bbf7c8bf69"
      },
      "outputs": [
        {
          "output_type": "stream",
          "name": "stdout",
          "text": [
            "0-bir rakamdır\n",
            "1-bir rakamdır\n",
            "2-bir rakamdır\n",
            "3-bir rakamdır\n",
            "4-bir rakamdır\n",
            "5-bir rakamdır\n",
            "6-bir rakamdır\n",
            "7-bir rakamdır\n",
            "8-bir rakamdır\n",
            "9-bir rakamdır\n"
          ]
        }
      ],
      "source": [
        "#mini tekrar...\n",
        "\n",
        "liste = [0,1,2,3,4,5,6,7,8,9]\n",
        "\n",
        "for i in liste:\n",
        "  print(f\"{liste[i]}-bir rakamdır\") "
      ]
    },
    {
      "cell_type": "code",
      "source": [
        "odemeler = [2000, 2689, 4560, 5678, 234, 566, 566, 6665]\n",
        "\n",
        "toplam=0\n",
        "for eleman in odemeler:\n",
        "  toplam +=eleman\n",
        "print(f\"bu ayki ödeme miktarı: {toplam} \")"
      ],
      "metadata": {
        "colab": {
          "base_uri": "https://localhost:8080/"
        },
        "id": "W6Wjnar5N9r5",
        "outputId": "0bfec581-24c0-47e4-a5d9-81e9851b3c02"
      },
      "execution_count": 6,
      "outputs": [
        {
          "output_type": "stream",
          "name": "stdout",
          "text": [
            "bu ayki ödeme miktarı: 22958 \n"
          ]
        }
      ]
    },
    {
      "cell_type": "code",
      "source": [
        "#250 sayfalık bir kitapta 5 rakamı kaç defa kullanılır."
      ],
      "metadata": {
        "id": "aH5f3ZlZOvJs"
      },
      "execution_count": null,
      "outputs": []
    },
    {
      "cell_type": "code",
      "source": [
        "liste = []\n",
        "kelime =\"\"\n",
        "\n",
        "for i in range(1,251):\n",
        "  #listenin içine range den gelen her elemnı ekle\n",
        "  liste.append(i)\n",
        "  #listeyi bir tane strin'e dönüştürelim\n",
        "  kelime +=str(i)\n",
        "\n",
        "\n",
        "print(liste)\n",
        "print(kelime)\n",
        "print(kelime.count(\"5\"))\n"
      ],
      "metadata": {
        "colab": {
          "base_uri": "https://localhost:8080/"
        },
        "id": "95lUdsa9PJYv",
        "outputId": "a8c1d560-4f75-4600-dc9e-b3179bd3290e"
      },
      "execution_count": 13,
      "outputs": [
        {
          "output_type": "stream",
          "name": "stdout",
          "text": [
            "[1, 2, 3, 4, 5, 6, 7, 8, 9, 10, 11, 12, 13, 14, 15, 16, 17, 18, 19, 20, 21, 22, 23, 24, 25, 26, 27, 28, 29, 30, 31, 32, 33, 34, 35, 36, 37, 38, 39, 40, 41, 42, 43, 44, 45, 46, 47, 48, 49, 50, 51, 52, 53, 54, 55, 56, 57, 58, 59, 60, 61, 62, 63, 64, 65, 66, 67, 68, 69, 70, 71, 72, 73, 74, 75, 76, 77, 78, 79, 80, 81, 82, 83, 84, 85, 86, 87, 88, 89, 90, 91, 92, 93, 94, 95, 96, 97, 98, 99, 100, 101, 102, 103, 104, 105, 106, 107, 108, 109, 110, 111, 112, 113, 114, 115, 116, 117, 118, 119, 120, 121, 122, 123, 124, 125, 126, 127, 128, 129, 130, 131, 132, 133, 134, 135, 136, 137, 138, 139, 140, 141, 142, 143, 144, 145, 146, 147, 148, 149, 150, 151, 152, 153, 154, 155, 156, 157, 158, 159, 160, 161, 162, 163, 164, 165, 166, 167, 168, 169, 170, 171, 172, 173, 174, 175, 176, 177, 178, 179, 180, 181, 182, 183, 184, 185, 186, 187, 188, 189, 190, 191, 192, 193, 194, 195, 196, 197, 198, 199, 200, 201, 202, 203, 204, 205, 206, 207, 208, 209, 210, 211, 212, 213, 214, 215, 216, 217, 218, 219, 220, 221, 222, 223, 224, 225, 226, 227, 228, 229, 230, 231, 232, 233, 234, 235, 236, 237, 238, 239, 240, 241, 242, 243, 244, 245, 246, 247, 248, 249, 250, 251, 252, 253, 254, 255, 256, 257, 258, 259, 260, 261, 262, 263, 264, 265, 266, 267, 268, 269, 270, 271, 272, 273, 274, 275, 276, 277, 278, 279, 280, 281, 282, 283, 284, 285, 286, 287, 288, 289, 290, 291, 292, 293, 294, 295, 296, 297, 298, 299, 300, 301, 302, 303, 304, 305, 306, 307, 308, 309, 310, 311, 312, 313, 314, 315, 316, 317, 318, 319, 320, 321, 322, 323, 324, 325, 326, 327, 328, 329, 330, 331, 332, 333, 334, 335, 336, 337, 338, 339, 340, 341, 342, 343, 344, 345, 346, 347, 348, 349, 350, 351, 352, 353, 354, 355, 356, 357, 358, 359, 360, 361, 362, 363, 364, 365, 366, 367, 368, 369, 370, 371, 372, 373, 374, 375, 376, 377, 378, 379, 380, 381, 382, 383, 384, 385, 386, 387, 388, 389, 390, 391, 392, 393, 394, 395, 396, 397, 398, 399, 400, 401, 402, 403, 404, 405, 406, 407, 408, 409, 410, 411, 412, 413, 414, 415, 416, 417, 418, 419, 420, 421, 422, 423, 424, 425, 426, 427, 428, 429, 430, 431, 432, 433, 434, 435, 436, 437, 438, 439, 440, 441, 442, 443, 444, 445, 446, 447, 448, 449, 450, 451, 452, 453, 454, 455, 456, 457, 458, 459, 460, 461, 462, 463, 464, 465, 466, 467, 468, 469, 470, 471, 472, 473, 474, 475, 476, 477, 478, 479, 480, 481, 482, 483, 484, 485, 486, 487, 488, 489, 490, 491, 492, 493, 494, 495, 496, 497, 498, 499, 500, 501, 502, 503, 504, 505, 506, 507, 508, 509, 510, 511, 512, 513, 514, 515, 516, 517, 518, 519, 520, 521, 522, 523, 524, 525, 526, 527, 528, 529, 530, 531, 532, 533, 534, 535, 536, 537, 538, 539, 540, 541, 542, 543, 544, 545, 546, 547, 548, 549, 550, 551, 552, 553, 554, 555, 556, 557, 558, 559, 560, 561, 562, 563, 564, 565, 566, 567, 568, 569, 570, 571, 572, 573, 574, 575, 576, 577, 578, 579, 580, 581, 582, 583, 584, 585, 586, 587, 588, 589, 590, 591, 592, 593, 594, 595, 596, 597, 598, 599, 600, 601, 602, 603, 604, 605, 606, 607, 608, 609, 610, 611, 612, 613, 614, 615, 616, 617, 618, 619, 620, 621, 622, 623, 624, 625, 626, 627, 628, 629, 630, 631, 632, 633, 634, 635, 636, 637, 638, 639, 640, 641, 642, 643, 644, 645, 646, 647, 648, 649, 650, 651, 652, 653, 654, 655, 656, 657, 658, 659, 660, 661, 662, 663, 664, 665, 666, 667, 668, 669, 670, 671, 672, 673, 674, 675, 676, 677, 678, 679, 680, 681, 682, 683, 684, 685, 686, 687, 688, 689, 690, 691, 692, 693, 694, 695, 696, 697, 698, 699, 700, 701, 702, 703, 704, 705, 706, 707, 708, 709, 710, 711, 712, 713, 714, 715, 716, 717, 718, 719, 720, 721, 722, 723, 724, 725, 726, 727, 728, 729, 730, 731, 732, 733, 734, 735, 736, 737, 738, 739, 740, 741, 742, 743, 744, 745, 746, 747, 748, 749, 750, 751, 752, 753, 754, 755, 756, 757, 758, 759, 760, 761, 762, 763, 764, 765, 766, 767, 768, 769, 770, 771, 772, 773, 774, 775, 776, 777, 778, 779, 780, 781, 782, 783, 784, 785, 786, 787, 788, 789, 790, 791, 792, 793, 794, 795, 796, 797, 798, 799, 800, 801, 802, 803, 804, 805, 806, 807, 808, 809, 810, 811, 812, 813, 814, 815, 816, 817, 818, 819, 820, 821, 822, 823, 824, 825, 826, 827, 828, 829, 830, 831, 832, 833, 834, 835, 836, 837, 838, 839, 840, 841, 842, 843, 844, 845, 846, 847, 848, 849, 850, 851, 852, 853, 854, 855, 856, 857, 858, 859, 860, 861, 862, 863, 864, 865, 866, 867, 868, 869, 870, 871, 872, 873, 874, 875, 876, 877, 878, 879, 880, 881, 882, 883, 884, 885, 886, 887, 888, 889, 890, 891, 892, 893, 894, 895, 896, 897, 898, 899, 900, 901, 902, 903, 904, 905, 906, 907, 908, 909, 910, 911, 912, 913, 914, 915, 916, 917, 918, 919, 920, 921, 922, 923, 924, 925, 926, 927, 928, 929, 930, 931, 932, 933, 934, 935, 936, 937, 938, 939, 940, 941, 942, 943, 944, 945, 946, 947, 948, 949, 950, 951, 952, 953, 954, 955, 956, 957, 958, 959, 960, 961, 962, 963, 964, 965, 966, 967, 968, 969, 970, 971, 972, 973, 974, 975, 976, 977, 978, 979, 980, 981, 982, 983, 984, 985, 986, 987, 988, 989, 990, 991, 992, 993, 994, 995, 996, 997, 998, 999]\n",
            "123456789101112131415161718192021222324252627282930313233343536373839404142434445464748495051525354555657585960616263646566676869707172737475767778798081828384858687888990919293949596979899100101102103104105106107108109110111112113114115116117118119120121122123124125126127128129130131132133134135136137138139140141142143144145146147148149150151152153154155156157158159160161162163164165166167168169170171172173174175176177178179180181182183184185186187188189190191192193194195196197198199200201202203204205206207208209210211212213214215216217218219220221222223224225226227228229230231232233234235236237238239240241242243244245246247248249250251252253254255256257258259260261262263264265266267268269270271272273274275276277278279280281282283284285286287288289290291292293294295296297298299300301302303304305306307308309310311312313314315316317318319320321322323324325326327328329330331332333334335336337338339340341342343344345346347348349350351352353354355356357358359360361362363364365366367368369370371372373374375376377378379380381382383384385386387388389390391392393394395396397398399400401402403404405406407408409410411412413414415416417418419420421422423424425426427428429430431432433434435436437438439440441442443444445446447448449450451452453454455456457458459460461462463464465466467468469470471472473474475476477478479480481482483484485486487488489490491492493494495496497498499500501502503504505506507508509510511512513514515516517518519520521522523524525526527528529530531532533534535536537538539540541542543544545546547548549550551552553554555556557558559560561562563564565566567568569570571572573574575576577578579580581582583584585586587588589590591592593594595596597598599600601602603604605606607608609610611612613614615616617618619620621622623624625626627628629630631632633634635636637638639640641642643644645646647648649650651652653654655656657658659660661662663664665666667668669670671672673674675676677678679680681682683684685686687688689690691692693694695696697698699700701702703704705706707708709710711712713714715716717718719720721722723724725726727728729730731732733734735736737738739740741742743744745746747748749750751752753754755756757758759760761762763764765766767768769770771772773774775776777778779780781782783784785786787788789790791792793794795796797798799800801802803804805806807808809810811812813814815816817818819820821822823824825826827828829830831832833834835836837838839840841842843844845846847848849850851852853854855856857858859860861862863864865866867868869870871872873874875876877878879880881882883884885886887888889890891892893894895896897898899900901902903904905906907908909910911912913914915916917918919920921922923924925926927928929930931932933934935936937938939940941942943944945946947948949950951952953954955956957958959960961962963964965966967968969970971972973974975976977978979980981982983984985986987988989990991992993994995996997998999\n",
            "2\n"
          ]
        }
      ]
    },
    {
      "cell_type": "code",
      "source": [
        "ad = \"elmaarmutkarpuz\"\n",
        "\n",
        "print(ad.count(\"a\"))"
      ],
      "metadata": {
        "colab": {
          "base_uri": "https://localhost:8080/"
        },
        "id": "6xAi-RzhP5M8",
        "outputId": "5bbf12bb-ed85-48ce-d199-57c3f93b800c"
      },
      "execution_count": 9,
      "outputs": [
        {
          "output_type": "stream",
          "name": "stdout",
          "text": [
            "3\n"
          ]
        }
      ]
    },
    {
      "cell_type": "code",
      "source": [
        "#1 den 1500 e kadar kaç kere 55 yan yana yazılır.."
      ],
      "metadata": {
        "id": "xJB_9jj_QzE1"
      },
      "execution_count": null,
      "outputs": []
    },
    {
      "cell_type": "code",
      "source": [
        "#while döngüsü: koşul sağlanana kadar devam edern bir döngüdür..."
      ],
      "metadata": {
        "id": "BM5jHIDCRNq2"
      },
      "execution_count": null,
      "outputs": []
    },
    {
      "cell_type": "code",
      "source": [
        "i = 0\n",
        "\n",
        "while (i<10):\n",
        "  #koşulu arttırmak gerkeir(sonzus döngüden kurtulmak için)\n",
        "  print(f\"Python öğrenmek çok güzeldir..:)\")\n",
        "  i +=1\n",
        " "
      ],
      "metadata": {
        "colab": {
          "base_uri": "https://localhost:8080/"
        },
        "id": "NiQR_kVaRVRW",
        "outputId": "d55aa3cb-6741-4741-8e13-f46c1dd74b45"
      },
      "execution_count": 16,
      "outputs": [
        {
          "output_type": "stream",
          "name": "stdout",
          "text": [
            " Python öğrenmek çok güzeldir..:)\n",
            " Python öğrenmek çok güzeldir..:)\n",
            " Python öğrenmek çok güzeldir..:)\n",
            " Python öğrenmek çok güzeldir..:)\n",
            " Python öğrenmek çok güzeldir..:)\n",
            " Python öğrenmek çok güzeldir..:)\n",
            " Python öğrenmek çok güzeldir..:)\n",
            " Python öğrenmek çok güzeldir..:)\n",
            " Python öğrenmek çok güzeldir..:)\n",
            " Python öğrenmek çok güzeldir..:)\n"
          ]
        }
      ]
    },
    {
      "cell_type": "code",
      "source": [
        "liste = [1,2,3,4,5]\n",
        "\n",
        "a = 0\n",
        "\n",
        "while a<len(liste):\n",
        "  print(f\"listenin elemnları: {liste[a]}. index numaraları: {a} \")\n",
        "  a +=1"
      ],
      "metadata": {
        "colab": {
          "base_uri": "https://localhost:8080/"
        },
        "id": "Q5m3afyYSlSY",
        "outputId": "dcf2bc9c-c2d3-4799-bc14-0bb2445def28"
      },
      "execution_count": 20,
      "outputs": [
        {
          "output_type": "stream",
          "name": "stdout",
          "text": [
            "listenin elemnları: 1. index numaraları: 0 \n",
            "listenin elemnları: 2. index numaraları: 1 \n",
            "listenin elemnları: 3. index numaraları: 2 \n",
            "listenin elemnları: 4. index numaraları: 3 \n",
            "listenin elemnları: 5. index numaraları: 4 \n"
          ]
        }
      ]
    },
    {
      "cell_type": "code",
      "source": [
        "#break, continue fonksiyonları\n",
        "\n",
        "i = 0\n",
        "while i<20:\n",
        "  print(i)\n",
        "  if (i==10):\n",
        "    print(f\"aranan eleman bulundu: {i}\")\n",
        "    print(\"işlem sonlandırılıyor...\")\n",
        "    break\n",
        "  i +=1\n",
        " "
      ],
      "metadata": {
        "colab": {
          "base_uri": "https://localhost:8080/"
        },
        "id": "9UB6KZzmTWfQ",
        "outputId": "044b24d7-35b1-48eb-88bc-52f7f1d88570"
      },
      "execution_count": 30,
      "outputs": [
        {
          "output_type": "stream",
          "name": "stdout",
          "text": [
            "0\n",
            "1\n",
            "2\n",
            "3\n",
            "4\n",
            "5\n",
            "6\n",
            "7\n",
            "8\n",
            "9\n",
            "10\n",
            "aranan eleman bulundu: 10\n",
            "işlem sonlandırılıyor...\n"
          ]
        }
      ]
    },
    {
      "cell_type": "code",
      "source": [
        "#While true sonsuz döngüdür..(istenildiği zaman bitirilebilir)\n",
        "\n",
        "while True:\n",
        "  isim = input(\"ismini yazınız... çıkmak için ise q ya basınız...\")\n",
        "  if isim ==\"q\":\n",
        "    print(\"işlem sonlandırılıyor...\")\n",
        "    break\n",
        "  print(isim)"
      ],
      "metadata": {
        "colab": {
          "base_uri": "https://localhost:8080/"
        },
        "id": "eDXtx8sWVviv",
        "outputId": "15f37ca5-0539-428d-8ae5-3781597d0aa8"
      },
      "execution_count": 31,
      "outputs": [
        {
          "output_type": "stream",
          "name": "stdout",
          "text": [
            "ismini yazınız... çıkmak için ise q ya basınız...kedi\n",
            "kedi\n",
            "ismini yazınız... çıkmak için ise q ya basınız...elma\n",
            "elma\n",
            "ismini yazınız... çıkmak için ise q ya basınız...armut\n",
            "armut\n",
            "ismini yazınız... çıkmak için ise q ya basınız...muz\n",
            "muz\n",
            "ismini yazınız... çıkmak için ise q ya basınız...jelibon\n",
            "jelibon\n",
            "ismini yazınız... çıkmak için ise q ya basınız...q\n",
            "işlem sonlandırırşıyor\n"
          ]
        }
      ]
    },
    {
      "cell_type": "code",
      "source": [
        "#while tru ile istenildiği kadar sayı toplayan ya da sayı çarpan bir program yapınız..."
      ],
      "metadata": {
        "id": "O2P7Zu5qWqtR"
      },
      "execution_count": null,
      "outputs": []
    },
    {
      "cell_type": "code",
      "source": [
        "#continue fonksiyonu\n",
        "\n",
        "liste = [1,2,3,4,5,6,7,8,9]\n",
        "\n",
        "for i in liste:\n",
        "  if (i == 3 or i ==5):\n",
        "    continue\n",
        "  print(i)"
      ],
      "metadata": {
        "colab": {
          "base_uri": "https://localhost:8080/"
        },
        "id": "ZM0VQxHoW9iY",
        "outputId": "06078feb-cecd-4db8-d549-fea89ffb3a8e"
      },
      "execution_count": 32,
      "outputs": [
        {
          "output_type": "stream",
          "name": "stdout",
          "text": [
            "1\n",
            "2\n",
            "4\n",
            "6\n",
            "7\n",
            "8\n",
            "9\n"
          ]
        }
      ]
    },
    {
      "cell_type": "code",
      "source": [
        "#örnekler...\n",
        "#faktöriyel.... 5!= 5.4.3.2.1 = 120... 4^40*5^35\n",
        "print(\"Faktöriye bulma programı.... çıkış için lütfen q ya basınız...\")\n",
        "print(50*\"*\")\n",
        "\n",
        "\n",
        "while True:\n",
        "  sayi = input(\"lütfen faktöriyelini bulmak istediğiniz sayıyı giriniz..: \")\n",
        "  if (sayi == \"q\"):\n",
        "    print(\"Program sonlandırıldı... yine bekleriz..::)\")\n",
        "    break\n",
        "  \n",
        "  sayi = int(sayi)\n",
        "  faktoriyel = 1\n",
        "  for eleman in range(1,sayi+1):\n",
        "    faktoriyel *=eleman\n",
        "\n",
        "  print(f\"Girdiğiniz sayı: {sayi}. Faktöriyeli ise: {faktoriyel} \")\n",
        "  faktoriyel = str(faktoriyel)\n",
        "\n",
        "  print(f\"{sayi} nın faktöriyeli...{len(faktoriyel)} basamklıdır\")"
      ],
      "metadata": {
        "colab": {
          "base_uri": "https://localhost:8080/"
        },
        "id": "ecjK-uZoXjbm",
        "outputId": "9edb2436-416d-4f65-f700-89a21c5a201b"
      },
      "execution_count": 42,
      "outputs": [
        {
          "output_type": "stream",
          "name": "stdout",
          "text": [
            "Faktöriye bulma programı.... çıkış için lütfen q ya basınız...\n",
            "**************************************************\n",
            "lütfen faktöriyelini bulmak istediğiniz sayıyı giriniz..: 12\n",
            "Girdiğiniz sayı: 12. Faktöriyeli ise: 479001600 \n",
            "12 nın faktöriyeli...9 basamklıdır\n",
            "lütfen faktöriyelini bulmak istediğiniz sayıyı giriniz..: 100\n",
            "Girdiğiniz sayı: 100. Faktöriyeli ise: 93326215443944152681699238856266700490715968264381621468592963895217599993229915608941463976156518286253697920827223758251185210916864000000000000000000000000 \n",
            "100 nın faktöriyeli...158 basamklıdır\n",
            "lütfen faktöriyelini bulmak istediğiniz sayıyı giriniz..: 200\n",
            "Girdiğiniz sayı: 200. Faktöriyeli ise: 788657867364790503552363213932185062295135977687173263294742533244359449963403342920304284011984623904177212138919638830257642790242637105061926624952829931113462857270763317237396988943922445621451664240254033291864131227428294853277524242407573903240321257405579568660226031904170324062351700858796178922222789623703897374720000000000000000000000000000000000000000000000000 \n",
            "200 nın faktöriyeli...375 basamklıdır\n",
            "lütfen faktöriyelini bulmak istediğiniz sayıyı giriniz..: 101\n",
            "Girdiğiniz sayı: 101. Faktöriyeli ise: 9425947759838359420851623124482936749562312794702543768327889353416977599316221476503087861591808346911623490003549599583369706302603264000000000000000000000000 \n",
            "101 nın faktöriyeli...160 basamklıdır\n",
            "lütfen faktöriyelini bulmak istediğiniz sayıyı giriniz..: q\n",
            "Program sonlandırıldı... yine bekleriz..::)\n"
          ]
        }
      ]
    },
    {
      "cell_type": "code",
      "source": [
        "  \n",
        "  faktoriyel =1\n",
        "  for eleman in range(1,7):\n",
        "    faktoriyel *=eleman\n",
        "  print(faktoriyel)"
      ],
      "metadata": {
        "colab": {
          "base_uri": "https://localhost:8080/"
        },
        "id": "WAX7Gs0yY-zr",
        "outputId": "ea1b3cf1-696e-4863-beae-5a159fc75cae"
      },
      "execution_count": 35,
      "outputs": [
        {
          "output_type": "stream",
          "name": "stdout",
          "text": [
            "720\n"
          ]
        }
      ]
    },
    {
      "cell_type": "code",
      "source": [
        "#250 faktöriyelin içinde 222 sayısı kaç kez tekrar ediyor..."
      ],
      "metadata": {
        "id": "a7l5BSl1bIsL"
      },
      "execution_count": null,
      "outputs": []
    }
  ]
}