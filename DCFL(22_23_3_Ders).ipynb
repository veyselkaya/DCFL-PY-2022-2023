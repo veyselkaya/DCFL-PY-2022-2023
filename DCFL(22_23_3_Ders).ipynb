{
  "nbformat": 4,
  "nbformat_minor": 0,
  "metadata": {
    "colab": {
      "provenance": []
    },
    "kernelspec": {
      "name": "python3",
      "display_name": "Python 3"
    },
    "language_info": {
      "name": "python"
    }
  },
  "cells": [
    {
      "cell_type": "code",
      "execution_count": null,
      "metadata": {
        "id": "pQiq531G9a-X"
      },
      "outputs": [],
      "source": [
        "#Minik Tekrar\n",
        "#print, help type fonksiyonları print için metodlar ve listelere giriş. kullanıcıdan veri alma input fonksiyonu"
      ]
    },
    {
      "cell_type": "code",
      "source": [
        "print(\"Merhaba\")\n",
        "print(2*4)\n"
      ],
      "metadata": {
        "colab": {
          "base_uri": "https://localhost:8080/"
        },
        "id": "aruhzqR69t6q",
        "outputId": "09dc173e-57ea-42db-a165-409240fe1959"
      },
      "execution_count": 2,
      "outputs": [
        {
          "output_type": "stream",
          "name": "stdout",
          "text": [
            "Merhaba\n",
            "8\n"
          ]
        }
      ]
    },
    {
      "cell_type": "code",
      "source": [
        "ad = \"Kedi\"\n",
        "print(ad)"
      ],
      "metadata": {
        "colab": {
          "base_uri": "https://localhost:8080/"
        },
        "id": "KWvv9uy--BFG",
        "outputId": "91ebc267-58a8-4623-bc4e-882a6f4bcd88"
      },
      "execution_count": 3,
      "outputs": [
        {
          "output_type": "stream",
          "name": "stdout",
          "text": [
            "Kedi\n"
          ]
        }
      ]
    },
    {
      "cell_type": "code",
      "source": [
        "print(*\"TBMM\")"
      ],
      "metadata": {
        "colab": {
          "base_uri": "https://localhost:8080/"
        },
        "id": "YPqWT9iF-Lyk",
        "outputId": "3e24f2c8-99b0-449d-afc7-f24894febc67"
      },
      "execution_count": 4,
      "outputs": [
        {
          "output_type": "stream",
          "name": "stdout",
          "text": [
            "T B M M\n"
          ]
        }
      ]
    },
    {
      "cell_type": "code",
      "source": [
        "print(*\"TBMM\", sep=\"-\")"
      ],
      "metadata": {
        "colab": {
          "base_uri": "https://localhost:8080/"
        },
        "id": "2SyHZ_WZ-T4E",
        "outputId": "a13f592f-5622-499f-e740-299bed94d1fe"
      },
      "execution_count": 5,
      "outputs": [
        {
          "output_type": "stream",
          "name": "stdout",
          "text": [
            "T-B-M-M\n"
          ]
        }
      ]
    },
    {
      "cell_type": "code",
      "source": [
        "help(ad)"
      ],
      "metadata": {
        "colab": {
          "base_uri": "https://localhost:8080/"
        },
        "id": "LKNmivuC-anW",
        "outputId": "11bf3039-3471-4457-b10c-53434d05b1a1"
      },
      "execution_count": 7,
      "outputs": [
        {
          "output_type": "stream",
          "name": "stdout",
          "text": [
            "No Python documentation found for 'Kedi'.\n",
            "Use help() to get the interactive help utility.\n",
            "Use help(str) for help on the str class.\n",
            "\n"
          ]
        }
      ]
    },
    {
      "cell_type": "code",
      "source": [
        "ad = \"kedi\"\n",
        "print(ad.upper())"
      ],
      "metadata": {
        "colab": {
          "base_uri": "https://localhost:8080/"
        },
        "id": "mpCONxJO-6sN",
        "outputId": "80f614d5-02c5-4503-e283-ce5a2d225ae2"
      },
      "execution_count": 9,
      "outputs": [
        {
          "output_type": "stream",
          "name": "stdout",
          "text": [
            "KEDI\n"
          ]
        }
      ]
    },
    {
      "cell_type": "code",
      "source": [
        "ad = \"Veysel\"\n",
        "soyad = \"Kaya\"\n",
        "okul = \"DCFL\"\n",
        "\n",
        "print(ad, soyad, okul)"
      ],
      "metadata": {
        "colab": {
          "base_uri": "https://localhost:8080/"
        },
        "id": "kAxrUa3O_JCj",
        "outputId": "41370981-e38a-4e08-cb1e-70137f9c7d30"
      },
      "execution_count": 10,
      "outputs": [
        {
          "output_type": "stream",
          "name": "stdout",
          "text": [
            "Veysel Kaya DCFL\n"
          ]
        }
      ]
    },
    {
      "cell_type": "code",
      "source": [
        "ad = \"Veysel\"\n",
        "soyad = \"Kaya\"\n",
        "okul = \"DCFL\"\n",
        "\n",
        "print(f\"Ben: {ad}, {soyad}. Okulum: {okul}\")"
      ],
      "metadata": {
        "colab": {
          "base_uri": "https://localhost:8080/"
        },
        "id": "xAY9XF6q_UnI",
        "outputId": "d52ff68e-e099-4d58-f7e4-e2fb2da038f4"
      },
      "execution_count": 14,
      "outputs": [
        {
          "output_type": "stream",
          "name": "stdout",
          "text": [
            "Ben: Veysel, Kaya. okulum: DCFL\n"
          ]
        }
      ]
    },
    {
      "cell_type": "code",
      "source": [
        "#kullanıcıdan veri alma.. input\n",
        "\n",
        "ad = input(\"Adınızı yazınız: \")\n",
        "\n",
        "print(f\"Hoşgeldin {ad} \")"
      ],
      "metadata": {
        "colab": {
          "base_uri": "https://localhost:8080/"
        },
        "id": "5C3F4EpX_zID",
        "outputId": "b3951474-be75-4e07-8919-b1c7e7fa817d"
      },
      "execution_count": 16,
      "outputs": [
        {
          "output_type": "stream",
          "name": "stdout",
          "text": [
            "Adınızı yazınız: Merve\n",
            "Hoşgeldin Merve \n"
          ]
        }
      ]
    },
    {
      "cell_type": "code",
      "source": [
        "#kullanıcıdan iki sayı alıp matematiksel işlemler yapalım\n",
        "\n",
        "sayi1 = int(input(\"Birinci sayıyı giriniz: \"))\n",
        "sayi2 = int(input(\"İkinci sayıyı giriniz: \"))\n",
        "\n",
        "toplama = sayi1+sayi2\n",
        "carpma = sayi1*sayi2\n",
        "bolme =  sayi1/sayi2\n",
        "cikarma = sayi1-sayi2\n",
        "\n",
        "print(f\"girdiğin sayılar: {sayi1}, {sayi2} \")\n",
        "print(f\"Çarpımları: {carpma} \")\n",
        "print(f\"Toplamları: {toplama} \")\n",
        "print(f\"Bölümleri: {bolme} \")\n",
        "print(f\"FArkları: {cikarma} \")"
      ],
      "metadata": {
        "colab": {
          "base_uri": "https://localhost:8080/"
        },
        "id": "C8FEJHRbADwz",
        "outputId": "acf7c45f-07e8-4257-af04-34962a995f60"
      },
      "execution_count": 18,
      "outputs": [
        {
          "output_type": "stream",
          "name": "stdout",
          "text": [
            "Birinci sayıyı giriniz: 10\n",
            "İkinci sayıyı giriniz: 5\n",
            "girdiğin sayılar: 10, 5 \n",
            "Çarpımları: 50 \n",
            "Toplamları: 15 \n",
            "Bölümleri: 2.0 \n",
            "FArkları: 5 \n"
          ]
        }
      ]
    },
    {
      "cell_type": "code",
      "source": [
        "#küpün hacmi ve yüzey alanınını bulan program\n",
        "print(\"Küpün hacmini ve yüzey alanını hesaplayan mini program\")\n",
        "print(50*\"*\")\n",
        "kenar = int(input(\"Küpün kenarını giriniz: \"))\n",
        "\n",
        "hacim = kenar**3\n",
        "alan= 6*kenar**2\n",
        "\n",
        "print(f\"Girmiş olduğun küpün  kenraının uzunluğu: {kenar}.\\nHacmi: {hacim}.\\nAlan: {alan}  dır. \")"
      ],
      "metadata": {
        "colab": {
          "base_uri": "https://localhost:8080/"
        },
        "id": "2ksP83etBLLN",
        "outputId": "2f9e238d-9b75-4c55-ae40-32b8ff711a1d"
      },
      "execution_count": 20,
      "outputs": [
        {
          "output_type": "stream",
          "name": "stdout",
          "text": [
            "Küpün hacmini ve yüzey alanını hesaplayan mini program\n",
            "**************************************************\n",
            "Küpün kenarını giriniz: 5\n",
            "Girmiş olduğun küpün  kenraının uzunluğu: 5.\n",
            "Hacmi: 125.\n",
            "Alan: 150  dır. \n"
          ]
        }
      ]
    },
    {
      "cell_type": "code",
      "source": [
        "#listeler\n",
        "\n",
        "meyveler = [\"Kiraz\", \"Portakal\", \"Elma\", \"Muz\", \"Ayva\"]\n",
        "print(meyveler)"
      ],
      "metadata": {
        "colab": {
          "base_uri": "https://localhost:8080/"
        },
        "id": "5AwhdWBaCHk-",
        "outputId": "3f424ff9-ff38-433a-cc08-58560dc97074"
      },
      "execution_count": 21,
      "outputs": [
        {
          "output_type": "stream",
          "name": "stdout",
          "text": [
            "['Kiraz', 'Portakal', 'Elma', 'Muz', 'Ayva']\n"
          ]
        }
      ]
    },
    {
      "cell_type": "code",
      "source": [
        "type(meyveler)"
      ],
      "metadata": {
        "colab": {
          "base_uri": "https://localhost:8080/"
        },
        "id": "wnJZt3YUCaF1",
        "outputId": "cf8ef75b-86c7-4563-a83a-b7283791528b"
      },
      "execution_count": 22,
      "outputs": [
        {
          "output_type": "execute_result",
          "data": {
            "text/plain": [
              "list"
            ]
          },
          "metadata": {},
          "execution_count": 22
        }
      ]
    },
    {
      "cell_type": "code",
      "source": [
        "help(meyveler)"
      ],
      "metadata": {
        "colab": {
          "base_uri": "https://localhost:8080/"
        },
        "id": "qsc6nS88CiPJ",
        "outputId": "6ee2a211-122c-4b00-99f7-4eea9bcdc06a"
      },
      "execution_count": 23,
      "outputs": [
        {
          "output_type": "stream",
          "name": "stdout",
          "text": [
            "Help on list object:\n",
            "\n",
            "class list(object)\n",
            " |  list(iterable=(), /)\n",
            " |  \n",
            " |  Built-in mutable sequence.\n",
            " |  \n",
            " |  If no argument is given, the constructor creates a new empty list.\n",
            " |  The argument must be an iterable if specified.\n",
            " |  \n",
            " |  Methods defined here:\n",
            " |  \n",
            " |  __add__(self, value, /)\n",
            " |      Return self+value.\n",
            " |  \n",
            " |  __contains__(self, key, /)\n",
            " |      Return key in self.\n",
            " |  \n",
            " |  __delitem__(self, key, /)\n",
            " |      Delete self[key].\n",
            " |  \n",
            " |  __eq__(self, value, /)\n",
            " |      Return self==value.\n",
            " |  \n",
            " |  __ge__(self, value, /)\n",
            " |      Return self>=value.\n",
            " |  \n",
            " |  __getattribute__(self, name, /)\n",
            " |      Return getattr(self, name).\n",
            " |  \n",
            " |  __getitem__(...)\n",
            " |      x.__getitem__(y) <==> x[y]\n",
            " |  \n",
            " |  __gt__(self, value, /)\n",
            " |      Return self>value.\n",
            " |  \n",
            " |  __iadd__(self, value, /)\n",
            " |      Implement self+=value.\n",
            " |  \n",
            " |  __imul__(self, value, /)\n",
            " |      Implement self*=value.\n",
            " |  \n",
            " |  __init__(self, /, *args, **kwargs)\n",
            " |      Initialize self.  See help(type(self)) for accurate signature.\n",
            " |  \n",
            " |  __iter__(self, /)\n",
            " |      Implement iter(self).\n",
            " |  \n",
            " |  __le__(self, value, /)\n",
            " |      Return self<=value.\n",
            " |  \n",
            " |  __len__(self, /)\n",
            " |      Return len(self).\n",
            " |  \n",
            " |  __lt__(self, value, /)\n",
            " |      Return self<value.\n",
            " |  \n",
            " |  __mul__(self, value, /)\n",
            " |      Return self*value.\n",
            " |  \n",
            " |  __ne__(self, value, /)\n",
            " |      Return self!=value.\n",
            " |  \n",
            " |  __repr__(self, /)\n",
            " |      Return repr(self).\n",
            " |  \n",
            " |  __reversed__(self, /)\n",
            " |      Return a reverse iterator over the list.\n",
            " |  \n",
            " |  __rmul__(self, value, /)\n",
            " |      Return value*self.\n",
            " |  \n",
            " |  __setitem__(self, key, value, /)\n",
            " |      Set self[key] to value.\n",
            " |  \n",
            " |  __sizeof__(self, /)\n",
            " |      Return the size of the list in memory, in bytes.\n",
            " |  \n",
            " |  append(self, object, /)\n",
            " |      Append object to the end of the list.\n",
            " |  \n",
            " |  clear(self, /)\n",
            " |      Remove all items from list.\n",
            " |  \n",
            " |  copy(self, /)\n",
            " |      Return a shallow copy of the list.\n",
            " |  \n",
            " |  count(self, value, /)\n",
            " |      Return number of occurrences of value.\n",
            " |  \n",
            " |  extend(self, iterable, /)\n",
            " |      Extend list by appending elements from the iterable.\n",
            " |  \n",
            " |  index(self, value, start=0, stop=9223372036854775807, /)\n",
            " |      Return first index of value.\n",
            " |      \n",
            " |      Raises ValueError if the value is not present.\n",
            " |  \n",
            " |  insert(self, index, object, /)\n",
            " |      Insert object before index.\n",
            " |  \n",
            " |  pop(self, index=-1, /)\n",
            " |      Remove and return item at index (default last).\n",
            " |      \n",
            " |      Raises IndexError if list is empty or index is out of range.\n",
            " |  \n",
            " |  remove(self, value, /)\n",
            " |      Remove first occurrence of value.\n",
            " |      \n",
            " |      Raises ValueError if the value is not present.\n",
            " |  \n",
            " |  reverse(self, /)\n",
            " |      Reverse *IN PLACE*.\n",
            " |  \n",
            " |  sort(self, /, *, key=None, reverse=False)\n",
            " |      Sort the list in ascending order and return None.\n",
            " |      \n",
            " |      The sort is in-place (i.e. the list itself is modified) and stable (i.e. the\n",
            " |      order of two equal elements is maintained).\n",
            " |      \n",
            " |      If a key function is given, apply it once to each list item and sort them,\n",
            " |      ascending or descending, according to their function values.\n",
            " |      \n",
            " |      The reverse flag can be set to sort in descending order.\n",
            " |  \n",
            " |  ----------------------------------------------------------------------\n",
            " |  Static methods defined here:\n",
            " |  \n",
            " |  __new__(*args, **kwargs) from builtins.type\n",
            " |      Create and return a new object.  See help(type) for accurate signature.\n",
            " |  \n",
            " |  ----------------------------------------------------------------------\n",
            " |  Data and other attributes defined here:\n",
            " |  \n",
            " |  __hash__ = None\n",
            "\n"
          ]
        }
      ]
    },
    {
      "cell_type": "code",
      "source": [
        "\n",
        "liste1 = [0,1,2,3,4,5,6]\n",
        "liste2 = [7,8,9,10]\n",
        "\n",
        "liste3 = liste1+liste2\n",
        "\n",
        "print(liste3)"
      ],
      "metadata": {
        "colab": {
          "base_uri": "https://localhost:8080/"
        },
        "id": "FCdVX1K_C1B0",
        "outputId": "1a76af33-8bcb-4f64-eba3-9e03ca325271"
      },
      "execution_count": 30,
      "outputs": [
        {
          "output_type": "stream",
          "name": "stdout",
          "text": [
            "[0, 1, 2, 3, 4, 5, 6, 7, 8, 9, 10]\n"
          ]
        }
      ]
    },
    {
      "cell_type": "code",
      "source": [
        "liste3 + [11]"
      ],
      "metadata": {
        "colab": {
          "base_uri": "https://localhost:8080/"
        },
        "id": "8k55bOlyDP4x",
        "outputId": "2da93ed4-57c8-4199-ddb2-7a5153787eeb"
      },
      "execution_count": 31,
      "outputs": [
        {
          "output_type": "execute_result",
          "data": {
            "text/plain": [
              "[0, 1, 2, 3, 4, 5, 6, 7, 8, 9, 10, 11]"
            ]
          },
          "metadata": {},
          "execution_count": 31
        }
      ]
    },
    {
      "cell_type": "code",
      "source": [
        "liste4 = liste3 + [11]"
      ],
      "metadata": {
        "id": "F00Wo5A0DWCe"
      },
      "execution_count": 32,
      "outputs": []
    },
    {
      "cell_type": "code",
      "source": [
        "liste4"
      ],
      "metadata": {
        "colab": {
          "base_uri": "https://localhost:8080/"
        },
        "id": "aOwICFnWDgaK",
        "outputId": "78c69cf6-e715-4eeb-9958-3735397ee122"
      },
      "execution_count": 33,
      "outputs": [
        {
          "output_type": "execute_result",
          "data": {
            "text/plain": [
              "[0, 1, 2, 3, 4, 5, 6, 7, 8, 9, 10, 11]"
            ]
          },
          "metadata": {},
          "execution_count": 33
        }
      ]
    },
    {
      "cell_type": "code",
      "source": [
        "liste5 = liste4*2"
      ],
      "metadata": {
        "id": "hpSHmAhRDr5h"
      },
      "execution_count": 36,
      "outputs": []
    },
    {
      "cell_type": "code",
      "source": [
        "liste5"
      ],
      "metadata": {
        "colab": {
          "base_uri": "https://localhost:8080/"
        },
        "id": "fTrWeS4nDzJz",
        "outputId": "8753592e-f97d-4d68-ff72-a8113f0fe8e2"
      },
      "execution_count": 37,
      "outputs": [
        {
          "output_type": "execute_result",
          "data": {
            "text/plain": [
              "[0, 1, 2, 3, 4, 5, 6, 7, 8, 9, 10, 11, 0, 1, 2, 3, 4, 5, 6, 7, 8, 9, 10, 11]"
            ]
          },
          "metadata": {},
          "execution_count": 37
        }
      ]
    },
    {
      "cell_type": "code",
      "source": [
        "#listelerde metodlar\n",
        "#index"
      ],
      "metadata": {
        "id": "B5Ej6BBKD_iF"
      },
      "execution_count": null,
      "outputs": []
    },
    {
      "cell_type": "code",
      "source": [
        "meyveler"
      ],
      "metadata": {
        "colab": {
          "base_uri": "https://localhost:8080/"
        },
        "id": "GedfpLlKEFXF",
        "outputId": "a7af81c9-2485-4714-b827-c41f4af330d0"
      },
      "execution_count": 40,
      "outputs": [
        {
          "output_type": "execute_result",
          "data": {
            "text/plain": [
              "['Kiraz', 'Portakal', 'Elma', 'Muz', 'Ayva']"
            ]
          },
          "metadata": {},
          "execution_count": 40
        }
      ]
    },
    {
      "cell_type": "code",
      "source": [
        "meyveler[0]"
      ],
      "metadata": {
        "colab": {
          "base_uri": "https://localhost:8080/",
          "height": 35
        },
        "id": "fZy8bD95EWKP",
        "outputId": "e510276e-a891-4be3-c91d-9706550a0547"
      },
      "execution_count": 41,
      "outputs": [
        {
          "output_type": "execute_result",
          "data": {
            "text/plain": [
              "'Kiraz'"
            ],
            "application/vnd.google.colaboratory.intrinsic+json": {
              "type": "string"
            }
          },
          "metadata": {},
          "execution_count": 41
        }
      ]
    },
    {
      "cell_type": "code",
      "source": [
        "meyveler[3]"
      ],
      "metadata": {
        "colab": {
          "base_uri": "https://localhost:8080/",
          "height": 35
        },
        "id": "6cMfoZiHEg20",
        "outputId": "b038bb44-1306-4fc7-f6fd-729d5646e9c3"
      },
      "execution_count": 42,
      "outputs": [
        {
          "output_type": "execute_result",
          "data": {
            "text/plain": [
              "'Muz'"
            ],
            "application/vnd.google.colaboratory.intrinsic+json": {
              "type": "string"
            }
          },
          "metadata": {},
          "execution_count": 42
        }
      ]
    },
    {
      "cell_type": "code",
      "source": [
        "liste4"
      ],
      "metadata": {
        "colab": {
          "base_uri": "https://localhost:8080/"
        },
        "id": "PG4DIncLEkoh",
        "outputId": "076703a3-2e3c-4f53-93ce-096f4156423c"
      },
      "execution_count": 43,
      "outputs": [
        {
          "output_type": "execute_result",
          "data": {
            "text/plain": [
              "[0, 1, 2, 3, 4, 5, 6, 7, 8, 9, 10, 11]"
            ]
          },
          "metadata": {},
          "execution_count": 43
        }
      ]
    },
    {
      "cell_type": "code",
      "source": [
        "liste4[3:7]"
      ],
      "metadata": {
        "colab": {
          "base_uri": "https://localhost:8080/"
        },
        "id": "4xJgaHAGEnMI",
        "outputId": "4db9ce70-6e1e-49c5-c64f-d0d40a38685c"
      },
      "execution_count": 44,
      "outputs": [
        {
          "output_type": "execute_result",
          "data": {
            "text/plain": [
              "[3, 4, 5, 6]"
            ]
          },
          "metadata": {},
          "execution_count": 44
        }
      ]
    },
    {
      "cell_type": "code",
      "source": [
        "liste4[-2]"
      ],
      "metadata": {
        "colab": {
          "base_uri": "https://localhost:8080/"
        },
        "id": "tiAHxTlyFUwx",
        "outputId": "7a776dd0-a032-4ef4-c306-c7a302130543"
      },
      "execution_count": 45,
      "outputs": [
        {
          "output_type": "execute_result",
          "data": {
            "text/plain": [
              "10"
            ]
          },
          "metadata": {},
          "execution_count": 45
        }
      ]
    },
    {
      "cell_type": "code",
      "source": [
        "meyveler"
      ],
      "metadata": {
        "colab": {
          "base_uri": "https://localhost:8080/"
        },
        "id": "gCO8ga6oFa6h",
        "outputId": "a4776810-60f2-44f7-b003-4b51c8c38291"
      },
      "execution_count": 46,
      "outputs": [
        {
          "output_type": "execute_result",
          "data": {
            "text/plain": [
              "['Kiraz', 'Portakal', 'Elma', 'Muz', 'Ayva']"
            ]
          },
          "metadata": {},
          "execution_count": 46
        }
      ]
    },
    {
      "cell_type": "code",
      "source": [
        "meyveler.append(\"Çilek\")"
      ],
      "metadata": {
        "id": "k5qkKE4pFeFD"
      },
      "execution_count": 47,
      "outputs": []
    },
    {
      "cell_type": "code",
      "source": [
        "meyveler"
      ],
      "metadata": {
        "colab": {
          "base_uri": "https://localhost:8080/"
        },
        "id": "GjotpsAdFod6",
        "outputId": "163f1ae5-910e-4572-d602-172bdc00eea8"
      },
      "execution_count": 48,
      "outputs": [
        {
          "output_type": "execute_result",
          "data": {
            "text/plain": [
              "['Kiraz', 'Portakal', 'Elma', 'Muz', 'Ayva', 'Çilek']"
            ]
          },
          "metadata": {},
          "execution_count": 48
        }
      ]
    },
    {
      "cell_type": "code",
      "source": [
        "meyveler.sort()"
      ],
      "metadata": {
        "id": "Tqy_tdhPFvrm"
      },
      "execution_count": 49,
      "outputs": []
    },
    {
      "cell_type": "code",
      "source": [
        "meyveler"
      ],
      "metadata": {
        "colab": {
          "base_uri": "https://localhost:8080/"
        },
        "id": "JDCIzIzaF034",
        "outputId": "9cab7ce0-78b8-447a-c83c-533048fd2a70"
      },
      "execution_count": 50,
      "outputs": [
        {
          "output_type": "execute_result",
          "data": {
            "text/plain": [
              "['Ayva', 'Elma', 'Kiraz', 'Muz', 'Portakal', 'Çilek']"
            ]
          },
          "metadata": {},
          "execution_count": 50
        }
      ]
    },
    {
      "cell_type": "code",
      "source": [
        "liste = [10,25,89,6456,66,9999, 88, 4, 6,8,6,6,8,8,8]"
      ],
      "metadata": {
        "id": "ox8WdMjWGA8Q"
      },
      "execution_count": 53,
      "outputs": []
    },
    {
      "cell_type": "code",
      "source": [
        "liste.sort()\n",
        "liste"
      ],
      "metadata": {
        "colab": {
          "base_uri": "https://localhost:8080/"
        },
        "id": "FBkcNVRJGH6P",
        "outputId": "f88daced-bada-4c22-e64d-70a47ae0abad"
      },
      "execution_count": 54,
      "outputs": [
        {
          "output_type": "execute_result",
          "data": {
            "text/plain": [
              "[4, 6, 6, 6, 8, 8, 8, 8, 10, 25, 66, 88, 89, 6456, 9999]"
            ]
          },
          "metadata": {},
          "execution_count": 54
        }
      ]
    },
    {
      "cell_type": "code",
      "source": [
        "liste.reverse()\n",
        "liste"
      ],
      "metadata": {
        "colab": {
          "base_uri": "https://localhost:8080/"
        },
        "id": "mJ_Bdnm4GSx6",
        "outputId": "427e21ef-c9a8-4248-8213-1ec10863c24f"
      },
      "execution_count": 55,
      "outputs": [
        {
          "output_type": "execute_result",
          "data": {
            "text/plain": [
              "[9999, 6456, 89, 88, 66, 25, 10, 8, 8, 8, 8, 6, 6, 6, 4]"
            ]
          },
          "metadata": {},
          "execution_count": 55
        }
      ]
    },
    {
      "cell_type": "code",
      "source": [
        "liste.pop()"
      ],
      "metadata": {
        "colab": {
          "base_uri": "https://localhost:8080/"
        },
        "id": "6uk4uU2WGhw7",
        "outputId": "98e758db-3fd6-47c2-ead1-dbd36fc47505"
      },
      "execution_count": 56,
      "outputs": [
        {
          "output_type": "execute_result",
          "data": {
            "text/plain": [
              "4"
            ]
          },
          "metadata": {},
          "execution_count": 56
        }
      ]
    },
    {
      "cell_type": "code",
      "source": [
        "liste"
      ],
      "metadata": {
        "colab": {
          "base_uri": "https://localhost:8080/"
        },
        "id": "YiZXC7OyGpF_",
        "outputId": "3ec9cfd7-7044-4b24-e4f3-22940e39c8a1"
      },
      "execution_count": 57,
      "outputs": [
        {
          "output_type": "execute_result",
          "data": {
            "text/plain": [
              "[9999, 6456, 89, 88, 66, 25, 10, 8, 8, 8, 8, 6, 6, 6]"
            ]
          },
          "metadata": {},
          "execution_count": 57
        }
      ]
    },
    {
      "cell_type": "code",
      "source": [
        "liste.count(8)"
      ],
      "metadata": {
        "colab": {
          "base_uri": "https://localhost:8080/"
        },
        "id": "szxDvKZeGvPZ",
        "outputId": "72f031a5-e5aa-4db5-f08b-8f90e3f33bad"
      },
      "execution_count": 58,
      "outputs": [
        {
          "output_type": "execute_result",
          "data": {
            "text/plain": [
              "4"
            ]
          },
          "metadata": {},
          "execution_count": 58
        }
      ]
    },
    {
      "cell_type": "code",
      "source": [
        "#1'den20 ye 35 e kadar 2 rakamı kaç kere kullanılır\n",
        "\n",
        "sayi = \"1234567891011121314151617181920212223242526272829303132333435\"\n",
        "\n",
        "liste10= list(sayi)"
      ],
      "metadata": {
        "id": "eaeWX4U5HBhG"
      },
      "execution_count": 63,
      "outputs": []
    },
    {
      "cell_type": "code",
      "source": [
        "liste10"
      ],
      "metadata": {
        "colab": {
          "base_uri": "https://localhost:8080/"
        },
        "id": "EHLtEgL3Hd30",
        "outputId": "54908e9b-6d3f-48b9-c852-c17e3d9e2210"
      },
      "execution_count": 64,
      "outputs": [
        {
          "output_type": "execute_result",
          "data": {
            "text/plain": [
              "['1',\n",
              " '2',\n",
              " '3',\n",
              " '4',\n",
              " '5',\n",
              " '6',\n",
              " '7',\n",
              " '8',\n",
              " '9',\n",
              " '1',\n",
              " '0',\n",
              " '1',\n",
              " '1',\n",
              " '1',\n",
              " '2',\n",
              " '1',\n",
              " '3',\n",
              " '1',\n",
              " '4',\n",
              " '1',\n",
              " '5',\n",
              " '1',\n",
              " '6',\n",
              " '1',\n",
              " '7',\n",
              " '1',\n",
              " '8',\n",
              " '1',\n",
              " '9',\n",
              " '2',\n",
              " '0',\n",
              " '2',\n",
              " '1',\n",
              " '2',\n",
              " '2',\n",
              " '2',\n",
              " '3',\n",
              " '2',\n",
              " '4',\n",
              " '2',\n",
              " '5',\n",
              " '2',\n",
              " '6',\n",
              " '2',\n",
              " '7',\n",
              " '2',\n",
              " '8',\n",
              " '2',\n",
              " '9',\n",
              " '3',\n",
              " '0',\n",
              " '3',\n",
              " '1',\n",
              " '3',\n",
              " '2',\n",
              " '3',\n",
              " '3',\n",
              " '3',\n",
              " '4',\n",
              " '3',\n",
              " '5']"
            ]
          },
          "metadata": {},
          "execution_count": 64
        }
      ]
    },
    {
      "cell_type": "code",
      "source": [
        "liste10.count('2')"
      ],
      "metadata": {
        "colab": {
          "base_uri": "https://localhost:8080/"
        },
        "id": "cV1TdA3cHjBR",
        "outputId": "35e5ed77-3180-4585-bdba-6f8f440ab880"
      },
      "execution_count": 65,
      "outputs": [
        {
          "output_type": "execute_result",
          "data": {
            "text/plain": [
              "14"
            ]
          },
          "metadata": {},
          "execution_count": 65
        }
      ]
    },
    {
      "cell_type": "code",
      "source": [
        "#öğrenci kayıt programı. okula yeni başlayan öğrencileri listeye kaydeden mini program"
      ],
      "metadata": {
        "id": "R1kZtKYiH7Mx"
      },
      "execution_count": null,
      "outputs": []
    },
    {
      "cell_type": "code",
      "source": [
        "ogrenciListesi = []\n"
      ],
      "metadata": {
        "id": "SEwMMbk-IAU8"
      },
      "execution_count": 69,
      "outputs": []
    },
    {
      "cell_type": "code",
      "source": [
        "adSoyad = input(\"Adınız ve soyadınız: \")\n",
        "ogrenciListesi.append(adSoyad)"
      ],
      "metadata": {
        "colab": {
          "base_uri": "https://localhost:8080/"
        },
        "id": "KFW24_SJIpRS",
        "outputId": "fd71dd8e-e430-4344-e37b-fcaf4bb36218"
      },
      "execution_count": 78,
      "outputs": [
        {
          "name": "stdout",
          "output_type": "stream",
          "text": [
            "Adınız ve soyadınız: Hasan Gedikoğlu\n"
          ]
        }
      ]
    },
    {
      "cell_type": "code",
      "source": [
        "ogrenciListesi"
      ],
      "metadata": {
        "colab": {
          "base_uri": "https://localhost:8080/"
        },
        "id": "HZ55C1H_I9uk",
        "outputId": "0fef4625-86e4-46dc-c693-cf8b61a17d91"
      },
      "execution_count": 80,
      "outputs": [
        {
          "output_type": "execute_result",
          "data": {
            "text/plain": [
              "['Asude Adalan',\n",
              " 'Berk Yılmaz',\n",
              " 'Beyza Karakuş',\n",
              " 'Ecem Nur',\n",
              " 'Egemen Yakın',\n",
              " 'Ela Erdikler',\n",
              " 'Hasan Gedikoğlu']"
            ]
          },
          "metadata": {},
          "execution_count": 80
        }
      ]
    },
    {
      "cell_type": "code",
      "source": [
        "#listenin uzhnluğunu hesaplayan komut"
      ],
      "metadata": {
        "id": "IRzO8bU9JFnT"
      },
      "execution_count": null,
      "outputs": []
    },
    {
      "cell_type": "code",
      "source": [
        "len(ogrenciListesi)"
      ],
      "metadata": {
        "colab": {
          "base_uri": "https://localhost:8080/"
        },
        "id": "XKuF7PtlJKSV",
        "outputId": "f3bd4165-dba1-4953-af88-e606c7a5fe94"
      },
      "execution_count": 79,
      "outputs": [
        {
          "output_type": "execute_result",
          "data": {
            "text/plain": [
              "7"
            ]
          },
          "metadata": {},
          "execution_count": 79
        }
      ]
    },
    {
      "cell_type": "code",
      "source": [
        "ogrenciListesi.sort()\n",
        "ogrenciListesi"
      ],
      "metadata": {
        "colab": {
          "base_uri": "https://localhost:8080/"
        },
        "id": "zevZdYfXJnxj",
        "outputId": "a0d6f833-46a6-42d7-be0e-2a17c4ff0672"
      },
      "execution_count": 82,
      "outputs": [
        {
          "output_type": "execute_result",
          "data": {
            "text/plain": [
              "['Asude Adalan',\n",
              " 'Berk Yılmaz',\n",
              " 'Beyza Karakuş',\n",
              " 'Ecem Nur',\n",
              " 'Egemen Yakın',\n",
              " 'Ela Erdikler',\n",
              " 'Hasan Gedikoğlu']"
            ]
          },
          "metadata": {},
          "execution_count": 82
        }
      ]
    },
    {
      "cell_type": "code",
      "source": [
        "liste15 = [[1,2,3], [4,5,6], [7,8,9,10]]\n",
        "\n"
      ],
      "metadata": {
        "id": "zqW4LGfeJ4wx"
      },
      "execution_count": 84,
      "outputs": []
    },
    {
      "cell_type": "code",
      "source": [
        "liste15[1][1]"
      ],
      "metadata": {
        "colab": {
          "base_uri": "https://localhost:8080/"
        },
        "id": "8L3zhGj4KETs",
        "outputId": "892cd3a1-3f83-45fc-aa5f-e6c8e7731e32"
      },
      "execution_count": 85,
      "outputs": [
        {
          "output_type": "execute_result",
          "data": {
            "text/plain": [
              "5"
            ]
          },
          "metadata": {},
          "execution_count": 85
        }
      ]
    },
    {
      "cell_type": "code",
      "source": [
        "#her öğrencinin [[adısoyadı, yas, geldiğiokul]] şeklinde kaydedilsin"
      ],
      "metadata": {
        "id": "1aRcTB6XKOkB"
      },
      "execution_count": null,
      "outputs": []
    },
    {
      "cell_type": "code",
      "source": [
        "ogrenciListesi2=[]"
      ],
      "metadata": {
        "id": "TnxMfyv0KaYm"
      },
      "execution_count": 89,
      "outputs": []
    },
    {
      "cell_type": "code",
      "source": [
        "adSoyad = input(\"Adın soyadın: \")\n",
        "yas = input(\"Yaşın: \")\n",
        "geldiginOkul = input(\"geldiğiniz okulun adı: \")\n",
        "\n",
        "ogrenci = [adSoyad, yas, geldiginOkul]\n",
        "ogrenciListesi2.append(ogrenci)"
      ],
      "metadata": {
        "colab": {
          "base_uri": "https://localhost:8080/"
        },
        "id": "C-8CLhaaKiIS",
        "outputId": "cbc7a9b7-5d35-4a83-dced-3998fc446ca0"
      },
      "execution_count": 91,
      "outputs": [
        {
          "name": "stdout",
          "output_type": "stream",
          "text": [
            "Adın soyadın: Asude Adalan\n",
            "Yaşın: 15\n",
            "geldiğiniz okulun adı: Minik kediler O.o\n"
          ]
        }
      ]
    },
    {
      "cell_type": "code",
      "source": [
        "ogrenciListesi2"
      ],
      "metadata": {
        "colab": {
          "base_uri": "https://localhost:8080/"
        },
        "id": "rYb3r3MgLXQC",
        "outputId": "f53e04e7-5c87-4624-cbcb-d7e317a822e3"
      },
      "execution_count": 92,
      "outputs": [
        {
          "output_type": "execute_result",
          "data": {
            "text/plain": [
              "[['Eren K.', '14', 'Minik Jelibonlar O.o'],\n",
              " ['Asude Adalan', '15', 'Minik kediler O.o']]"
            ]
          },
          "metadata": {},
          "execution_count": 92
        }
      ]
    },
    {
      "cell_type": "code",
      "source": [
        "#ödev: okulumuzdaki öğretmenlerin, isimleri, branşları, girdikleri sınıfları; her bir öğretmenin bu verilerini bir listeye ekleyelim. Sonrasında bütün öğretmenleri de daha büyük bir listeye ekleyelim.\n",
        "# bu listenin kaç elemanlı olduğunu ekrana yazdıralım\n",
        "# öğretmen isimlerine göre alfabetik olarak ekrana yazdıralım\n",
        "#öğretmenin isimleri yazarak onunla ilgili verilerin olduğu listeyi ekrana yazdıralım"
      ],
      "metadata": {
        "id": "sUUwf5j7MmzZ"
      },
      "execution_count": null,
      "outputs": []
    }
  ]
}