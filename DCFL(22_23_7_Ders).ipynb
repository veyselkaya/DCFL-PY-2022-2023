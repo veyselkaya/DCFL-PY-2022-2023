{
  "nbformat": 4,
  "nbformat_minor": 0,
  "metadata": {
    "colab": {
      "provenance": []
    },
    "kernelspec": {
      "name": "python3",
      "display_name": "Python 3"
    },
    "language_info": {
      "name": "python"
    }
  },
  "cells": [
    {
      "cell_type": "code",
      "execution_count": 2,
      "metadata": {
        "colab": {
          "base_uri": "https://localhost:8080/"
        },
        "id": "FeGR_bWQgEja",
        "outputId": "536e82fa-b3f0-425e-a296-3e6fb4f232f4"
      },
      "outputs": [
        {
          "output_type": "stream",
          "name": "stdout",
          "text": [
            "0\n",
            "1\n",
            "2\n",
            "3\n",
            "4\n",
            "5\n",
            "6\n",
            "7\n",
            "8\n",
            "9\n"
          ]
        }
      ],
      "source": [
        "#minik tekrar\n",
        "\n",
        "i = 0\n",
        "\n",
        "while i<10:\n",
        "  print(i)\n",
        "  i +=1"
      ]
    },
    {
      "cell_type": "code",
      "source": [
        "while True:\n",
        "  ad = input(\"Adınızı yazınız: \")\n",
        "  if ad == \"q\":\n",
        "    print(\"sistem sonlandırıldı\")\n",
        "    break\n",
        "  print(f\"Hoş geldin: {ad} \")"
      ],
      "metadata": {
        "colab": {
          "base_uri": "https://localhost:8080/"
        },
        "id": "V-Bb0ucTg2Hk",
        "outputId": "5549d5b4-12d9-472d-fed7-eb31a38aa3da"
      },
      "execution_count": 4,
      "outputs": [
        {
          "output_type": "stream",
          "name": "stdout",
          "text": [
            "Adınızı yazınız: kedi\n",
            "Hoş geldin: kedi \n",
            "Adınızı yazınız: elma\n",
            "Hoş geldin: elma \n",
            "Adınızı yazınız: muz\n",
            "Hoş geldin: muz \n",
            "Adınızı yazınız: q\n",
            "sistem sonlandırıldı\n"
          ]
        }
      ]
    },
    {
      "cell_type": "code",
      "source": [
        "#Kullanıcı girişini simüle eden program\n",
        "\n",
        "s_kullanici_adi = \"kedi\"\n",
        "s_sifre = \"1234\"\n",
        "giris_hakki = 3\n",
        "\n",
        "while True:\n",
        "  kullanici_adi = input(\"Kullanıcı adını gir: \")\n",
        "  sifre = input(\"şifreni gir: \")\n",
        "  if kullanici_adi != s_kullanici_adi and sifre == s_sifre:\n",
        "    print(\"Kullanıcı adını yanlış!\")\n",
        "    giris_hakki -=1\n",
        "    print(f\"kalan giriş hakkiniz: {giris_hakki} \")\n",
        "  elif kullanici_adi == s_kullanici_adi and sifre != s_sifre:\n",
        "    print(\"Şifreni yanlış girdin!\")\n",
        "    giris_hakki -=1\n",
        "    print(f\"kalan giriş hakkiniz: {giris_hakki} \")\n",
        "  elif kullanici_adi != s_kullanici_adi and sifre != s_sifre:\n",
        "    print(\"Her iki alan da yanlış!\")\n",
        "    giris_hakki -=1\n",
        "    print(f\"kalan giriş hakkiniz: {giris_hakki} \")\n",
        "  else:\n",
        "    print(\"Giriş başrılı, tebrikler...\")\n",
        "#web sayfasınınn kullanıcı kısmına giriş yapılabilir...\n",
        "    break\n",
        "  if giris_hakki ==0:\n",
        "    print(\"günlük giriş deneme hakkınız doldu! Lütfen yarın bir daha deneyinz!\")\n",
        "    break\n",
        "    \n",
        "  "
      ],
      "metadata": {
        "colab": {
          "base_uri": "https://localhost:8080/"
        },
        "id": "Rqstuqa3hm9-",
        "outputId": "8328fca3-3b07-452c-dc1e-d9681e1395c3"
      },
      "execution_count": 11,
      "outputs": [
        {
          "output_type": "stream",
          "name": "stdout",
          "text": [
            "Kullanıcı adını gir: kedi\n",
            "şifreni gir: 2\n",
            "Şifreni yanlış girdin!\n",
            "kalan giriş hakkiniz: 2 \n",
            "Kullanıcı adını gir: k\n",
            "şifreni gir: 4\n",
            "Her iki alan da yanlış!\n",
            "kalan giriş hakkiniz: 1 \n",
            "Kullanıcı adını gir: 6\n",
            "şifreni gir: e\n",
            "Her iki alan da yanlış!\n",
            "kalan giriş hakkiniz: 0 \n",
            "günlük giriş deneme hakkınız doldu! Lütfen yarın bir daha deneyinz!\n"
          ]
        }
      ]
    },
    {
      "cell_type": "code",
      "source": [
        "#ATM programı\n",
        "\n",
        "print(\"Bakiye sorgulamak için 1, Para yatırmak için 2, Para çekmek için 3 tuşlarına, çıkmak için q ya basınız...\")\n",
        "\n",
        "\n",
        "bakiye = 5000\n",
        "s_sifre = \"123\"\n",
        "k_sifre = input(\"lütfen kart şifrenizi giriniz: \")\n",
        "ad = \"Minik kedi\"\n",
        "\n",
        "\n",
        "if k_sifre == s_sifre:\n",
        "  print(f\"hoş geldiniz: {ad} \")\n",
        "  while True:\n",
        "      islem_sec = input(\"Lütfen yapmak istediğiniz işlemi seçiniz...: \")\n",
        "      if islem_sec == \"q\":\n",
        "       print(\"İşlem sonlandırıldı. Kartınıız alınız!\")\n",
        "       break\n",
        "      elif islem_sec == \"1\":\n",
        "        print(f\"Güncel bakiyeniz:  {bakiye}\")\n",
        "      elif islem_sec == \"2\":\n",
        "        miktar = int(input(\"Yatırmak istediğiniz miktarı giriniz: \"))\n",
        "        bakiye +=miktar\n",
        "        print(f\"Yeni bakiyeniz: {bakiye}\")\n",
        "      elif islem_sec == \"3\":\n",
        "        miktar = int(input(\"Çekmek istediğiniz miktarı giriniz: \"))\n",
        "        bakiye -=miktar\n",
        "        print(f\"Çektiğiniz miktar: {miktar}₺. Kalan bakiyeniz: {bakiye} \")\n",
        "      else:\n",
        "        print(\"Geçersiz bir işlem seçtiniz: \")\n",
        "\n",
        "else:\n",
        "  print(\"Şifreniz hatalı. Lütfen tekrar deneyiniz...\")\n",
        "  \n",
        "\n",
        "  \n",
        "#ödev: negatif bakiye durumnda para çekme işlemini ebgelleyelim\n"
      ],
      "metadata": {
        "colab": {
          "base_uri": "https://localhost:8080/"
        },
        "id": "aMxEbRB6l6TY",
        "outputId": "dfd7ae92-c44f-49a8-ad25-3d369df999e8"
      },
      "execution_count": 14,
      "outputs": [
        {
          "output_type": "stream",
          "name": "stdout",
          "text": [
            "Bakiye sorgulamak için 1, Para yatırmak için 2, Para çekmek için 3 tuşlarına, çıkmak için q ya basınız...\n",
            "lütfen kart şifrenizi giriniz: 123\n",
            "hoş geldiniz: Minik kedi \n",
            "Lütfen yapmak istediğiniz işlemi seçiniz...: 1\n",
            "Güncel bakiyeniz:  5000\n",
            "Lütfen yapmak istediğiniz işlemi seçiniz...: 3\n",
            "Çekmek istediğiniz miktarı giriniz: 1000\n",
            "Çektiğiniz miktar: 1000₺. Kalan bakiyeniz: 4000 \n",
            "Lütfen yapmak istediğiniz işlemi seçiniz...: 1\n",
            "Güncel bakiyeniz:  4000\n",
            "Lütfen yapmak istediğiniz işlemi seçiniz...: 2\n",
            "Yatırmak istediğiniz miktarı giriniz: 4000\n",
            "Yeni bakiyeniz: 8000\n",
            "Lütfen yapmak istediğiniz işlemi seçiniz...: q\n",
            "İşlem sonlandırıldı. Kartınıız alınız!\n"
          ]
        }
      ]
    },
    {
      "cell_type": "code",
      "source": [
        "#ödev-2: while true kullanrak 10 soruluk bir bilgi yarışması kodlayınız.."
      ],
      "metadata": {
        "id": "PTuqGK22uCPT"
      },
      "execution_count": null,
      "outputs": []
    },
    {
      "cell_type": "markdown",
      "source": [
        "**Fonksiyonlar**"
      ],
      "metadata": {
        "id": "FVXQmrdwvKtC"
      }
    },
    {
      "cell_type": "code",
      "source": [
        "def merhaba():\n",
        "  print(\"Hoş geldin kullanıcı...!\")"
      ],
      "metadata": {
        "id": "_NYREt9lwGQI"
      },
      "execution_count": 18,
      "outputs": []
    },
    {
      "cell_type": "code",
      "source": [
        "merhaba()"
      ],
      "metadata": {
        "colab": {
          "base_uri": "https://localhost:8080/"
        },
        "id": "bT8bPZUKwREL",
        "outputId": "93610dd2-4ec4-44bf-ed5e-4d75c5526d60"
      },
      "execution_count": 19,
      "outputs": [
        {
          "output_type": "stream",
          "name": "stdout",
          "text": [
            "Hoş geldin kullanıcı...!\n"
          ]
        }
      ]
    },
    {
      "cell_type": "code",
      "source": [
        "def toplama():\n",
        "  sayi1 = int(input(\"birinci sayıyı gir: \"))\n",
        "  sayi2 = int(input(\"ikinci sayıyı gir: \"))\n",
        "  toplam = sayi1+sayi2\n",
        "  print(f\"girdiğin sayılar {sayi1},{sayi2}. Toplamları: {toplam} \")"
      ],
      "metadata": {
        "id": "11gmNM15wZuA"
      },
      "execution_count": 20,
      "outputs": []
    },
    {
      "cell_type": "code",
      "source": [
        "toplama()"
      ],
      "metadata": {
        "colab": {
          "base_uri": "https://localhost:8080/"
        },
        "id": "holnzY4cw0HI",
        "outputId": "195dcfff-858b-4c06-f314-9c972f3eb6c7"
      },
      "execution_count": 21,
      "outputs": [
        {
          "output_type": "stream",
          "name": "stdout",
          "text": [
            "birinci sayıyı gir: 1\n",
            "ikinci sayıyı gir: 2\n",
            "girdiğin sayılar 1,2. Toplamları: 3 \n"
          ]
        }
      ]
    },
    {
      "cell_type": "code",
      "source": [
        "merhaba()"
      ],
      "metadata": {
        "colab": {
          "base_uri": "https://localhost:8080/"
        },
        "id": "PDZwH53Jw5Ox",
        "outputId": "e5cc0e84-a370-445b-cb04-5ae31c6d90e1"
      },
      "execution_count": 22,
      "outputs": [
        {
          "output_type": "stream",
          "name": "stdout",
          "text": [
            "Hoş geldin kullanıcı...!\n"
          ]
        }
      ]
    },
    {
      "cell_type": "code",
      "source": [
        "#parametre ve argüman alınıp yapılan fonksiyonlar"
      ],
      "metadata": {
        "id": "PQZp79zDxDVz"
      },
      "execution_count": null,
      "outputs": []
    },
    {
      "cell_type": "code",
      "source": [
        "def karsilama(isim):\n",
        "  print(f\"hoş geldin: {isim}\")"
      ],
      "metadata": {
        "id": "Qh1Zi3tUxJO5"
      },
      "execution_count": 23,
      "outputs": []
    },
    {
      "cell_type": "code",
      "source": [
        "karsilama(\"Zeynep\")"
      ],
      "metadata": {
        "colab": {
          "base_uri": "https://localhost:8080/"
        },
        "id": "4JY3VxSgxRF9",
        "outputId": "0acb693a-1163-4aa6-9493-1fc28d8b5aae"
      },
      "execution_count": 24,
      "outputs": [
        {
          "output_type": "stream",
          "name": "stdout",
          "text": [
            "hoş geldin: Zeynep\n"
          ]
        }
      ]
    },
    {
      "cell_type": "code",
      "source": [
        "karsilama(\"Boran\")"
      ],
      "metadata": {
        "colab": {
          "base_uri": "https://localhost:8080/"
        },
        "id": "SPNxQhfxxZBP",
        "outputId": "18b7602d-1d3f-44ca-ac6b-6e9b9c58bd9f"
      },
      "execution_count": 25,
      "outputs": [
        {
          "output_type": "stream",
          "name": "stdout",
          "text": [
            "hoş geldin: Boran\n"
          ]
        }
      ]
    },
    {
      "cell_type": "code",
      "source": [
        "def toplamlar(a,b,c):\n",
        "  print(f\"Toplamları:{a+b+c} \")"
      ],
      "metadata": {
        "id": "9-jvzDbxxgf7"
      },
      "execution_count": 27,
      "outputs": []
    },
    {
      "cell_type": "code",
      "source": [
        "toplamlar(1,2,3)"
      ],
      "metadata": {
        "colab": {
          "base_uri": "https://localhost:8080/"
        },
        "id": "HM1t5nIKxumY",
        "outputId": "df6576a6-4b28-4cc9-a699-9c66f7f1e420"
      },
      "execution_count": 28,
      "outputs": [
        {
          "output_type": "stream",
          "name": "stdout",
          "text": [
            "Toplamları:6 \n"
          ]
        }
      ]
    },
    {
      "cell_type": "code",
      "source": [
        "toplamlar()"
      ],
      "metadata": {
        "colab": {
          "base_uri": "https://localhost:8080/",
          "height": 169
        },
        "id": "VL52aDGRx3y2",
        "outputId": "f27bee92-8b27-4431-f080-b169f54c0980"
      },
      "execution_count": 29,
      "outputs": [
        {
          "output_type": "error",
          "ename": "TypeError",
          "evalue": "ignored",
          "traceback": [
            "\u001b[0;31m---------------------------------------------------------------------------\u001b[0m",
            "\u001b[0;31mTypeError\u001b[0m                                 Traceback (most recent call last)",
            "\u001b[0;32m<ipython-input-29-bcb34392cf34>\u001b[0m in \u001b[0;36m<module>\u001b[0;34m\u001b[0m\n\u001b[0;32m----> 1\u001b[0;31m \u001b[0mtoplamlar\u001b[0m\u001b[0;34m(\u001b[0m\u001b[0;34m)\u001b[0m\u001b[0;34m\u001b[0m\u001b[0;34m\u001b[0m\u001b[0m\n\u001b[0m",
            "\u001b[0;31mTypeError\u001b[0m: toplamlar() missing 3 required positional arguments: 'a', 'b', and 'c'"
          ]
        }
      ]
    },
    {
      "cell_type": "code",
      "source": [
        "toplamlar(3,4,5)"
      ],
      "metadata": {
        "colab": {
          "base_uri": "https://localhost:8080/"
        },
        "id": "lk1Hw92tx9O1",
        "outputId": "d1473eec-130b-4982-ae1c-777bea17c756"
      },
      "execution_count": 30,
      "outputs": [
        {
          "output_type": "stream",
          "name": "stdout",
          "text": [
            "Toplamları:12 \n"
          ]
        }
      ]
    },
    {
      "cell_type": "code",
      "source": [
        "merhaba()"
      ],
      "metadata": {
        "colab": {
          "base_uri": "https://localhost:8080/"
        },
        "id": "okyoaIbTyOyS",
        "outputId": "ca48f30e-cf68-42a5-a8f2-b8ebc7588980"
      },
      "execution_count": 31,
      "outputs": [
        {
          "output_type": "stream",
          "name": "stdout",
          "text": [
            "Hoş geldin kullanıcı...!\n"
          ]
        }
      ]
    }
  ]
}