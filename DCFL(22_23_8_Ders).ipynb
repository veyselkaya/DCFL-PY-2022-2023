{
  "nbformat": 4,
  "nbformat_minor": 0,
  "metadata": {
    "colab": {
      "provenance": []
    },
    "kernelspec": {
      "name": "python3",
      "display_name": "Python 3"
    },
    "language_info": {
      "name": "python"
    }
  },
  "cells": [
    {
      "cell_type": "code",
      "execution_count": 1,
      "metadata": {
        "id": "re6oqGxzizcl"
      },
      "outputs": [],
      "source": [
        "#fonksiyonlar"
      ]
    },
    {
      "cell_type": "code",
      "source": [
        "def toplama():\n",
        "  sayi1 = int(input(\"sayı 1:\"))\n",
        "  sayi2 = int(input(\"sayı 2:\"))\n",
        "  toplam = sayi1+sayi2\n",
        "  print(f\"girdiğin sayıların toplamı: {toplam}\")"
      ],
      "metadata": {
        "id": "MoO18aO1kXO2"
      },
      "execution_count": 2,
      "outputs": []
    },
    {
      "cell_type": "code",
      "source": [
        "toplama()"
      ],
      "metadata": {
        "colab": {
          "base_uri": "https://localhost:8080/"
        },
        "id": "aDifX8YUktQ1",
        "outputId": "c03422fa-324f-4b70-c8fb-9dc7eb96519b"
      },
      "execution_count": 3,
      "outputs": [
        {
          "output_type": "stream",
          "name": "stdout",
          "text": [
            "sayı 1:2\n",
            "sayı 2:4\n",
            "girdiğin sayıların toplamı: 6\n"
          ]
        }
      ]
    },
    {
      "cell_type": "code",
      "source": [
        "#fonksiyonlarda parametre"
      ],
      "metadata": {
        "id": "JGemWmYAk2sY"
      },
      "execution_count": null,
      "outputs": []
    },
    {
      "cell_type": "code",
      "source": [
        "def usalma(taban, us):\n",
        "  sonuc = taban**us\n",
        "  print(f\"işlemin sonucu: {sonuc}\")"
      ],
      "metadata": {
        "id": "QyOw15HIk-U1"
      },
      "execution_count": 4,
      "outputs": []
    },
    {
      "cell_type": "code",
      "source": [
        "usalma(3,2)"
      ],
      "metadata": {
        "colab": {
          "base_uri": "https://localhost:8080/"
        },
        "id": "qmImef-TlOeE",
        "outputId": "db31f240-2596-4a15-db12-20cab2dedbb9"
      },
      "execution_count": 5,
      "outputs": [
        {
          "output_type": "stream",
          "name": "stdout",
          "text": [
            "işlemin sonucu: 9\n"
          ]
        }
      ]
    },
    {
      "cell_type": "code",
      "source": [
        "usalma(16, 0.5)"
      ],
      "metadata": {
        "colab": {
          "base_uri": "https://localhost:8080/"
        },
        "id": "WfJ0SGUSlZKz",
        "outputId": "510f6c71-78c4-4490-db6d-ccb1b5121afc"
      },
      "execution_count": 7,
      "outputs": [
        {
          "output_type": "stream",
          "name": "stdout",
          "text": [
            "işlemin sonucu: 4.0\n"
          ]
        }
      ]
    },
    {
      "cell_type": "code",
      "source": [
        "def toplam2(a,b,c):\n",
        "  print(f\"Girdiğin sayıların toplamı: {a+b+c} \")\n"
      ],
      "metadata": {
        "id": "qg4E99kWlwGk"
      },
      "execution_count": 8,
      "outputs": []
    },
    {
      "cell_type": "code",
      "source": [
        "toplam2(3,4,5)"
      ],
      "metadata": {
        "colab": {
          "base_uri": "https://localhost:8080/"
        },
        "id": "_6ZdQyL5mHGB",
        "outputId": "165b8a71-5f26-4012-8837-ca8a4927b785"
      },
      "execution_count": 9,
      "outputs": [
        {
          "output_type": "stream",
          "name": "stdout",
          "text": [
            "Girdiğin sayıların toplamı: 12 \n"
          ]
        }
      ]
    },
    {
      "cell_type": "code",
      "source": [
        "#istenildiği kadar sayı toplayan bir fonksiyon"
      ],
      "metadata": {
        "id": "wUYfJPrdljIr"
      },
      "execution_count": null,
      "outputs": []
    },
    {
      "cell_type": "code",
      "source": [
        "def coklutoplam(*x):\n",
        "  toplam = 0 \n",
        "  for i in x:\n",
        "    toplam +=i\n",
        "  print(f\"Girdiğiniz sayıların toplamı: {toplam} \")\n"
      ],
      "metadata": {
        "id": "3fyXcGBAmRjD"
      },
      "execution_count": 10,
      "outputs": []
    },
    {
      "cell_type": "code",
      "source": [
        "coklutoplam(1,2,3,4,5,6,7,8,9,10)"
      ],
      "metadata": {
        "colab": {
          "base_uri": "https://localhost:8080/"
        },
        "id": "RR3cM_mqmqDI",
        "outputId": "7c3cfc79-ba3a-4329-b608-e0d414662a4c"
      },
      "execution_count": 12,
      "outputs": [
        {
          "output_type": "stream",
          "name": "stdout",
          "text": [
            "Girdiğiniz sayıların toplamı: 55 \n"
          ]
        }
      ]
    },
    {
      "cell_type": "code",
      "source": [
        "#return kavramı"
      ],
      "metadata": {
        "id": "CNpllqFunAqw"
      },
      "execution_count": null,
      "outputs": []
    },
    {
      "cell_type": "code",
      "source": [
        "def ikiilcarp(a):\n",
        "  return 2*a"
      ],
      "metadata": {
        "id": "Fw8WlmTbnKK6"
      },
      "execution_count": 14,
      "outputs": []
    },
    {
      "cell_type": "code",
      "source": [
        "ikiilcarp(4)"
      ],
      "metadata": {
        "colab": {
          "base_uri": "https://localhost:8080/"
        },
        "id": "dGBsva22oBU4",
        "outputId": "703c7acd-9fcb-4aec-a9a2-880371658bf0"
      },
      "execution_count": 15,
      "outputs": [
        {
          "output_type": "execute_result",
          "data": {
            "text/plain": [
              "8"
            ]
          },
          "metadata": {},
          "execution_count": 15
        }
      ]
    },
    {
      "cell_type": "code",
      "source": [
        "def ucilebol(b):\n",
        "  return b/3"
      ],
      "metadata": {
        "id": "hC3490PaoFiR"
      },
      "execution_count": 16,
      "outputs": []
    },
    {
      "cell_type": "code",
      "source": [
        "ucilebol(9)"
      ],
      "metadata": {
        "colab": {
          "base_uri": "https://localhost:8080/"
        },
        "id": "-ehVn2t8oKbX",
        "outputId": "3351ac55-2561-4510-c9ef-e3f101ea8f4f"
      },
      "execution_count": 17,
      "outputs": [
        {
          "output_type": "execute_result",
          "data": {
            "text/plain": [
              "3.0"
            ]
          },
          "metadata": {},
          "execution_count": 17
        }
      ]
    },
    {
      "cell_type": "code",
      "source": [
        "def kareal(c):\n",
        "  return c**2"
      ],
      "metadata": {
        "id": "YZ3ki2b_oQJ-"
      },
      "execution_count": 18,
      "outputs": []
    },
    {
      "cell_type": "code",
      "source": [
        "kareal(5)"
      ],
      "metadata": {
        "colab": {
          "base_uri": "https://localhost:8080/"
        },
        "id": "IJyo7KNboYfK",
        "outputId": "13bc9d69-e928-40c9-9a06-32e22c59f241"
      },
      "execution_count": 19,
      "outputs": [
        {
          "output_type": "execute_result",
          "data": {
            "text/plain": [
              "25"
            ]
          },
          "metadata": {},
          "execution_count": 19
        }
      ]
    },
    {
      "cell_type": "code",
      "source": [
        "ikiilcarp(kareal(ucilebol(9)))"
      ],
      "metadata": {
        "colab": {
          "base_uri": "https://localhost:8080/"
        },
        "id": "3S-WQLjvocAR",
        "outputId": "7e10cf70-7c3a-4cb7-d971-7dca90eb7d02"
      },
      "execution_count": 20,
      "outputs": [
        {
          "output_type": "execute_result",
          "data": {
            "text/plain": [
              "18.0"
            ]
          },
          "metadata": {},
          "execution_count": 20
        }
      ]
    },
    {
      "cell_type": "code",
      "source": [
        "def islemsonucu():\n",
        "  x = int(input(\"başlangıç değerini gir: \"))\n",
        "  print(ucilebol(ikiilcarp(kareal(x))))"
      ],
      "metadata": {
        "id": "F1AZwxkbo6_w"
      },
      "execution_count": 24,
      "outputs": []
    },
    {
      "cell_type": "code",
      "source": [
        "islemsonucu()"
      ],
      "metadata": {
        "colab": {
          "base_uri": "https://localhost:8080/"
        },
        "id": "_KuTfgjEpV2t",
        "outputId": "a7ba0a26-4a9d-4422-b420-d951cd0faa5b"
      },
      "execution_count": 25,
      "outputs": [
        {
          "output_type": "stream",
          "name": "stdout",
          "text": [
            "başlangıç değerini gir: 10\n",
            "66.66666666666667\n"
          ]
        }
      ]
    },
    {
      "cell_type": "code",
      "source": [
        "#öğrenci kayıt programı\n",
        "ogrenciler = []\n",
        "\n",
        "def ogrencikayit():\n",
        "  ad = input(\"Adınız ve soyadınız: \")\n",
        "  ogrenciler.append(ad)\n",
        "  print(ogrenciler)\n",
        "  print(f\"Okulumuza hoş geldin {ad}. Okul Numaran {len(ogrenciler)} \")"
      ],
      "metadata": {
        "id": "Kw7L4mFlsHpt"
      },
      "execution_count": 34,
      "outputs": []
    },
    {
      "cell_type": "code",
      "source": [
        "ogrencikayit()"
      ],
      "metadata": {
        "colab": {
          "base_uri": "https://localhost:8080/"
        },
        "id": "mbnmljHwtuBQ",
        "outputId": "ee405c95-3280-4680-b6ce-43c388f75be5"
      },
      "execution_count": 37,
      "outputs": [
        {
          "output_type": "stream",
          "name": "stdout",
          "text": [
            "Adınız ve soyadınız: Zeynep Sude\n",
            "['Zeynep Sude']\n",
            "Okulumuza hoş geldin Zeynep Sude. Okul Numaran 1 \n"
          ]
        }
      ]
    },
    {
      "cell_type": "code",
      "source": [
        "ogrencikayit()"
      ],
      "metadata": {
        "colab": {
          "base_uri": "https://localhost:8080/"
        },
        "id": "NOXFirGat4HS",
        "outputId": "7ac5d63f-03ae-4324-9ddc-6833348e732a"
      },
      "execution_count": 38,
      "outputs": [
        {
          "output_type": "stream",
          "name": "stdout",
          "text": [
            "Adınız ve soyadınız: Kerem Aymak\n",
            "['Zeynep Sude', 'Kerem Aymak']\n",
            "Okulumuza hoş geldin Kerem Aymak. Okul Numaran 2 \n"
          ]
        }
      ]
    },
    {
      "cell_type": "code",
      "source": [
        "#kareanin alanını hesaplayn fonksiyon\n",
        "def kareninAlani():\n",
        "  print(\"Karenin alanını hesaplıyorsunuz...\")\n",
        "  kenar = int(input(\"Karenin kenarını gir: \"))\n",
        "  alan = kenar**2\n",
        "  print(f\"Girdiğin kenar uzunlğpu: {kenar}. Karenin alanı: {alan} \")"
      ],
      "metadata": {
        "id": "NRAyf3h6ubY5"
      },
      "execution_count": 39,
      "outputs": []
    },
    {
      "cell_type": "code",
      "source": [
        "kareninAlani()"
      ],
      "metadata": {
        "colab": {
          "base_uri": "https://localhost:8080/"
        },
        "id": "y867uSOevJs_",
        "outputId": "af5d8b3a-eac5-44e6-cfc3-b874dafb3c38"
      },
      "execution_count": 40,
      "outputs": [
        {
          "output_type": "stream",
          "name": "stdout",
          "text": [
            "Karenin alanını hesaplıyorsunuz...\n",
            "Karenin kenarını gir: 10\n",
            "Girdiğin kenar uzunlğpu: 10. Karenin alanı: 100 \n"
          ]
        }
      ]
    },
    {
      "cell_type": "code",
      "source": [
        "#geri doğru sayan bir fonksiyon"
      ],
      "metadata": {
        "id": "dThttbP3vh3O"
      },
      "execution_count": null,
      "outputs": []
    },
    {
      "cell_type": "code",
      "source": [
        "def dogumGunu(son_sayi, ad):\n",
        "  while son_sayi >= 0:\n",
        "    print(son_sayi)\n",
        "    son_sayi -=1\n",
        "  print(f\"iyi ki doğdun {ad}\")\n"
      ],
      "metadata": {
        "id": "bBOta7jvvnd3"
      },
      "execution_count": 45,
      "outputs": []
    },
    {
      "cell_type": "code",
      "source": [
        "dogumGunu(10, \"Zeynep\")"
      ],
      "metadata": {
        "colab": {
          "base_uri": "https://localhost:8080/"
        },
        "id": "265pmMTiwbG1",
        "outputId": "e0f8e5f6-ffd2-4f4e-a239-211993cdd4e0"
      },
      "execution_count": 46,
      "outputs": [
        {
          "output_type": "stream",
          "name": "stdout",
          "text": [
            "10\n",
            "9\n",
            "8\n",
            "7\n",
            "6\n",
            "5\n",
            "4\n",
            "3\n",
            "2\n",
            "1\n",
            "0\n",
            "iyi ki doğdun Zeynep\n"
          ]
        }
      ]
    },
    {
      "cell_type": "code",
      "source": [
        "#Modül Kavramı..."
      ],
      "metadata": {
        "id": "7ZjOj-7uw3yS"
      },
      "execution_count": null,
      "outputs": []
    },
    {
      "cell_type": "code",
      "source": [
        "import math"
      ],
      "metadata": {
        "id": "CZ_oavoOxFpG"
      },
      "execution_count": 47,
      "outputs": []
    },
    {
      "cell_type": "code",
      "source": [
        "math.factorial(5)"
      ],
      "metadata": {
        "colab": {
          "base_uri": "https://localhost:8080/"
        },
        "id": "vauNipZSyCbu",
        "outputId": "0e6c61b6-a34a-4980-d2f7-5a8a9ab719ba"
      },
      "execution_count": 49,
      "outputs": [
        {
          "output_type": "execute_result",
          "data": {
            "text/plain": [
              "120"
            ]
          },
          "metadata": {},
          "execution_count": 49
        }
      ]
    },
    {
      "cell_type": "code",
      "source": [
        "math.pow(2,5)"
      ],
      "metadata": {
        "colab": {
          "base_uri": "https://localhost:8080/"
        },
        "id": "OTfQSXTeyRES",
        "outputId": "e068a728-04f1-4eee-8f07-d332e756067b"
      },
      "execution_count": 50,
      "outputs": [
        {
          "output_type": "execute_result",
          "data": {
            "text/plain": [
              "32.0"
            ]
          },
          "metadata": {},
          "execution_count": 50
        }
      ]
    },
    {
      "cell_type": "code",
      "source": [
        "math.sqrt(100)"
      ],
      "metadata": {
        "colab": {
          "base_uri": "https://localhost:8080/"
        },
        "id": "0IhddlQXyXSb",
        "outputId": "fc782554-6a8f-4591-cddb-5a3af02d02a6"
      },
      "execution_count": 51,
      "outputs": [
        {
          "output_type": "execute_result",
          "data": {
            "text/plain": [
              "10.0"
            ]
          },
          "metadata": {},
          "execution_count": 51
        }
      ]
    },
    {
      "cell_type": "code",
      "source": [
        "math.pow(81, 1/4)"
      ],
      "metadata": {
        "colab": {
          "base_uri": "https://localhost:8080/"
        },
        "id": "nRc0j4WgyceM",
        "outputId": "b1db9fed-c425-415e-8f1b-1f352903fead"
      },
      "execution_count": 52,
      "outputs": [
        {
          "output_type": "execute_result",
          "data": {
            "text/plain": [
              "3.0"
            ]
          },
          "metadata": {},
          "execution_count": 52
        }
      ]
    },
    {
      "cell_type": "code",
      "source": [
        "math.pi"
      ],
      "metadata": {
        "colab": {
          "base_uri": "https://localhost:8080/"
        },
        "id": "BN7VtiHRynhi",
        "outputId": "97bbda02-459f-4c11-f9f3-7079a589ecfc"
      },
      "execution_count": 55,
      "outputs": [
        {
          "output_type": "execute_result",
          "data": {
            "text/plain": [
              "3.141592653589793"
            ]
          },
          "metadata": {},
          "execution_count": 55
        }
      ]
    },
    {
      "cell_type": "code",
      "source": [
        "import random"
      ],
      "metadata": {
        "id": "ZhnOnYB4y_86"
      },
      "execution_count": 56,
      "outputs": []
    },
    {
      "cell_type": "code",
      "source": [
        "random.randint(1,100)"
      ],
      "metadata": {
        "colab": {
          "base_uri": "https://localhost:8080/"
        },
        "id": "N2OO92oNz0rD",
        "outputId": "9a874db3-9127-4b34-dc8c-e815686634cd"
      },
      "execution_count": 69,
      "outputs": [
        {
          "output_type": "execute_result",
          "data": {
            "text/plain": [
              "88"
            ]
          },
          "metadata": {},
          "execution_count": 69
        }
      ]
    },
    {
      "cell_type": "code",
      "source": [
        "liste = [\"Kerem\", \"Merve\", \"Hasan\", \"Eren\"]\n",
        "kura = random.choice(liste)\n",
        "print(f\"Şanslı kişi: {kura}\")"
      ],
      "metadata": {
        "colab": {
          "base_uri": "https://localhost:8080/"
        },
        "id": "U2i_UY2Z0O_l",
        "outputId": "680e3477-69eb-4db1-86f9-0cc9f6c95042"
      },
      "execution_count": 70,
      "outputs": [
        {
          "output_type": "stream",
          "name": "stdout",
          "text": [
            "Şanslı kişi: Merve\n"
          ]
        }
      ]
    },
    {
      "cell_type": "code",
      "source": [],
      "metadata": {
        "id": "bK0kifhn0vMA"
      },
      "execution_count": null,
      "outputs": []
    }
  ]
}