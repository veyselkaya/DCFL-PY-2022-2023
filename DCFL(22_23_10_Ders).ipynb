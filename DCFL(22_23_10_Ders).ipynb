{
  "nbformat": 4,
  "nbformat_minor": 0,
  "metadata": {
    "colab": {
      "provenance": []
    },
    "kernelspec": {
      "name": "python3",
      "display_name": "Python 3"
    },
    "language_info": {
      "name": "python"
    }
  },
  "cells": [
    {
      "cell_type": "code",
      "execution_count": null,
      "metadata": {
        "id": "Au_oArxcge7O"
      },
      "outputs": [],
      "source": [
        "#Nesne tabanlı programlama.... OOP"
      ]
    },
    {
      "cell_type": "code",
      "source": [
        "#öğrenci sınıfımız olsun\n",
        "#öğrenci isimli bir veri tipi oluşturalım"
      ],
      "metadata": {
        "id": "PF_3LWEcibGI"
      },
      "execution_count": 1,
      "outputs": []
    },
    {
      "cell_type": "code",
      "source": [
        "class Ogrenci():\n",
        "  ad_soyad = \"Veysel Kaya\"\n",
        "  yas = 10\n",
        "  sinif = \"5A\"\n",
        "  okul = \"DCFL\""
      ],
      "metadata": {
        "id": "8pnSnWf7iem3"
      },
      "execution_count": 2,
      "outputs": []
    },
    {
      "cell_type": "code",
      "source": [
        "#öğrenci1 isimli obje oluşturalım"
      ],
      "metadata": {
        "id": "DDh5oG5TjAuj"
      },
      "execution_count": null,
      "outputs": []
    },
    {
      "cell_type": "code",
      "source": [
        "ogrenci1 = Ogrenci()"
      ],
      "metadata": {
        "id": "vyiN6MK2jF2N"
      },
      "execution_count": 3,
      "outputs": []
    },
    {
      "cell_type": "code",
      "source": [
        "ogrenci1.ad_soyad"
      ],
      "metadata": {
        "colab": {
          "base_uri": "https://localhost:8080/",
          "height": 35
        },
        "id": "XNgs5XSGjK4v",
        "outputId": "4f973884-7543-4c0d-fa76-2faacf588563"
      },
      "execution_count": 4,
      "outputs": [
        {
          "output_type": "execute_result",
          "data": {
            "text/plain": [
              "'Veysel Kaya'"
            ],
            "application/vnd.google.colaboratory.intrinsic+json": {
              "type": "string"
            }
          },
          "metadata": {},
          "execution_count": 4
        }
      ]
    },
    {
      "cell_type": "code",
      "source": [
        "ogrenci1.sinif"
      ],
      "metadata": {
        "colab": {
          "base_uri": "https://localhost:8080/",
          "height": 35
        },
        "id": "PtwHzb8ljTan",
        "outputId": "82f249bc-f37c-4eff-cfeb-1e9c3f12189b"
      },
      "execution_count": 5,
      "outputs": [
        {
          "output_type": "execute_result",
          "data": {
            "text/plain": [
              "'5A'"
            ],
            "application/vnd.google.colaboratory.intrinsic+json": {
              "type": "string"
            }
          },
          "metadata": {},
          "execution_count": 5
        }
      ]
    },
    {
      "cell_type": "code",
      "source": [
        "class Ogrenci():\n",
        "  def __init__(self):\n",
        "    print(\"init fonksiyonu çağrıldı\")"
      ],
      "metadata": {
        "id": "mVopRatJjXBT"
      },
      "execution_count": 6,
      "outputs": []
    },
    {
      "cell_type": "code",
      "source": [
        "class Ogrenci():\n",
        "  def __init__(self, ad_soyad, yas, sinif, okul):\n",
        "    self.ad_soyad = ad_soyad\n",
        "    self.yas = yas\n",
        "    self.sinif= sinif\n",
        "    self.okul = okul"
      ],
      "metadata": {
        "id": "EXBYyzHskV7e"
      },
      "execution_count": 8,
      "outputs": []
    },
    {
      "cell_type": "code",
      "source": [
        "ogrenci1= Ogrenci(\"Beyza Karakuş\", 14, \"10A\", \"DCFL\")"
      ],
      "metadata": {
        "id": "zix_tYAak0cI"
      },
      "execution_count": 9,
      "outputs": []
    },
    {
      "cell_type": "code",
      "source": [
        "ogrenci2= Ogrenci(\"Egemen Kızılkaya\", 14, \"10B\", \"DCFL\")"
      ],
      "metadata": {
        "id": "E316Cg3glJ9F"
      },
      "execution_count": 10,
      "outputs": []
    },
    {
      "cell_type": "code",
      "source": [
        "ogrenci3= Ogrenci(\"Kerem Aymak\", 15, \"9B\", \"DCFL\")"
      ],
      "metadata": {
        "id": "0_levVNSlQIm"
      },
      "execution_count": 11,
      "outputs": []
    },
    {
      "cell_type": "code",
      "source": [
        "ogrenci2.sinif"
      ],
      "metadata": {
        "colab": {
          "base_uri": "https://localhost:8080/",
          "height": 35
        },
        "id": "JuysBkVnlZbG",
        "outputId": "ec9d70d4-e510-4416-f376-9a9c4b7aee44"
      },
      "execution_count": 12,
      "outputs": [
        {
          "output_type": "execute_result",
          "data": {
            "text/plain": [
              "'10B'"
            ],
            "application/vnd.google.colaboratory.intrinsic+json": {
              "type": "string"
            }
          },
          "metadata": {},
          "execution_count": 12
        }
      ]
    },
    {
      "cell_type": "code",
      "source": [
        "ogrenci3.okul"
      ],
      "metadata": {
        "colab": {
          "base_uri": "https://localhost:8080/",
          "height": 35
        },
        "id": "yJIO00EDlnMR",
        "outputId": "66755f68-dde5-4a46-a4f6-18d8a09acc4a"
      },
      "execution_count": 13,
      "outputs": [
        {
          "output_type": "execute_result",
          "data": {
            "text/plain": [
              "'DCFL'"
            ],
            "application/vnd.google.colaboratory.intrinsic+json": {
              "type": "string"
            }
          },
          "metadata": {},
          "execution_count": 13
        }
      ]
    },
    {
      "cell_type": "code",
      "source": [
        "#Kitap Classı oluşturalım"
      ],
      "metadata": {
        "id": "rlVWnQ9Cl5Mi"
      },
      "execution_count": null,
      "outputs": []
    },
    {
      "cell_type": "code",
      "source": [
        "class Kitap():\n",
        "  def __init__(self, isim, yazar, sayfa_sayisi, tur, basim_tarihi, fiyat):\n",
        "    print(\"Kitap objesi oluştururluyor...\")\n",
        "    self.isim = isim\n",
        "    self.yazar = yazar\n",
        "    self.sayfa_sayisi= sayfa_sayisi\n",
        "    self.tur= tur\n",
        "    self.basim_tarihi= basim_tarihi\n",
        "    self.fiyat = fiyat"
      ],
      "metadata": {
        "id": "t63SQm5WmnHQ"
      },
      "execution_count": 14,
      "outputs": []
    },
    {
      "cell_type": "code",
      "source": [
        "kitap1 = Kitap(\"Suç ve ceza\", \"Tostoy\", 400, \"Psikoloji Roman\", 1820, \"100₺\" )"
      ],
      "metadata": {
        "colab": {
          "base_uri": "https://localhost:8080/"
        },
        "id": "MHuKe81dnNXZ",
        "outputId": "99a68e66-742b-4235-d11f-45a614ae7c1d"
      },
      "execution_count": 18,
      "outputs": [
        {
          "output_type": "stream",
          "name": "stdout",
          "text": [
            "Kitap objesi oluştururluyor...\n"
          ]
        }
      ]
    },
    {
      "cell_type": "code",
      "source": [
        "kitap2 = Kitap(\"Sefiller\", \"Victor Hugo\", 300, \"Roman\", 1900, \"120₺\" )"
      ],
      "metadata": {
        "colab": {
          "base_uri": "https://localhost:8080/"
        },
        "id": "w1DXwBW6nofi",
        "outputId": "b44562ea-0cb6-4db1-a93c-db3319e7bc11"
      },
      "execution_count": 17,
      "outputs": [
        {
          "output_type": "stream",
          "name": "stdout",
          "text": [
            "Kitap objesi oluştururluyor...\n"
          ]
        }
      ]
    },
    {
      "cell_type": "code",
      "source": [
        "kitap2.fiyat"
      ],
      "metadata": {
        "colab": {
          "base_uri": "https://localhost:8080/",
          "height": 35
        },
        "id": "oJazCh3hn8mn",
        "outputId": "3bae8012-fad5-4ce6-c49f-36df5f7e50cf"
      },
      "execution_count": 19,
      "outputs": [
        {
          "output_type": "execute_result",
          "data": {
            "text/plain": [
              "'120₺'"
            ],
            "application/vnd.google.colaboratory.intrinsic+json": {
              "type": "string"
            }
          },
          "metadata": {},
          "execution_count": 19
        }
      ]
    },
    {
      "cell_type": "code",
      "source": [
        "#class ları kullanarak 10 soruluk bir bilgi yarışması hazırlayın...! (soru_numarasi, soru, cevap, puan, bekleme_suresi)"
      ],
      "metadata": {
        "id": "6uwFcTHEqoFi"
      },
      "execution_count": null,
      "outputs": []
    },
    {
      "cell_type": "code",
      "source": [
        "#myString = \"Doğan Cüceloğlu Fen Lisesi\"\n",
        "#newString=\"dOğAn cÜcElOğLu fEn lİsEsİ\""
      ],
      "metadata": {
        "id": "SoKDFSwArEaO"
      },
      "execution_count": null,
      "outputs": []
    },
    {
      "cell_type": "code",
      "source": [
        "def degistir(myString):\n",
        "  degisen = \"\"\n",
        "  for i in range(len(myString)):\n",
        "    if i %2 == 1:\n",
        "      degisen +=myString[i].upper()\n",
        "    else:\n",
        "      degisen +=myString[i].lower()\n",
        "  return degisen"
      ],
      "metadata": {
        "id": "wVk7Lzu4sEAl"
      },
      "execution_count": 23,
      "outputs": []
    },
    {
      "cell_type": "code",
      "source": [
        "degistir(\"doğan düceloğlu fen lisesi\")"
      ],
      "metadata": {
        "colab": {
          "base_uri": "https://localhost:8080/",
          "height": 35
        },
        "id": "EG37kECgs1G1",
        "outputId": "1b251494-9591-45e6-8ee6-7e3166cae1d6"
      },
      "execution_count": 24,
      "outputs": [
        {
          "output_type": "execute_result",
          "data": {
            "text/plain": [
              "'dOğAn dÜcElOğLu fEn lIsEsI'"
            ],
            "application/vnd.google.colaboratory.intrinsic+json": {
              "type": "string"
            }
          },
          "metadata": {},
          "execution_count": 24
        }
      ]
    },
    {
      "cell_type": "code",
      "source": [
        "#password oluşturma"
      ],
      "metadata": {
        "id": "BrHrNhEXtby4"
      },
      "execution_count": null,
      "outputs": []
    },
    {
      "cell_type": "code",
      "source": [
        "import secrets, string\n",
        "\n",
        "uzunluk = 15\n",
        "sablon = string.ascii_letters + string.digits + '!@#ş%&-+{'\n",
        "\n",
        "password = ''.join(secrets.choice(sablon) for i in range(uzunluk))\n",
        "\n",
        "print(password)"
      ],
      "metadata": {
        "colab": {
          "base_uri": "https://localhost:8080/"
        },
        "id": "_So5L0oetfrf",
        "outputId": "e45034a3-16e5-41be-bad1-96777ce39b26"
      },
      "execution_count": 53,
      "outputs": [
        {
          "output_type": "stream",
          "name": "stdout",
          "text": [
            "nXXGfoaeGv7psy-\n"
          ]
        }
      ]
    }
  ]
}